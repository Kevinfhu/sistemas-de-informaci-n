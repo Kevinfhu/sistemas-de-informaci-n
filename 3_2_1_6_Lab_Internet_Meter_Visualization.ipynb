{
  "cells": [
    {
      "cell_type": "markdown",
      "metadata": {
        "id": "view-in-github",
        "colab_type": "text"
      },
      "source": [
        "<a href=\"https://colab.research.google.com/github/Kevinfhu/sistemas-de-informaci-n/blob/main/3_2_1_6_Lab_Internet_Meter_Visualization.ipynb\" target=\"_parent\"><img src=\"https://colab.research.google.com/assets/colab-badge.svg\" alt=\"Open In Colab\"/></a>"
      ]
    },
    {
      "cell_type": "markdown",
      "metadata": {
        "id": "o9CUJ7kB8MQ7"
      },
      "source": [
        "![Título](Images/cisco.png)"
      ]
    },
    {
      "cell_type": "markdown",
      "metadata": {
        "id": "d0lDaoSJ8MRC"
      },
      "source": [
        "# Práctica de laboratorio: Visualización del contador de Internet"
      ]
    },
    {
      "cell_type": "markdown",
      "metadata": {
        "id": "6hvLuz8i8MRE"
      },
      "source": [
        "### Objetivos\n",
        "<li>** Parte 1: Limpieza y análisis de datos **</li>\n",
        "<li>** Parte 2: Visualización de datos **</li>\n",
        "### Aspectos básicos/situación\n",
        "En esta práctica de laboratorio, aprenderá a utilizar la biblioteca 'pandas' para seguir los pasos preliminares que son necesarios antes de realizar cualquier análisis de datos. Esto incluye la eliminación de valores faltantes, el cambio de formato de datos y la ejecución de análisis estadístico preliminar. \n",
        "Después de limpiar los datos, utilizará 'matplotlib' para la exploración y visualización de datos.\n",
        "\n",
        "### Recursos necesarios\n",
        "* 1 computadora con acceso a Internet\n",
        "* Raspberry Pi versión 2 o superior\n",
        "* Bibliotecas de Python: datetime, csv, subprocess, pandas, numpy\n",
        "* Archivos de datos: data_long.csv"
      ]
    },
    {
      "cell_type": "markdown",
      "metadata": {
        "id": "OXt3UG-Q8MRG"
      },
      "source": [
        "## Parte 1: Limpieza y análisis de datos\n",
        "\n",
        "Se dice a veces que quienes practican el aprendizaje automático dedican el 80 % de su tiempo a la limpieza de datos. Si bien esta afirmación es probablemente una exageración, es verdad que la limpieza de datos es una tarea fundamental y necesaria para garantizar el éxito de un proyecto de aprendizaje automático. Como en muchas otras líneas de trabajo, se aplica la ley «basura que entra, basura que sale». Simplemente, no es posible realizar un análisis significativo de datos en datos sucios. \n",
        "\n",
        "#### Paso 1: Limpieza de datos.\n",
        "\n",
        "Cargue los datos del archivo 'rpi_data_compact.csv'. Este archivo contiene las mediciones de la velocidad de Internet adquiridas durante la práctica de laboratorio Internet_Speed_Data_Acquisition. En particular, el enfoque se encuentra en tres cantidades: tiempo de ping (ms), velocidad de descarga (Mbit/s) y velocidad de carga (Mbit/s). "
      ]
    },
    {
      "cell_type": "markdown",
      "metadata": {
        "id": "7JSYUH_W8MRH"
      },
      "source": [
        "###### a) Lea los datos de 'rpi_data_compact.csv'."
      ]
    },
    {
      "cell_type": "markdown",
      "metadata": {
        "id": "P1DXRbKn8MRI"
      },
      "source": [
        "Lea el archivo './Data/rpi_data_compact.csv' dentro de la estructura de datos de Pandas llamada 'df_compact' y examine las tres primeras filas de esta estructura de datos a través de 'df.head'. "
      ]
    },
    {
      "cell_type": "code",
      "execution_count": null,
      "metadata": {
        "id": "JFrqJeWC8MRJ"
      },
      "outputs": [],
      "source": [
        "# Code Cell 1\n",
        "import pandas as pd\n",
        "import numpy as np"
      ]
    },
    {
      "cell_type": "code",
      "execution_count": null,
      "metadata": {
        "colab": {
          "base_uri": "https://localhost:8080/",
          "height": 144
        },
        "id": "-I_GE2Jm8MRM",
        "outputId": "e37472dd-6e79-4763-da8e-de5a8e663493"
      },
      "outputs": [
        {
          "output_type": "execute_result",
          "data": {
            "text/plain": [
              "   Unnamed: 0 Ping (ms) Download (Mbit/s)  Upload (Mbit/s)        Date  \\\n",
              "0           0    26.992             91.80            14.31  2016-11-24   \n",
              "1           1    24.532             88.19            14.12  2016-11-24   \n",
              "2           2    20.225             59.86            14.11  2016-11-24   \n",
              "\n",
              "       Time  \n",
              "0  13:36:25  \n",
              "1  13:36:55  \n",
              "2  13:37:25  "
            ],
            "text/html": [
              "\n",
              "  <div id=\"df-82599389-481e-49b4-9155-6088f7be842d\">\n",
              "    <div class=\"colab-df-container\">\n",
              "      <div>\n",
              "<style scoped>\n",
              "    .dataframe tbody tr th:only-of-type {\n",
              "        vertical-align: middle;\n",
              "    }\n",
              "\n",
              "    .dataframe tbody tr th {\n",
              "        vertical-align: top;\n",
              "    }\n",
              "\n",
              "    .dataframe thead th {\n",
              "        text-align: right;\n",
              "    }\n",
              "</style>\n",
              "<table border=\"1\" class=\"dataframe\">\n",
              "  <thead>\n",
              "    <tr style=\"text-align: right;\">\n",
              "      <th></th>\n",
              "      <th>Unnamed: 0</th>\n",
              "      <th>Ping (ms)</th>\n",
              "      <th>Download (Mbit/s)</th>\n",
              "      <th>Upload (Mbit/s)</th>\n",
              "      <th>Date</th>\n",
              "      <th>Time</th>\n",
              "    </tr>\n",
              "  </thead>\n",
              "  <tbody>\n",
              "    <tr>\n",
              "      <th>0</th>\n",
              "      <td>0</td>\n",
              "      <td>26.992</td>\n",
              "      <td>91.80</td>\n",
              "      <td>14.31</td>\n",
              "      <td>2016-11-24</td>\n",
              "      <td>13:36:25</td>\n",
              "    </tr>\n",
              "    <tr>\n",
              "      <th>1</th>\n",
              "      <td>1</td>\n",
              "      <td>24.532</td>\n",
              "      <td>88.19</td>\n",
              "      <td>14.12</td>\n",
              "      <td>2016-11-24</td>\n",
              "      <td>13:36:55</td>\n",
              "    </tr>\n",
              "    <tr>\n",
              "      <th>2</th>\n",
              "      <td>2</td>\n",
              "      <td>20.225</td>\n",
              "      <td>59.86</td>\n",
              "      <td>14.11</td>\n",
              "      <td>2016-11-24</td>\n",
              "      <td>13:37:25</td>\n",
              "    </tr>\n",
              "  </tbody>\n",
              "</table>\n",
              "</div>\n",
              "      <button class=\"colab-df-convert\" onclick=\"convertToInteractive('df-82599389-481e-49b4-9155-6088f7be842d')\"\n",
              "              title=\"Convert this dataframe to an interactive table.\"\n",
              "              style=\"display:none;\">\n",
              "        \n",
              "  <svg xmlns=\"http://www.w3.org/2000/svg\" height=\"24px\"viewBox=\"0 0 24 24\"\n",
              "       width=\"24px\">\n",
              "    <path d=\"M0 0h24v24H0V0z\" fill=\"none\"/>\n",
              "    <path d=\"M18.56 5.44l.94 2.06.94-2.06 2.06-.94-2.06-.94-.94-2.06-.94 2.06-2.06.94zm-11 1L8.5 8.5l.94-2.06 2.06-.94-2.06-.94L8.5 2.5l-.94 2.06-2.06.94zm10 10l.94 2.06.94-2.06 2.06-.94-2.06-.94-.94-2.06-.94 2.06-2.06.94z\"/><path d=\"M17.41 7.96l-1.37-1.37c-.4-.4-.92-.59-1.43-.59-.52 0-1.04.2-1.43.59L10.3 9.45l-7.72 7.72c-.78.78-.78 2.05 0 2.83L4 21.41c.39.39.9.59 1.41.59.51 0 1.02-.2 1.41-.59l7.78-7.78 2.81-2.81c.8-.78.8-2.07 0-2.86zM5.41 20L4 18.59l7.72-7.72 1.47 1.35L5.41 20z\"/>\n",
              "  </svg>\n",
              "      </button>\n",
              "      \n",
              "  <style>\n",
              "    .colab-df-container {\n",
              "      display:flex;\n",
              "      flex-wrap:wrap;\n",
              "      gap: 12px;\n",
              "    }\n",
              "\n",
              "    .colab-df-convert {\n",
              "      background-color: #E8F0FE;\n",
              "      border: none;\n",
              "      border-radius: 50%;\n",
              "      cursor: pointer;\n",
              "      display: none;\n",
              "      fill: #1967D2;\n",
              "      height: 32px;\n",
              "      padding: 0 0 0 0;\n",
              "      width: 32px;\n",
              "    }\n",
              "\n",
              "    .colab-df-convert:hover {\n",
              "      background-color: #E2EBFA;\n",
              "      box-shadow: 0px 1px 2px rgba(60, 64, 67, 0.3), 0px 1px 3px 1px rgba(60, 64, 67, 0.15);\n",
              "      fill: #174EA6;\n",
              "    }\n",
              "\n",
              "    [theme=dark] .colab-df-convert {\n",
              "      background-color: #3B4455;\n",
              "      fill: #D2E3FC;\n",
              "    }\n",
              "\n",
              "    [theme=dark] .colab-df-convert:hover {\n",
              "      background-color: #434B5C;\n",
              "      box-shadow: 0px 1px 3px 1px rgba(0, 0, 0, 0.15);\n",
              "      filter: drop-shadow(0px 1px 2px rgba(0, 0, 0, 0.3));\n",
              "      fill: #FFFFFF;\n",
              "    }\n",
              "  </style>\n",
              "\n",
              "      <script>\n",
              "        const buttonEl =\n",
              "          document.querySelector('#df-82599389-481e-49b4-9155-6088f7be842d button.colab-df-convert');\n",
              "        buttonEl.style.display =\n",
              "          google.colab.kernel.accessAllowed ? 'block' : 'none';\n",
              "\n",
              "        async function convertToInteractive(key) {\n",
              "          const element = document.querySelector('#df-82599389-481e-49b4-9155-6088f7be842d');\n",
              "          const dataTable =\n",
              "            await google.colab.kernel.invokeFunction('convertToInteractive',\n",
              "                                                     [key], {});\n",
              "          if (!dataTable) return;\n",
              "\n",
              "          const docLinkHtml = 'Like what you see? Visit the ' +\n",
              "            '<a target=\"_blank\" href=https://colab.research.google.com/notebooks/data_table.ipynb>data table notebook</a>'\n",
              "            + ' to learn more about interactive tables.';\n",
              "          element.innerHTML = '';\n",
              "          dataTable['output_type'] = 'display_data';\n",
              "          await google.colab.output.renderOutput(dataTable, element);\n",
              "          const docLink = document.createElement('div');\n",
              "          docLink.innerHTML = docLinkHtml;\n",
              "          element.appendChild(docLink);\n",
              "        }\n",
              "      </script>\n",
              "    </div>\n",
              "  </div>\n",
              "  "
            ]
          },
          "metadata": {},
          "execution_count": 5
        }
      ],
      "source": [
        "# Code Cell 2\n",
        "# Import data from csv file, and visualize the first rows\n",
        "df_compact = pd.read_csv( '/content/rpi_data_compact.csv')\n",
        "df_compact.head(3)"
      ]
    },
    {
      "cell_type": "markdown",
      "metadata": {
        "id": "2Wd7IqB08MRO"
      },
      "source": [
        "###### b) Elimine las columnas no deseadas.\n",
        "\n",
        "Como puede haber notado, la estructura de datos 'df_compact' tiene una columna adicional. Utilice el comando 'df.drop' para eliminar esta columna. Observe la práctica de laboratorio Internet_Speed_Data_Acquisition para obtener ayuda."
      ]
    },
    {
      "cell_type": "code",
      "execution_count": null,
      "metadata": {
        "id": "KncRJwEC8MRP"
      },
      "outputs": [],
      "source": [
        "# Code Cell 3\n",
        "# Remove extra index columns\n",
        "df_compact.drop(['Unnamed: 0'], axis = 1, inplace = True)"
      ]
    },
    {
      "cell_type": "code",
      "execution_count": null,
      "metadata": {
        "colab": {
          "base_uri": "https://localhost:8080/",
          "height": 144
        },
        "id": "MLsGxEam8MRQ",
        "outputId": "c1c11213-2c8a-45f5-c3ef-ad7d0544178a"
      },
      "outputs": [
        {
          "output_type": "execute_result",
          "data": {
            "text/plain": [
              "  Ping (ms) Download (Mbit/s)  Upload (Mbit/s)        Date      Time\n",
              "0    26.992             91.80            14.31  2016-11-24  13:36:25\n",
              "1    24.532             88.19            14.12  2016-11-24  13:36:55\n",
              "2    20.225             59.86            14.11  2016-11-24  13:37:25"
            ],
            "text/html": [
              "\n",
              "  <div id=\"df-668c4a79-cf91-4d86-9cb9-7044329fc48e\">\n",
              "    <div class=\"colab-df-container\">\n",
              "      <div>\n",
              "<style scoped>\n",
              "    .dataframe tbody tr th:only-of-type {\n",
              "        vertical-align: middle;\n",
              "    }\n",
              "\n",
              "    .dataframe tbody tr th {\n",
              "        vertical-align: top;\n",
              "    }\n",
              "\n",
              "    .dataframe thead th {\n",
              "        text-align: right;\n",
              "    }\n",
              "</style>\n",
              "<table border=\"1\" class=\"dataframe\">\n",
              "  <thead>\n",
              "    <tr style=\"text-align: right;\">\n",
              "      <th></th>\n",
              "      <th>Ping (ms)</th>\n",
              "      <th>Download (Mbit/s)</th>\n",
              "      <th>Upload (Mbit/s)</th>\n",
              "      <th>Date</th>\n",
              "      <th>Time</th>\n",
              "    </tr>\n",
              "  </thead>\n",
              "  <tbody>\n",
              "    <tr>\n",
              "      <th>0</th>\n",
              "      <td>26.992</td>\n",
              "      <td>91.80</td>\n",
              "      <td>14.31</td>\n",
              "      <td>2016-11-24</td>\n",
              "      <td>13:36:25</td>\n",
              "    </tr>\n",
              "    <tr>\n",
              "      <th>1</th>\n",
              "      <td>24.532</td>\n",
              "      <td>88.19</td>\n",
              "      <td>14.12</td>\n",
              "      <td>2016-11-24</td>\n",
              "      <td>13:36:55</td>\n",
              "    </tr>\n",
              "    <tr>\n",
              "      <th>2</th>\n",
              "      <td>20.225</td>\n",
              "      <td>59.86</td>\n",
              "      <td>14.11</td>\n",
              "      <td>2016-11-24</td>\n",
              "      <td>13:37:25</td>\n",
              "    </tr>\n",
              "  </tbody>\n",
              "</table>\n",
              "</div>\n",
              "      <button class=\"colab-df-convert\" onclick=\"convertToInteractive('df-668c4a79-cf91-4d86-9cb9-7044329fc48e')\"\n",
              "              title=\"Convert this dataframe to an interactive table.\"\n",
              "              style=\"display:none;\">\n",
              "        \n",
              "  <svg xmlns=\"http://www.w3.org/2000/svg\" height=\"24px\"viewBox=\"0 0 24 24\"\n",
              "       width=\"24px\">\n",
              "    <path d=\"M0 0h24v24H0V0z\" fill=\"none\"/>\n",
              "    <path d=\"M18.56 5.44l.94 2.06.94-2.06 2.06-.94-2.06-.94-.94-2.06-.94 2.06-2.06.94zm-11 1L8.5 8.5l.94-2.06 2.06-.94-2.06-.94L8.5 2.5l-.94 2.06-2.06.94zm10 10l.94 2.06.94-2.06 2.06-.94-2.06-.94-.94-2.06-.94 2.06-2.06.94z\"/><path d=\"M17.41 7.96l-1.37-1.37c-.4-.4-.92-.59-1.43-.59-.52 0-1.04.2-1.43.59L10.3 9.45l-7.72 7.72c-.78.78-.78 2.05 0 2.83L4 21.41c.39.39.9.59 1.41.59.51 0 1.02-.2 1.41-.59l7.78-7.78 2.81-2.81c.8-.78.8-2.07 0-2.86zM5.41 20L4 18.59l7.72-7.72 1.47 1.35L5.41 20z\"/>\n",
              "  </svg>\n",
              "      </button>\n",
              "      \n",
              "  <style>\n",
              "    .colab-df-container {\n",
              "      display:flex;\n",
              "      flex-wrap:wrap;\n",
              "      gap: 12px;\n",
              "    }\n",
              "\n",
              "    .colab-df-convert {\n",
              "      background-color: #E8F0FE;\n",
              "      border: none;\n",
              "      border-radius: 50%;\n",
              "      cursor: pointer;\n",
              "      display: none;\n",
              "      fill: #1967D2;\n",
              "      height: 32px;\n",
              "      padding: 0 0 0 0;\n",
              "      width: 32px;\n",
              "    }\n",
              "\n",
              "    .colab-df-convert:hover {\n",
              "      background-color: #E2EBFA;\n",
              "      box-shadow: 0px 1px 2px rgba(60, 64, 67, 0.3), 0px 1px 3px 1px rgba(60, 64, 67, 0.15);\n",
              "      fill: #174EA6;\n",
              "    }\n",
              "\n",
              "    [theme=dark] .colab-df-convert {\n",
              "      background-color: #3B4455;\n",
              "      fill: #D2E3FC;\n",
              "    }\n",
              "\n",
              "    [theme=dark] .colab-df-convert:hover {\n",
              "      background-color: #434B5C;\n",
              "      box-shadow: 0px 1px 3px 1px rgba(0, 0, 0, 0.15);\n",
              "      filter: drop-shadow(0px 1px 2px rgba(0, 0, 0, 0.3));\n",
              "      fill: #FFFFFF;\n",
              "    }\n",
              "  </style>\n",
              "\n",
              "      <script>\n",
              "        const buttonEl =\n",
              "          document.querySelector('#df-668c4a79-cf91-4d86-9cb9-7044329fc48e button.colab-df-convert');\n",
              "        buttonEl.style.display =\n",
              "          google.colab.kernel.accessAllowed ? 'block' : 'none';\n",
              "\n",
              "        async function convertToInteractive(key) {\n",
              "          const element = document.querySelector('#df-668c4a79-cf91-4d86-9cb9-7044329fc48e');\n",
              "          const dataTable =\n",
              "            await google.colab.kernel.invokeFunction('convertToInteractive',\n",
              "                                                     [key], {});\n",
              "          if (!dataTable) return;\n",
              "\n",
              "          const docLinkHtml = 'Like what you see? Visit the ' +\n",
              "            '<a target=\"_blank\" href=https://colab.research.google.com/notebooks/data_table.ipynb>data table notebook</a>'\n",
              "            + ' to learn more about interactive tables.';\n",
              "          element.innerHTML = '';\n",
              "          dataTable['output_type'] = 'display_data';\n",
              "          await google.colab.output.renderOutput(dataTable, element);\n",
              "          const docLink = document.createElement('div');\n",
              "          docLink.innerHTML = docLinkHtml;\n",
              "          element.appendChild(docLink);\n",
              "        }\n",
              "      </script>\n",
              "    </div>\n",
              "  </div>\n",
              "  "
            ]
          },
          "metadata": {},
          "execution_count": 7
        }
      ],
      "source": [
        "# Eliminado la columna \n",
        "df_compact.head(3)"
      ]
    },
    {
      "cell_type": "markdown",
      "metadata": {
        "id": "iOxUKGZC8MRR"
      },
      "source": [
        "###### c) Elimine los valores 'NaNs'.\n",
        "\n",
        "Un problema típico que afecta la calidad de los datos es la presencia de valores 'NaN'. Estos valores pueden hacer que las funciones de análisis de datos finalicen el cálculo de forma abrupta, arrojen un error o generen resultados incorrectos. Generalmente, los valores NaN representan una porción de información que el conjunto de datos debe contener pero no contiene. \n",
        "En este ejemplo, los valores 'NaN' en 'df_compact' pueden representar las mediciones donde cayó la conexión de Internet o las consultas de Raspberry Pi que el servidor 'Speedtest.net' no pudo responder. El siguiente código revela cuántos valores 'NaN' contiene nuestra estructura de datos. "
      ]
    },
    {
      "cell_type": "markdown",
      "metadata": {
        "id": "sl_pdHH38MRS"
      },
      "source": [
        "Primero, vaya a http://pandas.pydata.org/pandas-docs/version/0.14.1/index.html y busque 'isnull' en el cuadro de búsqueda. ![Image](Images/pandas_screenshot.png)"
      ]
    },
    {
      "cell_type": "markdown",
      "metadata": {
        "id": "-o2heICm8MRT"
      },
      "source": [
        "La documentación de la función 'isnull' es un poco difícil de comprender. Afortunadamente, la interfaz interactiva de Jupyter nos permite activar esta función y examinar rápidamente su resultado."
      ]
    },
    {
      "cell_type": "code",
      "execution_count": null,
      "metadata": {
        "colab": {
          "base_uri": "https://localhost:8080/",
          "height": 224
        },
        "id": "2ghCHk__8MRT",
        "outputId": "3be93943-9ad7-482c-da24-6bc79c7856ac"
      },
      "outputs": [
        {
          "output_type": "stream",
          "name": "stdout",
          "text": [
            "<class 'pandas.core.frame.DataFrame'>\n"
          ]
        },
        {
          "output_type": "execute_result",
          "data": {
            "text/plain": [
              "   Ping (ms)  Download (Mbit/s)  Upload (Mbit/s)   Date   Time\n",
              "0      False              False            False  False  False\n",
              "1      False              False            False  False  False\n",
              "2      False              False            False  False  False\n",
              "3      False              False            False  False  False\n",
              "4      False              False            False  False  False"
            ],
            "text/html": [
              "\n",
              "  <div id=\"df-3cdcfd9c-b3cd-409b-996f-86ecc3754e46\">\n",
              "    <div class=\"colab-df-container\">\n",
              "      <div>\n",
              "<style scoped>\n",
              "    .dataframe tbody tr th:only-of-type {\n",
              "        vertical-align: middle;\n",
              "    }\n",
              "\n",
              "    .dataframe tbody tr th {\n",
              "        vertical-align: top;\n",
              "    }\n",
              "\n",
              "    .dataframe thead th {\n",
              "        text-align: right;\n",
              "    }\n",
              "</style>\n",
              "<table border=\"1\" class=\"dataframe\">\n",
              "  <thead>\n",
              "    <tr style=\"text-align: right;\">\n",
              "      <th></th>\n",
              "      <th>Ping (ms)</th>\n",
              "      <th>Download (Mbit/s)</th>\n",
              "      <th>Upload (Mbit/s)</th>\n",
              "      <th>Date</th>\n",
              "      <th>Time</th>\n",
              "    </tr>\n",
              "  </thead>\n",
              "  <tbody>\n",
              "    <tr>\n",
              "      <th>0</th>\n",
              "      <td>False</td>\n",
              "      <td>False</td>\n",
              "      <td>False</td>\n",
              "      <td>False</td>\n",
              "      <td>False</td>\n",
              "    </tr>\n",
              "    <tr>\n",
              "      <th>1</th>\n",
              "      <td>False</td>\n",
              "      <td>False</td>\n",
              "      <td>False</td>\n",
              "      <td>False</td>\n",
              "      <td>False</td>\n",
              "    </tr>\n",
              "    <tr>\n",
              "      <th>2</th>\n",
              "      <td>False</td>\n",
              "      <td>False</td>\n",
              "      <td>False</td>\n",
              "      <td>False</td>\n",
              "      <td>False</td>\n",
              "    </tr>\n",
              "    <tr>\n",
              "      <th>3</th>\n",
              "      <td>False</td>\n",
              "      <td>False</td>\n",
              "      <td>False</td>\n",
              "      <td>False</td>\n",
              "      <td>False</td>\n",
              "    </tr>\n",
              "    <tr>\n",
              "      <th>4</th>\n",
              "      <td>False</td>\n",
              "      <td>False</td>\n",
              "      <td>False</td>\n",
              "      <td>False</td>\n",
              "      <td>False</td>\n",
              "    </tr>\n",
              "  </tbody>\n",
              "</table>\n",
              "</div>\n",
              "      <button class=\"colab-df-convert\" onclick=\"convertToInteractive('df-3cdcfd9c-b3cd-409b-996f-86ecc3754e46')\"\n",
              "              title=\"Convert this dataframe to an interactive table.\"\n",
              "              style=\"display:none;\">\n",
              "        \n",
              "  <svg xmlns=\"http://www.w3.org/2000/svg\" height=\"24px\"viewBox=\"0 0 24 24\"\n",
              "       width=\"24px\">\n",
              "    <path d=\"M0 0h24v24H0V0z\" fill=\"none\"/>\n",
              "    <path d=\"M18.56 5.44l.94 2.06.94-2.06 2.06-.94-2.06-.94-.94-2.06-.94 2.06-2.06.94zm-11 1L8.5 8.5l.94-2.06 2.06-.94-2.06-.94L8.5 2.5l-.94 2.06-2.06.94zm10 10l.94 2.06.94-2.06 2.06-.94-2.06-.94-.94-2.06-.94 2.06-2.06.94z\"/><path d=\"M17.41 7.96l-1.37-1.37c-.4-.4-.92-.59-1.43-.59-.52 0-1.04.2-1.43.59L10.3 9.45l-7.72 7.72c-.78.78-.78 2.05 0 2.83L4 21.41c.39.39.9.59 1.41.59.51 0 1.02-.2 1.41-.59l7.78-7.78 2.81-2.81c.8-.78.8-2.07 0-2.86zM5.41 20L4 18.59l7.72-7.72 1.47 1.35L5.41 20z\"/>\n",
              "  </svg>\n",
              "      </button>\n",
              "      \n",
              "  <style>\n",
              "    .colab-df-container {\n",
              "      display:flex;\n",
              "      flex-wrap:wrap;\n",
              "      gap: 12px;\n",
              "    }\n",
              "\n",
              "    .colab-df-convert {\n",
              "      background-color: #E8F0FE;\n",
              "      border: none;\n",
              "      border-radius: 50%;\n",
              "      cursor: pointer;\n",
              "      display: none;\n",
              "      fill: #1967D2;\n",
              "      height: 32px;\n",
              "      padding: 0 0 0 0;\n",
              "      width: 32px;\n",
              "    }\n",
              "\n",
              "    .colab-df-convert:hover {\n",
              "      background-color: #E2EBFA;\n",
              "      box-shadow: 0px 1px 2px rgba(60, 64, 67, 0.3), 0px 1px 3px 1px rgba(60, 64, 67, 0.15);\n",
              "      fill: #174EA6;\n",
              "    }\n",
              "\n",
              "    [theme=dark] .colab-df-convert {\n",
              "      background-color: #3B4455;\n",
              "      fill: #D2E3FC;\n",
              "    }\n",
              "\n",
              "    [theme=dark] .colab-df-convert:hover {\n",
              "      background-color: #434B5C;\n",
              "      box-shadow: 0px 1px 3px 1px rgba(0, 0, 0, 0.15);\n",
              "      filter: drop-shadow(0px 1px 2px rgba(0, 0, 0, 0.3));\n",
              "      fill: #FFFFFF;\n",
              "    }\n",
              "  </style>\n",
              "\n",
              "      <script>\n",
              "        const buttonEl =\n",
              "          document.querySelector('#df-3cdcfd9c-b3cd-409b-996f-86ecc3754e46 button.colab-df-convert');\n",
              "        buttonEl.style.display =\n",
              "          google.colab.kernel.accessAllowed ? 'block' : 'none';\n",
              "\n",
              "        async function convertToInteractive(key) {\n",
              "          const element = document.querySelector('#df-3cdcfd9c-b3cd-409b-996f-86ecc3754e46');\n",
              "          const dataTable =\n",
              "            await google.colab.kernel.invokeFunction('convertToInteractive',\n",
              "                                                     [key], {});\n",
              "          if (!dataTable) return;\n",
              "\n",
              "          const docLinkHtml = 'Like what you see? Visit the ' +\n",
              "            '<a target=\"_blank\" href=https://colab.research.google.com/notebooks/data_table.ipynb>data table notebook</a>'\n",
              "            + ' to learn more about interactive tables.';\n",
              "          element.innerHTML = '';\n",
              "          dataTable['output_type'] = 'display_data';\n",
              "          await google.colab.output.renderOutput(dataTable, element);\n",
              "          const docLink = document.createElement('div');\n",
              "          docLink.innerHTML = docLinkHtml;\n",
              "          element.appendChild(docLink);\n",
              "        }\n",
              "      </script>\n",
              "    </div>\n",
              "  </div>\n",
              "  "
            ]
          },
          "metadata": {},
          "execution_count": 8
        }
      ],
      "source": [
        "# Code Cell 4\n",
        "NaNs_in_df = df_compact.isnull()\n",
        "print(type(NaNs_in_df))\n",
        "NaNs_in_df.head()\n"
      ]
    },
    {
      "cell_type": "markdown",
      "metadata": {
        "id": "WL0W9ROo8MRU"
      },
      "source": [
        "El resultado de la función 'isnull' es un nuevo marco de datos que contiene un valor 'True' o 'False' si el elemento correspondiente de la Estructura de datos es 'NaN' o no. Con la función 'sum' de esta Estructura de datos convertirá automáticamente los valores 'True' en 1 y 'False' en 0.  "
      ]
    },
    {
      "cell_type": "code",
      "execution_count": null,
      "metadata": {
        "colab": {
          "base_uri": "https://localhost:8080/"
        },
        "id": "BJ01VEcx8MRV",
        "outputId": "e864a1e1-4a04-4f19-ea69-92dcc4314353"
      },
      "outputs": [
        {
          "output_type": "stream",
          "name": "stdout",
          "text": [
            "<class 'pandas.core.series.Series'>\n"
          ]
        },
        {
          "output_type": "execute_result",
          "data": {
            "text/plain": [
              "Ping (ms)            1\n",
              "Download (Mbit/s)    1\n",
              "Upload (Mbit/s)      7\n",
              "Date                 7\n",
              "Time                 7\n",
              "dtype: int64"
            ]
          },
          "metadata": {},
          "execution_count": 9
        }
      ],
      "source": [
        "# Code Cell 5\n",
        "NaNs_per_column = NaNs_in_df.sum()\n",
        "print(type(NaNs_per_column))\n",
        "NaNs_per_column.head()"
      ]
    },
    {
      "cell_type": "markdown",
      "metadata": {
        "id": "hT9JJY3f8MRW"
      },
      "source": [
        "La 'NaN_per_column' es un objeto de 'Series' de pandas que puede considerarse como una única columna de 'Estructura de datos' (una 'Estructura de datos' es, en realidad, un dict de las 'Series', donde las claves son los nombres de las columnas). Un objeto 'Series' contiene casi todas las funcionalidades de una 'Estructura de datos'. \n",
        "Utilice la función 'sum' de 'Nan_per_column Series' para visualizar el resultado."
      ]
    },
    {
      "cell_type": "code",
      "execution_count": null,
      "metadata": {
        "colab": {
          "base_uri": "https://localhost:8080/"
        },
        "id": "iInlpeg58MRW",
        "outputId": "6d4d261a-d1bc-4ed9-eb7a-63935a5e1311"
      },
      "outputs": [
        {
          "output_type": "execute_result",
          "data": {
            "text/plain": [
              "23"
            ]
          },
          "metadata": {},
          "execution_count": 10
        }
      ],
      "source": [
        "# Code Cell 6\n",
        "NaNs_total = NaNs_per_column.sum()\n",
        "NaNs_total"
      ]
    },
    {
      "cell_type": "markdown",
      "metadata": {
        "id": "0etEMxh18MRX"
      },
      "source": [
        "Es posible concatenar toda esta instrucción en una línea de la siguiente manera:"
      ]
    },
    {
      "cell_type": "code",
      "execution_count": null,
      "metadata": {
        "colab": {
          "base_uri": "https://localhost:8080/"
        },
        "id": "Yr3JXzqV8MRX",
        "outputId": "03848c0c-d983-42c3-e633-cefe990c7273"
      },
      "outputs": [
        {
          "output_type": "execute_result",
          "data": {
            "text/plain": [
              "23"
            ]
          },
          "metadata": {},
          "execution_count": 11
        }
      ],
      "source": [
        "# Code Cell 7\n",
        "df_compact.isnull().sum().sum()"
      ]
    },
    {
      "cell_type": "markdown",
      "metadata": {
        "id": "Bzxa28_J8MRY"
      },
      "source": [
        "Calcule la cantidad de valores faltantes como un porcentaje de todos los elementos en la estructura de datos (redondee el segundo decimal del resultado con 'numpy.round' https://docs.scipy.org/doc/numpy/reference/generated/numpy.round_.html) "
      ]
    },
    {
      "cell_type": "markdown",
      "metadata": {
        "id": "QRfzIIRl8MRY"
      },
      "source": [
        "Use la función 'dropna' de 'pandas' para eliminar los valores 'NaN' de 'df_compact'."
      ]
    },
    {
      "cell_type": "code",
      "execution_count": null,
      "metadata": {
        "colab": {
          "base_uri": "https://localhost:8080/"
        },
        "id": "IThH_17V8MRZ",
        "outputId": "785ca6d6-ff4e-401f-ca38-a80d4e3048e6"
      },
      "outputs": [
        {
          "output_type": "stream",
          "name": "stdout",
          "text": [
            "The DataFrame contains : 23 NaNs, equal to 0.6765 of the measurements\n"
          ]
        }
      ],
      "source": [
        "# Code Cell 8\n",
        "NaNs_pct = np.round(df_compact.isnull().sum().sum()/float(len(df_compact)*len(df_compact.columns))*100, decimals = 4)\n",
        "print('The DataFrame contains : {} NaNs, equal to {} of the measurements'.format(NaNs_total, NaNs_pct)) #EDL : moved parenthesis"
      ]
    },
    {
      "cell_type": "markdown",
      "metadata": {
        "id": "Hx15hOsZ8MRa"
      },
      "source": [
        "La función 'dropna', si se activa solamente con los parámetros predeterminados, elimina todas las filas de una 'Estructura de datos' si alguno de sus valores es 'NaN'. "
      ]
    },
    {
      "cell_type": "code",
      "execution_count": null,
      "metadata": {
        "id": "lS3kn6s48MRa"
      },
      "outputs": [],
      "source": [
        "# Code Cell 9\n",
        "# Remove NaN values\n",
        "df_compact_clean = df_compact.dropna()"
      ]
    },
    {
      "cell_type": "markdown",
      "metadata": {
        "id": "HuaXmmAs8MRb"
      },
      "source": [
        "Compare la longitud de la Estructura de datos antes y después de utilizar 'dropna'. ¿Observa algún valor impar? ¿Por qué?"
      ]
    },
    {
      "cell_type": "code",
      "execution_count": null,
      "metadata": {
        "colab": {
          "base_uri": "https://localhost:8080/"
        },
        "id": "q2Sl584K8MRb",
        "outputId": "a4392933-1203-45a1-98ef-0d3fbcd545eb"
      },
      "outputs": [
        {
          "output_type": "stream",
          "name": "stdout",
          "text": [
            "680\n",
            "673\n"
          ]
        }
      ],
      "source": [
        "# Code Cell 10\n",
        "# Antes de dropna\n",
        "print(len(df_compact))\n",
        "# Después de dropna\n",
        "print(len(df_compact_clean))"
      ]
    },
    {
      "cell_type": "markdown",
      "metadata": {
        "id": "Rwm-XDkM8MRc"
      },
      "source": [
        "###### d) Cambie el formato de los valores.\n",
        "\n",
        "Las columnas para ping, carga y descarga de la estructura de datos 'df_compact' contienen valores numéricos. Es entonces razonable prever que todas compartan un tipo de datos, por ejemplo, 'float64'. Este, sin embargo, no es el caso, ya que se puede detectar a través de 'dtypes': "
      ]
    },
    {
      "cell_type": "code",
      "execution_count": null,
      "metadata": {
        "colab": {
          "base_uri": "https://localhost:8080/",
          "height": 206
        },
        "id": "xLpTW9KE8MRc",
        "outputId": "5588fec9-abfe-4be4-801e-d8e0b48c4759"
      },
      "outputs": [
        {
          "output_type": "execute_result",
          "data": {
            "text/plain": [
              "  Ping (ms) Download (Mbit/s)  Upload (Mbit/s)        Date      Time\n",
              "0    26.992             91.80            14.31  2016-11-24  13:36:25\n",
              "1    24.532             88.19            14.12  2016-11-24  13:36:55\n",
              "2    20.225             59.86            14.11  2016-11-24  13:37:25\n",
              "3    19.332             91.81            14.22  2016-11-24  13:37:57\n",
              "4    22.494             92.05            14.08  2016-11-24  13:38:27"
            ],
            "text/html": [
              "\n",
              "  <div id=\"df-5b8f27f4-a71b-4e25-8a1c-b4c5bb4f665c\">\n",
              "    <div class=\"colab-df-container\">\n",
              "      <div>\n",
              "<style scoped>\n",
              "    .dataframe tbody tr th:only-of-type {\n",
              "        vertical-align: middle;\n",
              "    }\n",
              "\n",
              "    .dataframe tbody tr th {\n",
              "        vertical-align: top;\n",
              "    }\n",
              "\n",
              "    .dataframe thead th {\n",
              "        text-align: right;\n",
              "    }\n",
              "</style>\n",
              "<table border=\"1\" class=\"dataframe\">\n",
              "  <thead>\n",
              "    <tr style=\"text-align: right;\">\n",
              "      <th></th>\n",
              "      <th>Ping (ms)</th>\n",
              "      <th>Download (Mbit/s)</th>\n",
              "      <th>Upload (Mbit/s)</th>\n",
              "      <th>Date</th>\n",
              "      <th>Time</th>\n",
              "    </tr>\n",
              "  </thead>\n",
              "  <tbody>\n",
              "    <tr>\n",
              "      <th>0</th>\n",
              "      <td>26.992</td>\n",
              "      <td>91.80</td>\n",
              "      <td>14.31</td>\n",
              "      <td>2016-11-24</td>\n",
              "      <td>13:36:25</td>\n",
              "    </tr>\n",
              "    <tr>\n",
              "      <th>1</th>\n",
              "      <td>24.532</td>\n",
              "      <td>88.19</td>\n",
              "      <td>14.12</td>\n",
              "      <td>2016-11-24</td>\n",
              "      <td>13:36:55</td>\n",
              "    </tr>\n",
              "    <tr>\n",
              "      <th>2</th>\n",
              "      <td>20.225</td>\n",
              "      <td>59.86</td>\n",
              "      <td>14.11</td>\n",
              "      <td>2016-11-24</td>\n",
              "      <td>13:37:25</td>\n",
              "    </tr>\n",
              "    <tr>\n",
              "      <th>3</th>\n",
              "      <td>19.332</td>\n",
              "      <td>91.81</td>\n",
              "      <td>14.22</td>\n",
              "      <td>2016-11-24</td>\n",
              "      <td>13:37:57</td>\n",
              "    </tr>\n",
              "    <tr>\n",
              "      <th>4</th>\n",
              "      <td>22.494</td>\n",
              "      <td>92.05</td>\n",
              "      <td>14.08</td>\n",
              "      <td>2016-11-24</td>\n",
              "      <td>13:38:27</td>\n",
              "    </tr>\n",
              "  </tbody>\n",
              "</table>\n",
              "</div>\n",
              "      <button class=\"colab-df-convert\" onclick=\"convertToInteractive('df-5b8f27f4-a71b-4e25-8a1c-b4c5bb4f665c')\"\n",
              "              title=\"Convert this dataframe to an interactive table.\"\n",
              "              style=\"display:none;\">\n",
              "        \n",
              "  <svg xmlns=\"http://www.w3.org/2000/svg\" height=\"24px\"viewBox=\"0 0 24 24\"\n",
              "       width=\"24px\">\n",
              "    <path d=\"M0 0h24v24H0V0z\" fill=\"none\"/>\n",
              "    <path d=\"M18.56 5.44l.94 2.06.94-2.06 2.06-.94-2.06-.94-.94-2.06-.94 2.06-2.06.94zm-11 1L8.5 8.5l.94-2.06 2.06-.94-2.06-.94L8.5 2.5l-.94 2.06-2.06.94zm10 10l.94 2.06.94-2.06 2.06-.94-2.06-.94-.94-2.06-.94 2.06-2.06.94z\"/><path d=\"M17.41 7.96l-1.37-1.37c-.4-.4-.92-.59-1.43-.59-.52 0-1.04.2-1.43.59L10.3 9.45l-7.72 7.72c-.78.78-.78 2.05 0 2.83L4 21.41c.39.39.9.59 1.41.59.51 0 1.02-.2 1.41-.59l7.78-7.78 2.81-2.81c.8-.78.8-2.07 0-2.86zM5.41 20L4 18.59l7.72-7.72 1.47 1.35L5.41 20z\"/>\n",
              "  </svg>\n",
              "      </button>\n",
              "      \n",
              "  <style>\n",
              "    .colab-df-container {\n",
              "      display:flex;\n",
              "      flex-wrap:wrap;\n",
              "      gap: 12px;\n",
              "    }\n",
              "\n",
              "    .colab-df-convert {\n",
              "      background-color: #E8F0FE;\n",
              "      border: none;\n",
              "      border-radius: 50%;\n",
              "      cursor: pointer;\n",
              "      display: none;\n",
              "      fill: #1967D2;\n",
              "      height: 32px;\n",
              "      padding: 0 0 0 0;\n",
              "      width: 32px;\n",
              "    }\n",
              "\n",
              "    .colab-df-convert:hover {\n",
              "      background-color: #E2EBFA;\n",
              "      box-shadow: 0px 1px 2px rgba(60, 64, 67, 0.3), 0px 1px 3px 1px rgba(60, 64, 67, 0.15);\n",
              "      fill: #174EA6;\n",
              "    }\n",
              "\n",
              "    [theme=dark] .colab-df-convert {\n",
              "      background-color: #3B4455;\n",
              "      fill: #D2E3FC;\n",
              "    }\n",
              "\n",
              "    [theme=dark] .colab-df-convert:hover {\n",
              "      background-color: #434B5C;\n",
              "      box-shadow: 0px 1px 3px 1px rgba(0, 0, 0, 0.15);\n",
              "      filter: drop-shadow(0px 1px 2px rgba(0, 0, 0, 0.3));\n",
              "      fill: #FFFFFF;\n",
              "    }\n",
              "  </style>\n",
              "\n",
              "      <script>\n",
              "        const buttonEl =\n",
              "          document.querySelector('#df-5b8f27f4-a71b-4e25-8a1c-b4c5bb4f665c button.colab-df-convert');\n",
              "        buttonEl.style.display =\n",
              "          google.colab.kernel.accessAllowed ? 'block' : 'none';\n",
              "\n",
              "        async function convertToInteractive(key) {\n",
              "          const element = document.querySelector('#df-5b8f27f4-a71b-4e25-8a1c-b4c5bb4f665c');\n",
              "          const dataTable =\n",
              "            await google.colab.kernel.invokeFunction('convertToInteractive',\n",
              "                                                     [key], {});\n",
              "          if (!dataTable) return;\n",
              "\n",
              "          const docLinkHtml = 'Like what you see? Visit the ' +\n",
              "            '<a target=\"_blank\" href=https://colab.research.google.com/notebooks/data_table.ipynb>data table notebook</a>'\n",
              "            + ' to learn more about interactive tables.';\n",
              "          element.innerHTML = '';\n",
              "          dataTable['output_type'] = 'display_data';\n",
              "          await google.colab.output.renderOutput(dataTable, element);\n",
              "          const docLink = document.createElement('div');\n",
              "          docLink.innerHTML = docLinkHtml;\n",
              "          element.appendChild(docLink);\n",
              "        }\n",
              "      </script>\n",
              "    </div>\n",
              "  </div>\n",
              "  "
            ]
          },
          "metadata": {},
          "execution_count": 15
        }
      ],
      "source": [
        "df_compact.head()"
      ]
    },
    {
      "cell_type": "code",
      "execution_count": null,
      "metadata": {
        "colab": {
          "base_uri": "https://localhost:8080/"
        },
        "id": "Yr4QAG5c8MRd",
        "outputId": "c5ea0fb5-1ff1-4125-cbbb-d4209179dbfa"
      },
      "outputs": [
        {
          "output_type": "execute_result",
          "data": {
            "text/plain": [
              "Ping (ms)             object\n",
              "Download (Mbit/s)     object\n",
              "Upload (Mbit/s)      float64\n",
              "Date                  object\n",
              "Time                  object\n",
              "dtype: object"
            ]
          },
          "metadata": {},
          "execution_count": 16
        }
      ],
      "source": [
        "# Code Cell 11\n",
        "# Ping and Download are not floats\n",
        "df_compact.dtypes"
      ]
    },
    {
      "cell_type": "markdown",
      "metadata": {
        "id": "QLzcmry18MRe"
      },
      "source": [
        "Utilice la función 'float()' de Python para convertir un valor de cadena en formato 'float'."
      ]
    },
    {
      "cell_type": "code",
      "execution_count": null,
      "metadata": {
        "colab": {
          "base_uri": "https://localhost:8080/"
        },
        "id": "Vm8cYKVv8MRe",
        "outputId": "0e5911dc-c8c4-4b34-f6bc-aef15c67604e"
      },
      "outputs": [
        {
          "output_type": "stream",
          "name": "stdout",
          "text": [
            "10.56 <class 'str'> 10.56 <class 'float'>\n"
          ]
        }
      ],
      "source": [
        "# Code Cell 12\n",
        "str_val = '10.56'\n",
        "float_val = float(str_val)\n",
        "print(str_val, type(str_val), float_val, type(float_val))"
      ]
    },
    {
      "cell_type": "markdown",
      "metadata": {
        "id": "HLDDvQKw8MRe"
      },
      "source": [
        "Ahora convierta todos los valores de las columnas 'Ping (ms)' and 'Download (Mbit/s)'  en flotantes. Consejo: utilice 'aplicar' y 'lambda'. Para obtener ayuda, mire la práctica de laboratorio Internet_Speed_Data_Acquisition."
      ]
    },
    {
      "cell_type": "code",
      "execution_count": null,
      "metadata": {
        "colab": {
          "base_uri": "https://localhost:8080/"
        },
        "id": "vO3xzxIW8MRf",
        "outputId": "59b22545-3de1-460d-c90d-6afd39f2640b"
      },
      "outputs": [
        {
          "output_type": "execute_result",
          "data": {
            "text/plain": [
              "Ping (ms)                   object\n",
              "Download (Mbit/s)           object\n",
              "Upload (Mbit/s)            float64\n",
              "Date                        object\n",
              "Time                        object\n",
              "Ping (ms)_float            float64\n",
              "Download (Mbit/s)_float    float64\n",
              "dtype: object"
            ]
          },
          "metadata": {},
          "execution_count": 18
        }
      ],
      "source": [
        "# Code Cell 14\n",
        "# this disables a notebook warning that is not relevant for our use case\n",
        "# esto desactiva una advertencia de cuaderno que no es relevante para nuestro caso de uso\n",
        "pd.options.mode.chained_assignment = None\n",
        "\n",
        "# Convert Ping and Download to float\n",
        "df_compact_clean['Ping (ms)_float'] = df_compact_clean['Ping (ms)'].apply( lambda val : float (val))\n",
        "df_compact_clean['Download (Mbit/s)_float'] = df_compact_clean['Download (Mbit/s)'].apply( lambda val : float (val))\n",
        "\n",
        "#Comprobar que los tipos se han convertido correctamente\n",
        "df_compact_clean.dtypes"
      ]
    },
    {
      "cell_type": "markdown",
      "metadata": {
        "id": "Qcu5kR2C8MRg"
      },
      "source": [
        "Ahora, elimine las columnas 'Ping (ms)' y 'Download (Mbit/s)' originales y cambie los nombres 'Ping (ms)_float' y 'Download (Mbit/s)_float' por 'Ping (ms)' y 'Download (Mbit/s)'. Utilice 'df.drop' y 'df.rename', como en la práctica de laboratorio Internet_Speed_Data_Acquisition."
      ]
    },
    {
      "cell_type": "code",
      "execution_count": null,
      "metadata": {
        "id": "Bv3LAmuP8MRg"
      },
      "outputs": [],
      "source": [
        "# Code Cell 15\n",
        "# Remove the original 'Ping (ms)' and 'Download (Mbit/s)' columns\n",
        "\n",
        "df_compact_clean.drop(['Ping (ms)', 'Download (Mbit/s)'], axis = 1, inplace = True)\n",
        "# Rename the new 'Ping (ms) float' and 'Download (Mbit/s) float ' to Ping (ms)' and 'Download (Mbit/s)\n",
        "# Cambia el nombre de los nuevos 'Ping (ms) float' y 'Download (Mbit/s) float ' a Ping (ms)' y 'Download (Mbit/s)\n",
        "columns = {'Ping (ms)_float': 'Ping (ms)',\n",
        "          'Download (Mbit/s)_float ': 'Download (Mbit/s)'}\n",
        "df_compact_clean.rename(columns = columns, inplace = True)"
      ]
    },
    {
      "cell_type": "code",
      "execution_count": null,
      "metadata": {
        "colab": {
          "base_uri": "https://localhost:8080/",
          "height": 206
        },
        "id": "GXOaypgF8MRh",
        "outputId": "a8113398-e8b7-4931-9c97-29386829c454"
      },
      "outputs": [
        {
          "output_type": "execute_result",
          "data": {
            "text/plain": [
              "   Upload (Mbit/s)        Date      Time  Ping (ms)  Download (Mbit/s)_float\n",
              "0            14.31  2016-11-24  13:36:25     26.992                    91.80\n",
              "1            14.12  2016-11-24  13:36:55     24.532                    88.19\n",
              "2            14.11  2016-11-24  13:37:25     20.225                    59.86\n",
              "3            14.22  2016-11-24  13:37:57     19.332                    91.81\n",
              "4            14.08  2016-11-24  13:38:27     22.494                    92.05"
            ],
            "text/html": [
              "\n",
              "  <div id=\"df-85fdeb0c-275a-4ff6-a6ad-cbd7bf6e897b\">\n",
              "    <div class=\"colab-df-container\">\n",
              "      <div>\n",
              "<style scoped>\n",
              "    .dataframe tbody tr th:only-of-type {\n",
              "        vertical-align: middle;\n",
              "    }\n",
              "\n",
              "    .dataframe tbody tr th {\n",
              "        vertical-align: top;\n",
              "    }\n",
              "\n",
              "    .dataframe thead th {\n",
              "        text-align: right;\n",
              "    }\n",
              "</style>\n",
              "<table border=\"1\" class=\"dataframe\">\n",
              "  <thead>\n",
              "    <tr style=\"text-align: right;\">\n",
              "      <th></th>\n",
              "      <th>Upload (Mbit/s)</th>\n",
              "      <th>Date</th>\n",
              "      <th>Time</th>\n",
              "      <th>Ping (ms)</th>\n",
              "      <th>Download (Mbit/s)_float</th>\n",
              "    </tr>\n",
              "  </thead>\n",
              "  <tbody>\n",
              "    <tr>\n",
              "      <th>0</th>\n",
              "      <td>14.31</td>\n",
              "      <td>2016-11-24</td>\n",
              "      <td>13:36:25</td>\n",
              "      <td>26.992</td>\n",
              "      <td>91.80</td>\n",
              "    </tr>\n",
              "    <tr>\n",
              "      <th>1</th>\n",
              "      <td>14.12</td>\n",
              "      <td>2016-11-24</td>\n",
              "      <td>13:36:55</td>\n",
              "      <td>24.532</td>\n",
              "      <td>88.19</td>\n",
              "    </tr>\n",
              "    <tr>\n",
              "      <th>2</th>\n",
              "      <td>14.11</td>\n",
              "      <td>2016-11-24</td>\n",
              "      <td>13:37:25</td>\n",
              "      <td>20.225</td>\n",
              "      <td>59.86</td>\n",
              "    </tr>\n",
              "    <tr>\n",
              "      <th>3</th>\n",
              "      <td>14.22</td>\n",
              "      <td>2016-11-24</td>\n",
              "      <td>13:37:57</td>\n",
              "      <td>19.332</td>\n",
              "      <td>91.81</td>\n",
              "    </tr>\n",
              "    <tr>\n",
              "      <th>4</th>\n",
              "      <td>14.08</td>\n",
              "      <td>2016-11-24</td>\n",
              "      <td>13:38:27</td>\n",
              "      <td>22.494</td>\n",
              "      <td>92.05</td>\n",
              "    </tr>\n",
              "  </tbody>\n",
              "</table>\n",
              "</div>\n",
              "      <button class=\"colab-df-convert\" onclick=\"convertToInteractive('df-85fdeb0c-275a-4ff6-a6ad-cbd7bf6e897b')\"\n",
              "              title=\"Convert this dataframe to an interactive table.\"\n",
              "              style=\"display:none;\">\n",
              "        \n",
              "  <svg xmlns=\"http://www.w3.org/2000/svg\" height=\"24px\"viewBox=\"0 0 24 24\"\n",
              "       width=\"24px\">\n",
              "    <path d=\"M0 0h24v24H0V0z\" fill=\"none\"/>\n",
              "    <path d=\"M18.56 5.44l.94 2.06.94-2.06 2.06-.94-2.06-.94-.94-2.06-.94 2.06-2.06.94zm-11 1L8.5 8.5l.94-2.06 2.06-.94-2.06-.94L8.5 2.5l-.94 2.06-2.06.94zm10 10l.94 2.06.94-2.06 2.06-.94-2.06-.94-.94-2.06-.94 2.06-2.06.94z\"/><path d=\"M17.41 7.96l-1.37-1.37c-.4-.4-.92-.59-1.43-.59-.52 0-1.04.2-1.43.59L10.3 9.45l-7.72 7.72c-.78.78-.78 2.05 0 2.83L4 21.41c.39.39.9.59 1.41.59.51 0 1.02-.2 1.41-.59l7.78-7.78 2.81-2.81c.8-.78.8-2.07 0-2.86zM5.41 20L4 18.59l7.72-7.72 1.47 1.35L5.41 20z\"/>\n",
              "  </svg>\n",
              "      </button>\n",
              "      \n",
              "  <style>\n",
              "    .colab-df-container {\n",
              "      display:flex;\n",
              "      flex-wrap:wrap;\n",
              "      gap: 12px;\n",
              "    }\n",
              "\n",
              "    .colab-df-convert {\n",
              "      background-color: #E8F0FE;\n",
              "      border: none;\n",
              "      border-radius: 50%;\n",
              "      cursor: pointer;\n",
              "      display: none;\n",
              "      fill: #1967D2;\n",
              "      height: 32px;\n",
              "      padding: 0 0 0 0;\n",
              "      width: 32px;\n",
              "    }\n",
              "\n",
              "    .colab-df-convert:hover {\n",
              "      background-color: #E2EBFA;\n",
              "      box-shadow: 0px 1px 2px rgba(60, 64, 67, 0.3), 0px 1px 3px 1px rgba(60, 64, 67, 0.15);\n",
              "      fill: #174EA6;\n",
              "    }\n",
              "\n",
              "    [theme=dark] .colab-df-convert {\n",
              "      background-color: #3B4455;\n",
              "      fill: #D2E3FC;\n",
              "    }\n",
              "\n",
              "    [theme=dark] .colab-df-convert:hover {\n",
              "      background-color: #434B5C;\n",
              "      box-shadow: 0px 1px 3px 1px rgba(0, 0, 0, 0.15);\n",
              "      filter: drop-shadow(0px 1px 2px rgba(0, 0, 0, 0.3));\n",
              "      fill: #FFFFFF;\n",
              "    }\n",
              "  </style>\n",
              "\n",
              "      <script>\n",
              "        const buttonEl =\n",
              "          document.querySelector('#df-85fdeb0c-275a-4ff6-a6ad-cbd7bf6e897b button.colab-df-convert');\n",
              "        buttonEl.style.display =\n",
              "          google.colab.kernel.accessAllowed ? 'block' : 'none';\n",
              "\n",
              "        async function convertToInteractive(key) {\n",
              "          const element = document.querySelector('#df-85fdeb0c-275a-4ff6-a6ad-cbd7bf6e897b');\n",
              "          const dataTable =\n",
              "            await google.colab.kernel.invokeFunction('convertToInteractive',\n",
              "                                                     [key], {});\n",
              "          if (!dataTable) return;\n",
              "\n",
              "          const docLinkHtml = 'Like what you see? Visit the ' +\n",
              "            '<a target=\"_blank\" href=https://colab.research.google.com/notebooks/data_table.ipynb>data table notebook</a>'\n",
              "            + ' to learn more about interactive tables.';\n",
              "          element.innerHTML = '';\n",
              "          dataTable['output_type'] = 'display_data';\n",
              "          await google.colab.output.renderOutput(dataTable, element);\n",
              "          const docLink = document.createElement('div');\n",
              "          docLink.innerHTML = docLinkHtml;\n",
              "          element.appendChild(docLink);\n",
              "        }\n",
              "      </script>\n",
              "    </div>\n",
              "  </div>\n",
              "  "
            ]
          },
          "metadata": {},
          "execution_count": 20
        }
      ],
      "source": [
        "# Code Cell 16\n",
        "df_compact_clean.head()"
      ]
    },
    {
      "cell_type": "markdown",
      "metadata": {
        "id": "2cM8bj3k8MRh"
      },
      "source": [
        "Antes de guardar el 'DataFrame', se recomienda reposicionar 'Upload' como última columna. Esto se puede realizar con la función 'reindex'."
      ]
    },
    {
      "cell_type": "code",
      "execution_count": null,
      "metadata": {
        "colab": {
          "base_uri": "https://localhost:8080/",
          "height": 206
        },
        "id": "ic_LsIuI8MRi",
        "outputId": "8db8185e-a783-4509-ed8c-d95c8177058a"
      },
      "outputs": [
        {
          "output_type": "execute_result",
          "data": {
            "text/plain": [
              "         Date      Time  Ping (ms)  Download (Mbit/s)  Upload (Mbit/s)\n",
              "0  2016-11-24  13:36:25     26.992                NaN            14.31\n",
              "1  2016-11-24  13:36:55     24.532                NaN            14.12\n",
              "2  2016-11-24  13:37:25     20.225                NaN            14.11\n",
              "3  2016-11-24  13:37:57     19.332                NaN            14.22\n",
              "4  2016-11-24  13:38:27     22.494                NaN            14.08"
            ],
            "text/html": [
              "\n",
              "  <div id=\"df-9c71ab5d-7eb3-47a8-9754-3cdcac30f909\">\n",
              "    <div class=\"colab-df-container\">\n",
              "      <div>\n",
              "<style scoped>\n",
              "    .dataframe tbody tr th:only-of-type {\n",
              "        vertical-align: middle;\n",
              "    }\n",
              "\n",
              "    .dataframe tbody tr th {\n",
              "        vertical-align: top;\n",
              "    }\n",
              "\n",
              "    .dataframe thead th {\n",
              "        text-align: right;\n",
              "    }\n",
              "</style>\n",
              "<table border=\"1\" class=\"dataframe\">\n",
              "  <thead>\n",
              "    <tr style=\"text-align: right;\">\n",
              "      <th></th>\n",
              "      <th>Date</th>\n",
              "      <th>Time</th>\n",
              "      <th>Ping (ms)</th>\n",
              "      <th>Download (Mbit/s)</th>\n",
              "      <th>Upload (Mbit/s)</th>\n",
              "    </tr>\n",
              "  </thead>\n",
              "  <tbody>\n",
              "    <tr>\n",
              "      <th>0</th>\n",
              "      <td>2016-11-24</td>\n",
              "      <td>13:36:25</td>\n",
              "      <td>26.992</td>\n",
              "      <td>NaN</td>\n",
              "      <td>14.31</td>\n",
              "    </tr>\n",
              "    <tr>\n",
              "      <th>1</th>\n",
              "      <td>2016-11-24</td>\n",
              "      <td>13:36:55</td>\n",
              "      <td>24.532</td>\n",
              "      <td>NaN</td>\n",
              "      <td>14.12</td>\n",
              "    </tr>\n",
              "    <tr>\n",
              "      <th>2</th>\n",
              "      <td>2016-11-24</td>\n",
              "      <td>13:37:25</td>\n",
              "      <td>20.225</td>\n",
              "      <td>NaN</td>\n",
              "      <td>14.11</td>\n",
              "    </tr>\n",
              "    <tr>\n",
              "      <th>3</th>\n",
              "      <td>2016-11-24</td>\n",
              "      <td>13:37:57</td>\n",
              "      <td>19.332</td>\n",
              "      <td>NaN</td>\n",
              "      <td>14.22</td>\n",
              "    </tr>\n",
              "    <tr>\n",
              "      <th>4</th>\n",
              "      <td>2016-11-24</td>\n",
              "      <td>13:38:27</td>\n",
              "      <td>22.494</td>\n",
              "      <td>NaN</td>\n",
              "      <td>14.08</td>\n",
              "    </tr>\n",
              "  </tbody>\n",
              "</table>\n",
              "</div>\n",
              "      <button class=\"colab-df-convert\" onclick=\"convertToInteractive('df-9c71ab5d-7eb3-47a8-9754-3cdcac30f909')\"\n",
              "              title=\"Convert this dataframe to an interactive table.\"\n",
              "              style=\"display:none;\">\n",
              "        \n",
              "  <svg xmlns=\"http://www.w3.org/2000/svg\" height=\"24px\"viewBox=\"0 0 24 24\"\n",
              "       width=\"24px\">\n",
              "    <path d=\"M0 0h24v24H0V0z\" fill=\"none\"/>\n",
              "    <path d=\"M18.56 5.44l.94 2.06.94-2.06 2.06-.94-2.06-.94-.94-2.06-.94 2.06-2.06.94zm-11 1L8.5 8.5l.94-2.06 2.06-.94-2.06-.94L8.5 2.5l-.94 2.06-2.06.94zm10 10l.94 2.06.94-2.06 2.06-.94-2.06-.94-.94-2.06-.94 2.06-2.06.94z\"/><path d=\"M17.41 7.96l-1.37-1.37c-.4-.4-.92-.59-1.43-.59-.52 0-1.04.2-1.43.59L10.3 9.45l-7.72 7.72c-.78.78-.78 2.05 0 2.83L4 21.41c.39.39.9.59 1.41.59.51 0 1.02-.2 1.41-.59l7.78-7.78 2.81-2.81c.8-.78.8-2.07 0-2.86zM5.41 20L4 18.59l7.72-7.72 1.47 1.35L5.41 20z\"/>\n",
              "  </svg>\n",
              "      </button>\n",
              "      \n",
              "  <style>\n",
              "    .colab-df-container {\n",
              "      display:flex;\n",
              "      flex-wrap:wrap;\n",
              "      gap: 12px;\n",
              "    }\n",
              "\n",
              "    .colab-df-convert {\n",
              "      background-color: #E8F0FE;\n",
              "      border: none;\n",
              "      border-radius: 50%;\n",
              "      cursor: pointer;\n",
              "      display: none;\n",
              "      fill: #1967D2;\n",
              "      height: 32px;\n",
              "      padding: 0 0 0 0;\n",
              "      width: 32px;\n",
              "    }\n",
              "\n",
              "    .colab-df-convert:hover {\n",
              "      background-color: #E2EBFA;\n",
              "      box-shadow: 0px 1px 2px rgba(60, 64, 67, 0.3), 0px 1px 3px 1px rgba(60, 64, 67, 0.15);\n",
              "      fill: #174EA6;\n",
              "    }\n",
              "\n",
              "    [theme=dark] .colab-df-convert {\n",
              "      background-color: #3B4455;\n",
              "      fill: #D2E3FC;\n",
              "    }\n",
              "\n",
              "    [theme=dark] .colab-df-convert:hover {\n",
              "      background-color: #434B5C;\n",
              "      box-shadow: 0px 1px 3px 1px rgba(0, 0, 0, 0.15);\n",
              "      filter: drop-shadow(0px 1px 2px rgba(0, 0, 0, 0.3));\n",
              "      fill: #FFFFFF;\n",
              "    }\n",
              "  </style>\n",
              "\n",
              "      <script>\n",
              "        const buttonEl =\n",
              "          document.querySelector('#df-9c71ab5d-7eb3-47a8-9754-3cdcac30f909 button.colab-df-convert');\n",
              "        buttonEl.style.display =\n",
              "          google.colab.kernel.accessAllowed ? 'block' : 'none';\n",
              "\n",
              "        async function convertToInteractive(key) {\n",
              "          const element = document.querySelector('#df-9c71ab5d-7eb3-47a8-9754-3cdcac30f909');\n",
              "          const dataTable =\n",
              "            await google.colab.kernel.invokeFunction('convertToInteractive',\n",
              "                                                     [key], {});\n",
              "          if (!dataTable) return;\n",
              "\n",
              "          const docLinkHtml = 'Like what you see? Visit the ' +\n",
              "            '<a target=\"_blank\" href=https://colab.research.google.com/notebooks/data_table.ipynb>data table notebook</a>'\n",
              "            + ' to learn more about interactive tables.';\n",
              "          element.innerHTML = '';\n",
              "          dataTable['output_type'] = 'display_data';\n",
              "          await google.colab.output.renderOutput(dataTable, element);\n",
              "          const docLink = document.createElement('div');\n",
              "          docLink.innerHTML = docLinkHtml;\n",
              "          element.appendChild(docLink);\n",
              "        }\n",
              "      </script>\n",
              "    </div>\n",
              "  </div>\n",
              "  "
            ]
          },
          "metadata": {},
          "execution_count": 21
        }
      ],
      "source": [
        "# Code Cell 17\n",
        "df_compact_clean = df_compact_clean.reindex(columns = ['Date', 'Time', 'Ping (ms)','Download (Mbit/s)','Upload (Mbit/s)']);\n",
        "df_compact_clean.head()"
      ]
    },
    {
      "cell_type": "markdown",
      "metadata": {
        "id": "WbJ2TOZv8MRi"
      },
      "source": [
        "Ahora que el conjunto de datos finalmente está limpio, guárdelo en un archivo cvs y cámbiele el nombre."
      ]
    },
    {
      "cell_type": "code",
      "execution_count": null,
      "metadata": {
        "id": "KxPo36Tx8MRj"
      },
      "outputs": [],
      "source": [
        "# Code Cell 18\n",
        "# Let's save the new cleaned dataframe to a csv\n",
        "df_compact_clean.to_csv('./rpi_data_processed.csv', index=False)\n",
        "\n",
        "df_clean = df_compact_clean"
      ]
    },
    {
      "cell_type": "markdown",
      "metadata": {
        "id": "lVWF39vG8MRj"
      },
      "source": [
        "#### Paso 2: Estadísticas básicas.\n",
        "\n",
        "Los nuevos datos requieren no solo limpieza, sino también tiempo para familiarizarse con ellos. Cuando inicia un proyecto de análisis de datos, vale la pena invertir en explorar y calcular algunas propiedades estadísticas básicas de los datos. Esto implica calcular promedios, desviaciones estándar y correlaciones. "
      ]
    },
    {
      "cell_type": "markdown",
      "metadata": {
        "id": "1q8SzQJd8MRk"
      },
      "source": [
        "###### a) Calcule el promedio y la desviación estándar con Pandas.\n",
        "\n",
        "El promedio y la desviación estándar de todas las columnas de una 'Estructura de datos' se pueden computar a través de 'mean()' y 'std()'.\n",
        "Búsquelos en la documentación de la biblioteca de 'pandas' y aplíquelos a 'df_clean DataFrame'.  \n",
        "\n",
        "Cite los resultados como 'quantity = mean ± standard_deviation'. No olvide incluir las unidades de medida asociadas con cada cantidad. "
      ]
    },
    {
      "cell_type": "code",
      "execution_count": null,
      "metadata": {
        "colab": {
          "base_uri": "https://localhost:8080/",
          "height": 206
        },
        "id": "oag9x-_f8MRk",
        "outputId": "beadb266-cad4-40eb-cc4f-5871d15c20d6"
      },
      "outputs": [
        {
          "output_type": "execute_result",
          "data": {
            "text/plain": [
              "         Date      Time  Ping (ms)  Download (Mbit/s)  Upload (Mbit/s)\n",
              "0  2016-11-24  13:36:25     26.992                NaN            14.31\n",
              "1  2016-11-24  13:36:55     24.532                NaN            14.12\n",
              "2  2016-11-24  13:37:25     20.225                NaN            14.11\n",
              "3  2016-11-24  13:37:57     19.332                NaN            14.22\n",
              "4  2016-11-24  13:38:27     22.494                NaN            14.08"
            ],
            "text/html": [
              "\n",
              "  <div id=\"df-084ab661-8334-4d62-beeb-5dd456114aba\">\n",
              "    <div class=\"colab-df-container\">\n",
              "      <div>\n",
              "<style scoped>\n",
              "    .dataframe tbody tr th:only-of-type {\n",
              "        vertical-align: middle;\n",
              "    }\n",
              "\n",
              "    .dataframe tbody tr th {\n",
              "        vertical-align: top;\n",
              "    }\n",
              "\n",
              "    .dataframe thead th {\n",
              "        text-align: right;\n",
              "    }\n",
              "</style>\n",
              "<table border=\"1\" class=\"dataframe\">\n",
              "  <thead>\n",
              "    <tr style=\"text-align: right;\">\n",
              "      <th></th>\n",
              "      <th>Date</th>\n",
              "      <th>Time</th>\n",
              "      <th>Ping (ms)</th>\n",
              "      <th>Download (Mbit/s)</th>\n",
              "      <th>Upload (Mbit/s)</th>\n",
              "    </tr>\n",
              "  </thead>\n",
              "  <tbody>\n",
              "    <tr>\n",
              "      <th>0</th>\n",
              "      <td>2016-11-24</td>\n",
              "      <td>13:36:25</td>\n",
              "      <td>26.992</td>\n",
              "      <td>NaN</td>\n",
              "      <td>14.31</td>\n",
              "    </tr>\n",
              "    <tr>\n",
              "      <th>1</th>\n",
              "      <td>2016-11-24</td>\n",
              "      <td>13:36:55</td>\n",
              "      <td>24.532</td>\n",
              "      <td>NaN</td>\n",
              "      <td>14.12</td>\n",
              "    </tr>\n",
              "    <tr>\n",
              "      <th>2</th>\n",
              "      <td>2016-11-24</td>\n",
              "      <td>13:37:25</td>\n",
              "      <td>20.225</td>\n",
              "      <td>NaN</td>\n",
              "      <td>14.11</td>\n",
              "    </tr>\n",
              "    <tr>\n",
              "      <th>3</th>\n",
              "      <td>2016-11-24</td>\n",
              "      <td>13:37:57</td>\n",
              "      <td>19.332</td>\n",
              "      <td>NaN</td>\n",
              "      <td>14.22</td>\n",
              "    </tr>\n",
              "    <tr>\n",
              "      <th>4</th>\n",
              "      <td>2016-11-24</td>\n",
              "      <td>13:38:27</td>\n",
              "      <td>22.494</td>\n",
              "      <td>NaN</td>\n",
              "      <td>14.08</td>\n",
              "    </tr>\n",
              "  </tbody>\n",
              "</table>\n",
              "</div>\n",
              "      <button class=\"colab-df-convert\" onclick=\"convertToInteractive('df-084ab661-8334-4d62-beeb-5dd456114aba')\"\n",
              "              title=\"Convert this dataframe to an interactive table.\"\n",
              "              style=\"display:none;\">\n",
              "        \n",
              "  <svg xmlns=\"http://www.w3.org/2000/svg\" height=\"24px\"viewBox=\"0 0 24 24\"\n",
              "       width=\"24px\">\n",
              "    <path d=\"M0 0h24v24H0V0z\" fill=\"none\"/>\n",
              "    <path d=\"M18.56 5.44l.94 2.06.94-2.06 2.06-.94-2.06-.94-.94-2.06-.94 2.06-2.06.94zm-11 1L8.5 8.5l.94-2.06 2.06-.94-2.06-.94L8.5 2.5l-.94 2.06-2.06.94zm10 10l.94 2.06.94-2.06 2.06-.94-2.06-.94-.94-2.06-.94 2.06-2.06.94z\"/><path d=\"M17.41 7.96l-1.37-1.37c-.4-.4-.92-.59-1.43-.59-.52 0-1.04.2-1.43.59L10.3 9.45l-7.72 7.72c-.78.78-.78 2.05 0 2.83L4 21.41c.39.39.9.59 1.41.59.51 0 1.02-.2 1.41-.59l7.78-7.78 2.81-2.81c.8-.78.8-2.07 0-2.86zM5.41 20L4 18.59l7.72-7.72 1.47 1.35L5.41 20z\"/>\n",
              "  </svg>\n",
              "      </button>\n",
              "      \n",
              "  <style>\n",
              "    .colab-df-container {\n",
              "      display:flex;\n",
              "      flex-wrap:wrap;\n",
              "      gap: 12px;\n",
              "    }\n",
              "\n",
              "    .colab-df-convert {\n",
              "      background-color: #E8F0FE;\n",
              "      border: none;\n",
              "      border-radius: 50%;\n",
              "      cursor: pointer;\n",
              "      display: none;\n",
              "      fill: #1967D2;\n",
              "      height: 32px;\n",
              "      padding: 0 0 0 0;\n",
              "      width: 32px;\n",
              "    }\n",
              "\n",
              "    .colab-df-convert:hover {\n",
              "      background-color: #E2EBFA;\n",
              "      box-shadow: 0px 1px 2px rgba(60, 64, 67, 0.3), 0px 1px 3px 1px rgba(60, 64, 67, 0.15);\n",
              "      fill: #174EA6;\n",
              "    }\n",
              "\n",
              "    [theme=dark] .colab-df-convert {\n",
              "      background-color: #3B4455;\n",
              "      fill: #D2E3FC;\n",
              "    }\n",
              "\n",
              "    [theme=dark] .colab-df-convert:hover {\n",
              "      background-color: #434B5C;\n",
              "      box-shadow: 0px 1px 3px 1px rgba(0, 0, 0, 0.15);\n",
              "      filter: drop-shadow(0px 1px 2px rgba(0, 0, 0, 0.3));\n",
              "      fill: #FFFFFF;\n",
              "    }\n",
              "  </style>\n",
              "\n",
              "      <script>\n",
              "        const buttonEl =\n",
              "          document.querySelector('#df-084ab661-8334-4d62-beeb-5dd456114aba button.colab-df-convert');\n",
              "        buttonEl.style.display =\n",
              "          google.colab.kernel.accessAllowed ? 'block' : 'none';\n",
              "\n",
              "        async function convertToInteractive(key) {\n",
              "          const element = document.querySelector('#df-084ab661-8334-4d62-beeb-5dd456114aba');\n",
              "          const dataTable =\n",
              "            await google.colab.kernel.invokeFunction('convertToInteractive',\n",
              "                                                     [key], {});\n",
              "          if (!dataTable) return;\n",
              "\n",
              "          const docLinkHtml = 'Like what you see? Visit the ' +\n",
              "            '<a target=\"_blank\" href=https://colab.research.google.com/notebooks/data_table.ipynb>data table notebook</a>'\n",
              "            + ' to learn more about interactive tables.';\n",
              "          element.innerHTML = '';\n",
              "          dataTable['output_type'] = 'display_data';\n",
              "          await google.colab.output.renderOutput(dataTable, element);\n",
              "          const docLink = document.createElement('div');\n",
              "          docLink.innerHTML = docLinkHtml;\n",
              "          element.appendChild(docLink);\n",
              "        }\n",
              "      </script>\n",
              "    </div>\n",
              "  </div>\n",
              "  "
            ]
          },
          "metadata": {},
          "execution_count": 23
        }
      ],
      "source": [
        "df_clean.head()"
      ]
    },
    {
      "cell_type": "code",
      "execution_count": null,
      "metadata": {
        "colab": {
          "base_uri": "https://localhost:8080/"
        },
        "id": "1OEZ1DQv8MRk",
        "outputId": "bb92b659-b78b-41a3-ea09-6526c11bcb0c"
      },
      "outputs": [
        {
          "output_type": "stream",
          "name": "stdout",
          "text": [
            "Average ping time: 21.115451708766717 ± 5.161225495663228 ms\n",
            "Average download speed: nan ± nan Mbit/s\n",
            "Average upload speed: 13.697607726597328 ± 1.0804708853031766 Mbit/s\n"
          ]
        },
        {
          "output_type": "stream",
          "name": "stderr",
          "text": [
            "<ipython-input-24-fb0ccc39f6b4>:4: FutureWarning: Dropping of nuisance columns in DataFrame reductions (with 'numeric_only=None') is deprecated; in a future version this will raise TypeError.  Select only valid columns before calling the reduction.\n",
            "  means = df_clean.mean()\n",
            "<ipython-input-24-fb0ccc39f6b4>:5: FutureWarning: Dropping of nuisance columns in DataFrame reductions (with 'numeric_only=None') is deprecated; in a future version this will raise TypeError.  Select only valid columns before calling the reduction.\n",
            "  stands = df_clean.std()\n"
          ]
        }
      ],
      "source": [
        "# Code Cell 19\n",
        "# Compute mean and std for all the columns of df_compact\n",
        "# SOLUTION:\n",
        "means = df_clean.mean()\n",
        "stands = df_clean.std()\n",
        "\n",
        "# Place mean and std for each column in a tuple\n",
        "stats_ping = (means['Ping (ms)'], stands['Ping (ms)'])\n",
        "stats_download = (means['Download (Mbit/s)'], stands['Download (Mbit/s)'])\n",
        "stats_upload = (means['Upload (Mbit/s)'], stands['Upload (Mbit/s)'])\n",
        "\n",
        "# Print the mean value ± the standard deviation, including measuring units\n",
        "print('Average ping time: {} ± {} ms'.format(stats_ping[0],stats_ping[1]))\n",
        "print('Average download speed: {} ± {} Mbit/s'.format(stats_download[0],stats_download[1]))\n",
        "print('Average upload speed: {} ± {} Mbit/s'.format(*stats_upload))"
      ]
    },
    {
      "cell_type": "markdown",
      "metadata": {
        "id": "JxtMZWJo8MRl"
      },
      "source": [
        "###### b) Calcule la desviación mínima y máxima con Pandas.\n",
        "\n",
        "Busque en la documentación de la biblioteca de 'pandas' cómo computar los valores mínimos y máximos para todas las columnas en la 'Estructura de datos'."
      ]
    },
    {
      "cell_type": "code",
      "execution_count": null,
      "metadata": {
        "colab": {
          "base_uri": "https://localhost:8080/"
        },
        "id": "xAXirfyT8MRl",
        "outputId": "dc3824ad-5859-49d3-8dac-a64fb0465a01"
      },
      "outputs": [
        {
          "output_type": "stream",
          "name": "stdout",
          "text": [
            "Min ping time: 16.167 ms. Max ping time: 76.528 ms\n",
            "Min download speed: nan Mbit/s. Max download speed: nan Mbit/s\n",
            "Min upload speed: 6.21 Mbit/s. Max upload speed: 14.55 Mbit/s\n"
          ]
        }
      ],
      "source": [
        "# Code Cell 23\n",
        "# Compute max and min for all the columns of df_compact\n",
        "mins = df_clean.min()\n",
        "maxs = df_clean.max()\n",
        "\n",
        "# Place mean and std for each column in a tuple\n",
        "mima_ping = (mins['Ping (ms)'], maxs['Ping (ms)'])\n",
        "mima_download = (mins['Download (Mbit/s)'], maxs['Download (Mbit/s)'])\n",
        "mima_upload = (mins['Upload (Mbit/s)'], maxs['Upload (Mbit/s)'])\n",
        "\n",
        "# Print the mean and max values, including measuring units\n",
        "print('Min ping time: {} ms. Max ping time: {} ms'.format(*mima_ping))\n",
        "print('Min download speed: {} Mbit/s. Max download speed: {} Mbit/s'.format(*mima_download))\n",
        "print('Min upload speed: {} Mbit/s. Max upload speed: {} Mbit/s'.format(*mima_upload))"
      ]
    },
    {
      "cell_type": "markdown",
      "metadata": {
        "id": "5dZjonsZ8MRm"
      },
      "source": [
        "###### c) Utilice la función de 'pandas' 'describe'.\n",
        "Ejecutar la siguiente línea de código. ¡Observe cuánto tiempo le permite ahorrar la biblioteca de 'pandas' hasta con una única línea de código!   "
      ]
    },
    {
      "cell_type": "code",
      "execution_count": null,
      "metadata": {
        "colab": {
          "base_uri": "https://localhost:8080/",
          "height": 301
        },
        "id": "L3nIeyFK8MRm",
        "outputId": "b8245e02-b533-4b26-ae0f-c458841864bc"
      },
      "outputs": [
        {
          "output_type": "execute_result",
          "data": {
            "text/plain": [
              "        Ping (ms)  Download (Mbit/s)  Upload (Mbit/s)\n",
              "count  673.000000                0.0       673.000000\n",
              "mean    21.115452                NaN        13.697608\n",
              "std      5.161225                NaN         1.080471\n",
              "min     16.167000                NaN         6.210000\n",
              "25%     19.115000                NaN        13.640000\n",
              "50%     20.322000                NaN        13.980000\n",
              "75%     21.843000                NaN        14.180000\n",
              "max     76.528000                NaN        14.550000"
            ],
            "text/html": [
              "\n",
              "  <div id=\"df-fe36797a-ea8a-4c8d-bce4-07080fab7cc4\">\n",
              "    <div class=\"colab-df-container\">\n",
              "      <div>\n",
              "<style scoped>\n",
              "    .dataframe tbody tr th:only-of-type {\n",
              "        vertical-align: middle;\n",
              "    }\n",
              "\n",
              "    .dataframe tbody tr th {\n",
              "        vertical-align: top;\n",
              "    }\n",
              "\n",
              "    .dataframe thead th {\n",
              "        text-align: right;\n",
              "    }\n",
              "</style>\n",
              "<table border=\"1\" class=\"dataframe\">\n",
              "  <thead>\n",
              "    <tr style=\"text-align: right;\">\n",
              "      <th></th>\n",
              "      <th>Ping (ms)</th>\n",
              "      <th>Download (Mbit/s)</th>\n",
              "      <th>Upload (Mbit/s)</th>\n",
              "    </tr>\n",
              "  </thead>\n",
              "  <tbody>\n",
              "    <tr>\n",
              "      <th>count</th>\n",
              "      <td>673.000000</td>\n",
              "      <td>0.0</td>\n",
              "      <td>673.000000</td>\n",
              "    </tr>\n",
              "    <tr>\n",
              "      <th>mean</th>\n",
              "      <td>21.115452</td>\n",
              "      <td>NaN</td>\n",
              "      <td>13.697608</td>\n",
              "    </tr>\n",
              "    <tr>\n",
              "      <th>std</th>\n",
              "      <td>5.161225</td>\n",
              "      <td>NaN</td>\n",
              "      <td>1.080471</td>\n",
              "    </tr>\n",
              "    <tr>\n",
              "      <th>min</th>\n",
              "      <td>16.167000</td>\n",
              "      <td>NaN</td>\n",
              "      <td>6.210000</td>\n",
              "    </tr>\n",
              "    <tr>\n",
              "      <th>25%</th>\n",
              "      <td>19.115000</td>\n",
              "      <td>NaN</td>\n",
              "      <td>13.640000</td>\n",
              "    </tr>\n",
              "    <tr>\n",
              "      <th>50%</th>\n",
              "      <td>20.322000</td>\n",
              "      <td>NaN</td>\n",
              "      <td>13.980000</td>\n",
              "    </tr>\n",
              "    <tr>\n",
              "      <th>75%</th>\n",
              "      <td>21.843000</td>\n",
              "      <td>NaN</td>\n",
              "      <td>14.180000</td>\n",
              "    </tr>\n",
              "    <tr>\n",
              "      <th>max</th>\n",
              "      <td>76.528000</td>\n",
              "      <td>NaN</td>\n",
              "      <td>14.550000</td>\n",
              "    </tr>\n",
              "  </tbody>\n",
              "</table>\n",
              "</div>\n",
              "      <button class=\"colab-df-convert\" onclick=\"convertToInteractive('df-fe36797a-ea8a-4c8d-bce4-07080fab7cc4')\"\n",
              "              title=\"Convert this dataframe to an interactive table.\"\n",
              "              style=\"display:none;\">\n",
              "        \n",
              "  <svg xmlns=\"http://www.w3.org/2000/svg\" height=\"24px\"viewBox=\"0 0 24 24\"\n",
              "       width=\"24px\">\n",
              "    <path d=\"M0 0h24v24H0V0z\" fill=\"none\"/>\n",
              "    <path d=\"M18.56 5.44l.94 2.06.94-2.06 2.06-.94-2.06-.94-.94-2.06-.94 2.06-2.06.94zm-11 1L8.5 8.5l.94-2.06 2.06-.94-2.06-.94L8.5 2.5l-.94 2.06-2.06.94zm10 10l.94 2.06.94-2.06 2.06-.94-2.06-.94-.94-2.06-.94 2.06-2.06.94z\"/><path d=\"M17.41 7.96l-1.37-1.37c-.4-.4-.92-.59-1.43-.59-.52 0-1.04.2-1.43.59L10.3 9.45l-7.72 7.72c-.78.78-.78 2.05 0 2.83L4 21.41c.39.39.9.59 1.41.59.51 0 1.02-.2 1.41-.59l7.78-7.78 2.81-2.81c.8-.78.8-2.07 0-2.86zM5.41 20L4 18.59l7.72-7.72 1.47 1.35L5.41 20z\"/>\n",
              "  </svg>\n",
              "      </button>\n",
              "      \n",
              "  <style>\n",
              "    .colab-df-container {\n",
              "      display:flex;\n",
              "      flex-wrap:wrap;\n",
              "      gap: 12px;\n",
              "    }\n",
              "\n",
              "    .colab-df-convert {\n",
              "      background-color: #E8F0FE;\n",
              "      border: none;\n",
              "      border-radius: 50%;\n",
              "      cursor: pointer;\n",
              "      display: none;\n",
              "      fill: #1967D2;\n",
              "      height: 32px;\n",
              "      padding: 0 0 0 0;\n",
              "      width: 32px;\n",
              "    }\n",
              "\n",
              "    .colab-df-convert:hover {\n",
              "      background-color: #E2EBFA;\n",
              "      box-shadow: 0px 1px 2px rgba(60, 64, 67, 0.3), 0px 1px 3px 1px rgba(60, 64, 67, 0.15);\n",
              "      fill: #174EA6;\n",
              "    }\n",
              "\n",
              "    [theme=dark] .colab-df-convert {\n",
              "      background-color: #3B4455;\n",
              "      fill: #D2E3FC;\n",
              "    }\n",
              "\n",
              "    [theme=dark] .colab-df-convert:hover {\n",
              "      background-color: #434B5C;\n",
              "      box-shadow: 0px 1px 3px 1px rgba(0, 0, 0, 0.15);\n",
              "      filter: drop-shadow(0px 1px 2px rgba(0, 0, 0, 0.3));\n",
              "      fill: #FFFFFF;\n",
              "    }\n",
              "  </style>\n",
              "\n",
              "      <script>\n",
              "        const buttonEl =\n",
              "          document.querySelector('#df-fe36797a-ea8a-4c8d-bce4-07080fab7cc4 button.colab-df-convert');\n",
              "        buttonEl.style.display =\n",
              "          google.colab.kernel.accessAllowed ? 'block' : 'none';\n",
              "\n",
              "        async function convertToInteractive(key) {\n",
              "          const element = document.querySelector('#df-fe36797a-ea8a-4c8d-bce4-07080fab7cc4');\n",
              "          const dataTable =\n",
              "            await google.colab.kernel.invokeFunction('convertToInteractive',\n",
              "                                                     [key], {});\n",
              "          if (!dataTable) return;\n",
              "\n",
              "          const docLinkHtml = 'Like what you see? Visit the ' +\n",
              "            '<a target=\"_blank\" href=https://colab.research.google.com/notebooks/data_table.ipynb>data table notebook</a>'\n",
              "            + ' to learn more about interactive tables.';\n",
              "          element.innerHTML = '';\n",
              "          dataTable['output_type'] = 'display_data';\n",
              "          await google.colab.output.renderOutput(dataTable, element);\n",
              "          const docLink = document.createElement('div');\n",
              "          docLink.innerHTML = docLinkHtml;\n",
              "          element.appendChild(docLink);\n",
              "        }\n",
              "      </script>\n",
              "    </div>\n",
              "  </div>\n",
              "  "
            ]
          },
          "metadata": {},
          "execution_count": 26
        }
      ],
      "source": [
        "# Code Cell 24\n",
        "df_clean.describe()"
      ]
    },
    {
      "cell_type": "markdown",
      "metadata": {
        "id": "UuX31fgX8MRn"
      },
      "source": [
        "###### d) Utilice 'argmin', 'argmax' e 'iloc'."
      ]
    },
    {
      "cell_type": "markdown",
      "metadata": {
        "id": "4wQog6qa8MRn"
      },
      "source": [
        "Supongamos que quisiera tener un guión de computadora que envíe informes de estado por correo electrónico a su proveedor de Internet. Los informes deberían incluir la fecha y la hora correspondientes a la velocidad mínima de Internet. La información temporal le permite al proveedor de Internet identificar con precisión la causa detrás de la conexión lenta que observó. \n",
        "\n",
        "Con las funciones 'argmin' y 'argmax' de 'pandas', podrá encontrar las fechas y las horas correspondientes al tiempo más breve y más extenso de ping, la velocidad de descarga más baja y más alta, y la velocidad de carga más baja y más alta."
      ]
    },
    {
      "cell_type": "code",
      "execution_count": null,
      "metadata": {
        "id": "TDgCwPIa8MRn"
      },
      "outputs": [],
      "source": [
        "# Code Cell 25\n",
        "# Find the min and max ping time\n",
        "argmin_ping = df_clean['Ping (ms)'].argmin()\n",
        "argmax_ping = df_clean['Ping (ms)'].argmax()\n",
        "\n",
        "# Find the min and max download speed\n",
        "argmin_download = df_clean['Download (Mbit/s)'].argmin()\n",
        "argmax_download = df_clean['Download (Mbit/s)'].argmax()\n",
        "\n",
        "# Find the min and max upload speed\n",
        "argmin_upload = df_clean['Upload (Mbit/s)'].argmin()\n",
        "argmax_upload = df_clean['Upload (Mbit/s)'].argmax()"
      ]
    },
    {
      "cell_type": "markdown",
      "metadata": {
        "id": "7BKfelaP8MRo"
      },
      "source": [
        "Las funciones 'argmin' y 'argmax' devuelven un índice relacionado con las filas de una 'Estructura de datos'. Para acceder a una fila específica con este índice, utilice 'iloc'."
      ]
    },
    {
      "cell_type": "code",
      "execution_count": null,
      "metadata": {
        "colab": {
          "base_uri": "https://localhost:8080/",
          "height": 112
        },
        "id": "n1beUxkl8MRo",
        "outputId": "a9252b8f-0719-4010-a73b-f6edb26af239"
      },
      "outputs": [
        {
          "output_type": "execute_result",
          "data": {
            "text/plain": [
              "   field_1  field_2\n",
              "0        0        0\n",
              "1        1        2"
            ],
            "text/html": [
              "\n",
              "  <div id=\"df-7d6e6575-84ac-4a98-8b14-644ebd24fbf4\">\n",
              "    <div class=\"colab-df-container\">\n",
              "      <div>\n",
              "<style scoped>\n",
              "    .dataframe tbody tr th:only-of-type {\n",
              "        vertical-align: middle;\n",
              "    }\n",
              "\n",
              "    .dataframe tbody tr th {\n",
              "        vertical-align: top;\n",
              "    }\n",
              "\n",
              "    .dataframe thead th {\n",
              "        text-align: right;\n",
              "    }\n",
              "</style>\n",
              "<table border=\"1\" class=\"dataframe\">\n",
              "  <thead>\n",
              "    <tr style=\"text-align: right;\">\n",
              "      <th></th>\n",
              "      <th>field_1</th>\n",
              "      <th>field_2</th>\n",
              "    </tr>\n",
              "  </thead>\n",
              "  <tbody>\n",
              "    <tr>\n",
              "      <th>0</th>\n",
              "      <td>0</td>\n",
              "      <td>0</td>\n",
              "    </tr>\n",
              "    <tr>\n",
              "      <th>1</th>\n",
              "      <td>1</td>\n",
              "      <td>2</td>\n",
              "    </tr>\n",
              "  </tbody>\n",
              "</table>\n",
              "</div>\n",
              "      <button class=\"colab-df-convert\" onclick=\"convertToInteractive('df-7d6e6575-84ac-4a98-8b14-644ebd24fbf4')\"\n",
              "              title=\"Convert this dataframe to an interactive table.\"\n",
              "              style=\"display:none;\">\n",
              "        \n",
              "  <svg xmlns=\"http://www.w3.org/2000/svg\" height=\"24px\"viewBox=\"0 0 24 24\"\n",
              "       width=\"24px\">\n",
              "    <path d=\"M0 0h24v24H0V0z\" fill=\"none\"/>\n",
              "    <path d=\"M18.56 5.44l.94 2.06.94-2.06 2.06-.94-2.06-.94-.94-2.06-.94 2.06-2.06.94zm-11 1L8.5 8.5l.94-2.06 2.06-.94-2.06-.94L8.5 2.5l-.94 2.06-2.06.94zm10 10l.94 2.06.94-2.06 2.06-.94-2.06-.94-.94-2.06-.94 2.06-2.06.94z\"/><path d=\"M17.41 7.96l-1.37-1.37c-.4-.4-.92-.59-1.43-.59-.52 0-1.04.2-1.43.59L10.3 9.45l-7.72 7.72c-.78.78-.78 2.05 0 2.83L4 21.41c.39.39.9.59 1.41.59.51 0 1.02-.2 1.41-.59l7.78-7.78 2.81-2.81c.8-.78.8-2.07 0-2.86zM5.41 20L4 18.59l7.72-7.72 1.47 1.35L5.41 20z\"/>\n",
              "  </svg>\n",
              "      </button>\n",
              "      \n",
              "  <style>\n",
              "    .colab-df-container {\n",
              "      display:flex;\n",
              "      flex-wrap:wrap;\n",
              "      gap: 12px;\n",
              "    }\n",
              "\n",
              "    .colab-df-convert {\n",
              "      background-color: #E8F0FE;\n",
              "      border: none;\n",
              "      border-radius: 50%;\n",
              "      cursor: pointer;\n",
              "      display: none;\n",
              "      fill: #1967D2;\n",
              "      height: 32px;\n",
              "      padding: 0 0 0 0;\n",
              "      width: 32px;\n",
              "    }\n",
              "\n",
              "    .colab-df-convert:hover {\n",
              "      background-color: #E2EBFA;\n",
              "      box-shadow: 0px 1px 2px rgba(60, 64, 67, 0.3), 0px 1px 3px 1px rgba(60, 64, 67, 0.15);\n",
              "      fill: #174EA6;\n",
              "    }\n",
              "\n",
              "    [theme=dark] .colab-df-convert {\n",
              "      background-color: #3B4455;\n",
              "      fill: #D2E3FC;\n",
              "    }\n",
              "\n",
              "    [theme=dark] .colab-df-convert:hover {\n",
              "      background-color: #434B5C;\n",
              "      box-shadow: 0px 1px 3px 1px rgba(0, 0, 0, 0.15);\n",
              "      filter: drop-shadow(0px 1px 2px rgba(0, 0, 0, 0.3));\n",
              "      fill: #FFFFFF;\n",
              "    }\n",
              "  </style>\n",
              "\n",
              "      <script>\n",
              "        const buttonEl =\n",
              "          document.querySelector('#df-7d6e6575-84ac-4a98-8b14-644ebd24fbf4 button.colab-df-convert');\n",
              "        buttonEl.style.display =\n",
              "          google.colab.kernel.accessAllowed ? 'block' : 'none';\n",
              "\n",
              "        async function convertToInteractive(key) {\n",
              "          const element = document.querySelector('#df-7d6e6575-84ac-4a98-8b14-644ebd24fbf4');\n",
              "          const dataTable =\n",
              "            await google.colab.kernel.invokeFunction('convertToInteractive',\n",
              "                                                     [key], {});\n",
              "          if (!dataTable) return;\n",
              "\n",
              "          const docLinkHtml = 'Like what you see? Visit the ' +\n",
              "            '<a target=\"_blank\" href=https://colab.research.google.com/notebooks/data_table.ipynb>data table notebook</a>'\n",
              "            + ' to learn more about interactive tables.';\n",
              "          element.innerHTML = '';\n",
              "          dataTable['output_type'] = 'display_data';\n",
              "          await google.colab.output.renderOutput(dataTable, element);\n",
              "          const docLink = document.createElement('div');\n",
              "          docLink.innerHTML = docLinkHtml;\n",
              "          element.appendChild(docLink);\n",
              "        }\n",
              "      </script>\n",
              "    </div>\n",
              "  </div>\n",
              "  "
            ]
          },
          "metadata": {},
          "execution_count": 28
        }
      ],
      "source": [
        "# Code Cell 26\n",
        "# Crea un pequeño DataFrame y accede a sus filas usando iloc\n",
        "\n",
        "# Un pandas DataFrame se puede inicializar pasando un dict como parámetro al constructor pd.DataFrame(). \n",
        "# La clave representará la columna, los valores las filas.\n",
        "df = pd.DataFrame({'field_1': [0,1], 'field_2': [0,2]})\n",
        "df.head()"
      ]
    },
    {
      "cell_type": "code",
      "execution_count": null,
      "metadata": {
        "colab": {
          "base_uri": "https://localhost:8080/"
        },
        "id": "F90MxhfO8MRp",
        "outputId": "bc84dfd2-876c-4b28-b454-d26c05b9708f"
      },
      "outputs": [
        {
          "output_type": "execute_result",
          "data": {
            "text/plain": [
              "1"
            ]
          },
          "metadata": {},
          "execution_count": 29
        }
      ],
      "source": [
        "# Code Cell 27\n",
        "# To access the field_1 of the first row using iloc()\n",
        "df.iloc[1]['field_1']"
      ]
    },
    {
      "cell_type": "markdown",
      "metadata": {
        "id": "-GtmPX5X8MRp"
      },
      "source": [
        "Utilizar los índices calculados mediante 'argmax' y 'argmin' en combinación con 'iloc' para visualizar la 'fecha' y 'hora' \n",
        "del máximo/mínimo ping, descarga y carga."
      ]
    },
    {
      "cell_type": "code",
      "execution_count": null,
      "metadata": {
        "colab": {
          "base_uri": "https://localhost:8080/",
          "height": 206
        },
        "id": "qe8CknvP8MRp",
        "outputId": "078ce270-e155-43df-dfd7-49a713a9bb36"
      },
      "outputs": [
        {
          "output_type": "execute_result",
          "data": {
            "text/plain": [
              "         Date      Time  Ping (ms)  Download (Mbit/s)  Upload (Mbit/s)\n",
              "0  2016-11-24  13:36:25     26.992                NaN            14.31\n",
              "1  2016-11-24  13:36:55     24.532                NaN            14.12\n",
              "2  2016-11-24  13:37:25     20.225                NaN            14.11\n",
              "3  2016-11-24  13:37:57     19.332                NaN            14.22\n",
              "4  2016-11-24  13:38:27     22.494                NaN            14.08"
            ],
            "text/html": [
              "\n",
              "  <div id=\"df-9151a812-64b0-43c2-810e-7f6832cfaf8a\">\n",
              "    <div class=\"colab-df-container\">\n",
              "      <div>\n",
              "<style scoped>\n",
              "    .dataframe tbody tr th:only-of-type {\n",
              "        vertical-align: middle;\n",
              "    }\n",
              "\n",
              "    .dataframe tbody tr th {\n",
              "        vertical-align: top;\n",
              "    }\n",
              "\n",
              "    .dataframe thead th {\n",
              "        text-align: right;\n",
              "    }\n",
              "</style>\n",
              "<table border=\"1\" class=\"dataframe\">\n",
              "  <thead>\n",
              "    <tr style=\"text-align: right;\">\n",
              "      <th></th>\n",
              "      <th>Date</th>\n",
              "      <th>Time</th>\n",
              "      <th>Ping (ms)</th>\n",
              "      <th>Download (Mbit/s)</th>\n",
              "      <th>Upload (Mbit/s)</th>\n",
              "    </tr>\n",
              "  </thead>\n",
              "  <tbody>\n",
              "    <tr>\n",
              "      <th>0</th>\n",
              "      <td>2016-11-24</td>\n",
              "      <td>13:36:25</td>\n",
              "      <td>26.992</td>\n",
              "      <td>NaN</td>\n",
              "      <td>14.31</td>\n",
              "    </tr>\n",
              "    <tr>\n",
              "      <th>1</th>\n",
              "      <td>2016-11-24</td>\n",
              "      <td>13:36:55</td>\n",
              "      <td>24.532</td>\n",
              "      <td>NaN</td>\n",
              "      <td>14.12</td>\n",
              "    </tr>\n",
              "    <tr>\n",
              "      <th>2</th>\n",
              "      <td>2016-11-24</td>\n",
              "      <td>13:37:25</td>\n",
              "      <td>20.225</td>\n",
              "      <td>NaN</td>\n",
              "      <td>14.11</td>\n",
              "    </tr>\n",
              "    <tr>\n",
              "      <th>3</th>\n",
              "      <td>2016-11-24</td>\n",
              "      <td>13:37:57</td>\n",
              "      <td>19.332</td>\n",
              "      <td>NaN</td>\n",
              "      <td>14.22</td>\n",
              "    </tr>\n",
              "    <tr>\n",
              "      <th>4</th>\n",
              "      <td>2016-11-24</td>\n",
              "      <td>13:38:27</td>\n",
              "      <td>22.494</td>\n",
              "      <td>NaN</td>\n",
              "      <td>14.08</td>\n",
              "    </tr>\n",
              "  </tbody>\n",
              "</table>\n",
              "</div>\n",
              "      <button class=\"colab-df-convert\" onclick=\"convertToInteractive('df-9151a812-64b0-43c2-810e-7f6832cfaf8a')\"\n",
              "              title=\"Convert this dataframe to an interactive table.\"\n",
              "              style=\"display:none;\">\n",
              "        \n",
              "  <svg xmlns=\"http://www.w3.org/2000/svg\" height=\"24px\"viewBox=\"0 0 24 24\"\n",
              "       width=\"24px\">\n",
              "    <path d=\"M0 0h24v24H0V0z\" fill=\"none\"/>\n",
              "    <path d=\"M18.56 5.44l.94 2.06.94-2.06 2.06-.94-2.06-.94-.94-2.06-.94 2.06-2.06.94zm-11 1L8.5 8.5l.94-2.06 2.06-.94-2.06-.94L8.5 2.5l-.94 2.06-2.06.94zm10 10l.94 2.06.94-2.06 2.06-.94-2.06-.94-.94-2.06-.94 2.06-2.06.94z\"/><path d=\"M17.41 7.96l-1.37-1.37c-.4-.4-.92-.59-1.43-.59-.52 0-1.04.2-1.43.59L10.3 9.45l-7.72 7.72c-.78.78-.78 2.05 0 2.83L4 21.41c.39.39.9.59 1.41.59.51 0 1.02-.2 1.41-.59l7.78-7.78 2.81-2.81c.8-.78.8-2.07 0-2.86zM5.41 20L4 18.59l7.72-7.72 1.47 1.35L5.41 20z\"/>\n",
              "  </svg>\n",
              "      </button>\n",
              "      \n",
              "  <style>\n",
              "    .colab-df-container {\n",
              "      display:flex;\n",
              "      flex-wrap:wrap;\n",
              "      gap: 12px;\n",
              "    }\n",
              "\n",
              "    .colab-df-convert {\n",
              "      background-color: #E8F0FE;\n",
              "      border: none;\n",
              "      border-radius: 50%;\n",
              "      cursor: pointer;\n",
              "      display: none;\n",
              "      fill: #1967D2;\n",
              "      height: 32px;\n",
              "      padding: 0 0 0 0;\n",
              "      width: 32px;\n",
              "    }\n",
              "\n",
              "    .colab-df-convert:hover {\n",
              "      background-color: #E2EBFA;\n",
              "      box-shadow: 0px 1px 2px rgba(60, 64, 67, 0.3), 0px 1px 3px 1px rgba(60, 64, 67, 0.15);\n",
              "      fill: #174EA6;\n",
              "    }\n",
              "\n",
              "    [theme=dark] .colab-df-convert {\n",
              "      background-color: #3B4455;\n",
              "      fill: #D2E3FC;\n",
              "    }\n",
              "\n",
              "    [theme=dark] .colab-df-convert:hover {\n",
              "      background-color: #434B5C;\n",
              "      box-shadow: 0px 1px 3px 1px rgba(0, 0, 0, 0.15);\n",
              "      filter: drop-shadow(0px 1px 2px rgba(0, 0, 0, 0.3));\n",
              "      fill: #FFFFFF;\n",
              "    }\n",
              "  </style>\n",
              "\n",
              "      <script>\n",
              "        const buttonEl =\n",
              "          document.querySelector('#df-9151a812-64b0-43c2-810e-7f6832cfaf8a button.colab-df-convert');\n",
              "        buttonEl.style.display =\n",
              "          google.colab.kernel.accessAllowed ? 'block' : 'none';\n",
              "\n",
              "        async function convertToInteractive(key) {\n",
              "          const element = document.querySelector('#df-9151a812-64b0-43c2-810e-7f6832cfaf8a');\n",
              "          const dataTable =\n",
              "            await google.colab.kernel.invokeFunction('convertToInteractive',\n",
              "                                                     [key], {});\n",
              "          if (!dataTable) return;\n",
              "\n",
              "          const docLinkHtml = 'Like what you see? Visit the ' +\n",
              "            '<a target=\"_blank\" href=https://colab.research.google.com/notebooks/data_table.ipynb>data table notebook</a>'\n",
              "            + ' to learn more about interactive tables.';\n",
              "          element.innerHTML = '';\n",
              "          dataTable['output_type'] = 'display_data';\n",
              "          await google.colab.output.renderOutput(dataTable, element);\n",
              "          const docLink = document.createElement('div');\n",
              "          docLink.innerHTML = docLinkHtml;\n",
              "          element.appendChild(docLink);\n",
              "        }\n",
              "      </script>\n",
              "    </div>\n",
              "  </div>\n",
              "  "
            ]
          },
          "metadata": {},
          "execution_count": 30
        }
      ],
      "source": [
        "df_clean.head()"
      ]
    },
    {
      "cell_type": "code",
      "execution_count": null,
      "metadata": {
        "colab": {
          "base_uri": "https://localhost:8080/"
        },
        "id": "yoSKi3Yh8MRq",
        "outputId": "3365ad22-ff36-42e0-a3aa-45091c133a3a"
      },
      "outputs": [
        {
          "output_type": "stream",
          "name": "stdout",
          "text": [
            "Ping measure reached minimum on 2016-11-24 at 15:26:20\n",
            "Upload measure reached minimum on 2016-11-24 at 17:31:47\n",
            "Ping measure reached maximum on 2016-11-24 at 17:30:06\n",
            "Upload measure reached maximum on 2016-11-24 at 18:02:15\n"
          ]
        }
      ],
      "source": [
        "# Code Cell 28\n",
        "#Print the corresponding Date and Time\n",
        "print('Ping measure reached minimum on {} at {}'.format(df_clean.loc[argmin_ping].Date, \n",
        "                                                        df_clean.loc[argmin_ping].Time))\n",
        "\n",
        "#print('Download measure reached minimum on {} at {}'.format(df_clean.loc[argmin_download].Date, \n",
        "#                                                        df_clean.loc[argmin_download].Time))\n",
        "\n",
        "print('Upload measure reached minimum on {} at {}'.format(df_clean.loc[argmin_upload].Date, \n",
        "                                                        df_clean.loc[argmin_upload].Time))\n",
        "\n",
        "print('Ping measure reached maximum on {} at {}'.format(df_clean.loc[argmax_ping].Date, \n",
        "                                                        df_clean.loc[argmax_ping].Time))\n",
        "\n",
        "#print('Download measure reached maximum on {} at {}'.format(df_clean.loc[argmax_download].Date, \n",
        "#                                                        df_clean.loc[argmax_download].Time))\n",
        "\n",
        "print('Upload measure reached maximum on {} at {}'.format(df_clean.loc[argmax_upload].Date, \n",
        "                                                        df_clean.loc[argmax_upload].Time))"
      ]
    },
    {
      "cell_type": "markdown",
      "metadata": {
        "id": "ZLn_EIsJ8MRr"
      },
      "source": [
        "###### e) Cree una correlación.\n",
        "\n",
        "Es útil analizar si la velocidad de descarga tiende a aumentar y disminuir junto con la velocidad de carga. El razonamiento detrás de esto sería que el uso de la red y los problemas técnicos afectarán a la descarga y a la carga por igual. \n",
        "\n",
        "En esta situación, las velocidades de carga y descarga se llamarían *correlacionadas de forma positiva*. Esto significa que la descarga y la carga más rápidas se producirían, generalmente, juntas. Esto haría referencia a la tendencia general, pero las instancias de descarga rápida con carga lenta aún serían posibles. \n",
        "\n",
        "Por otro lado, usted puede deducir que la velocidad de descarga más alta implica una velocidad de carga más baja y viceversa. En este caso, el argumento sería que la línea de Internet puede admitir solo una cantidad limitada de la información que se intercambia. La carga y la descarga entonces competirían y se mantendrían “en verificación”.\n",
        "\n",
        "En esta situación, las velocidades de descarga y carga se llamarían *correlacionadas de forma negativa*. Esto significa que, generalmente, la descarga sería más rápida cuando la carga es más lenta y viceversa. Como mencionamos anteriormente, esto haría referencia a una tendencia, por lo cual una buena velocidad de carga y descarga aún sería posible. \n",
        "\n",
        "Para concluir el caso, el tiempo de ping puede estar correlacionado de forma positiva o negativa tanto con la carga como con la descarga. Por lo tanto, es lógico pensar en una tabla, donde cada cantidad se compara con todas las demás. Dichas tablas son reconocidas como objetos matemáticos denominados *matrices de correlación*. \n",
        "\n",
        "Utilice la función de 'pandas' 'corr' para calcular la matriz de correlación de ping, carga y descarga. Guarde el resultado en una variable llamada 'df_corr'. "
      ]
    },
    {
      "cell_type": "code",
      "execution_count": null,
      "metadata": {
        "colab": {
          "base_uri": "https://localhost:8080/",
          "height": 144
        },
        "id": "8E2vxd-28MRr",
        "outputId": "1ec047aa-5831-4d1a-8dd0-05525dce3fad"
      },
      "outputs": [
        {
          "output_type": "execute_result",
          "data": {
            "text/plain": [
              "                   Ping (ms)  Download (Mbit/s)  Upload (Mbit/s)\n",
              "Ping (ms)           1.000000                NaN        -0.463099\n",
              "Download (Mbit/s)        NaN                NaN              NaN\n",
              "Upload (Mbit/s)    -0.463099                NaN         1.000000"
            ],
            "text/html": [
              "\n",
              "  <div id=\"df-8f07327b-faea-42ca-a409-fb4bfdd260d6\">\n",
              "    <div class=\"colab-df-container\">\n",
              "      <div>\n",
              "<style scoped>\n",
              "    .dataframe tbody tr th:only-of-type {\n",
              "        vertical-align: middle;\n",
              "    }\n",
              "\n",
              "    .dataframe tbody tr th {\n",
              "        vertical-align: top;\n",
              "    }\n",
              "\n",
              "    .dataframe thead th {\n",
              "        text-align: right;\n",
              "    }\n",
              "</style>\n",
              "<table border=\"1\" class=\"dataframe\">\n",
              "  <thead>\n",
              "    <tr style=\"text-align: right;\">\n",
              "      <th></th>\n",
              "      <th>Ping (ms)</th>\n",
              "      <th>Download (Mbit/s)</th>\n",
              "      <th>Upload (Mbit/s)</th>\n",
              "    </tr>\n",
              "  </thead>\n",
              "  <tbody>\n",
              "    <tr>\n",
              "      <th>Ping (ms)</th>\n",
              "      <td>1.000000</td>\n",
              "      <td>NaN</td>\n",
              "      <td>-0.463099</td>\n",
              "    </tr>\n",
              "    <tr>\n",
              "      <th>Download (Mbit/s)</th>\n",
              "      <td>NaN</td>\n",
              "      <td>NaN</td>\n",
              "      <td>NaN</td>\n",
              "    </tr>\n",
              "    <tr>\n",
              "      <th>Upload (Mbit/s)</th>\n",
              "      <td>-0.463099</td>\n",
              "      <td>NaN</td>\n",
              "      <td>1.000000</td>\n",
              "    </tr>\n",
              "  </tbody>\n",
              "</table>\n",
              "</div>\n",
              "      <button class=\"colab-df-convert\" onclick=\"convertToInteractive('df-8f07327b-faea-42ca-a409-fb4bfdd260d6')\"\n",
              "              title=\"Convert this dataframe to an interactive table.\"\n",
              "              style=\"display:none;\">\n",
              "        \n",
              "  <svg xmlns=\"http://www.w3.org/2000/svg\" height=\"24px\"viewBox=\"0 0 24 24\"\n",
              "       width=\"24px\">\n",
              "    <path d=\"M0 0h24v24H0V0z\" fill=\"none\"/>\n",
              "    <path d=\"M18.56 5.44l.94 2.06.94-2.06 2.06-.94-2.06-.94-.94-2.06-.94 2.06-2.06.94zm-11 1L8.5 8.5l.94-2.06 2.06-.94-2.06-.94L8.5 2.5l-.94 2.06-2.06.94zm10 10l.94 2.06.94-2.06 2.06-.94-2.06-.94-.94-2.06-.94 2.06-2.06.94z\"/><path d=\"M17.41 7.96l-1.37-1.37c-.4-.4-.92-.59-1.43-.59-.52 0-1.04.2-1.43.59L10.3 9.45l-7.72 7.72c-.78.78-.78 2.05 0 2.83L4 21.41c.39.39.9.59 1.41.59.51 0 1.02-.2 1.41-.59l7.78-7.78 2.81-2.81c.8-.78.8-2.07 0-2.86zM5.41 20L4 18.59l7.72-7.72 1.47 1.35L5.41 20z\"/>\n",
              "  </svg>\n",
              "      </button>\n",
              "      \n",
              "  <style>\n",
              "    .colab-df-container {\n",
              "      display:flex;\n",
              "      flex-wrap:wrap;\n",
              "      gap: 12px;\n",
              "    }\n",
              "\n",
              "    .colab-df-convert {\n",
              "      background-color: #E8F0FE;\n",
              "      border: none;\n",
              "      border-radius: 50%;\n",
              "      cursor: pointer;\n",
              "      display: none;\n",
              "      fill: #1967D2;\n",
              "      height: 32px;\n",
              "      padding: 0 0 0 0;\n",
              "      width: 32px;\n",
              "    }\n",
              "\n",
              "    .colab-df-convert:hover {\n",
              "      background-color: #E2EBFA;\n",
              "      box-shadow: 0px 1px 2px rgba(60, 64, 67, 0.3), 0px 1px 3px 1px rgba(60, 64, 67, 0.15);\n",
              "      fill: #174EA6;\n",
              "    }\n",
              "\n",
              "    [theme=dark] .colab-df-convert {\n",
              "      background-color: #3B4455;\n",
              "      fill: #D2E3FC;\n",
              "    }\n",
              "\n",
              "    [theme=dark] .colab-df-convert:hover {\n",
              "      background-color: #434B5C;\n",
              "      box-shadow: 0px 1px 3px 1px rgba(0, 0, 0, 0.15);\n",
              "      filter: drop-shadow(0px 1px 2px rgba(0, 0, 0, 0.3));\n",
              "      fill: #FFFFFF;\n",
              "    }\n",
              "  </style>\n",
              "\n",
              "      <script>\n",
              "        const buttonEl =\n",
              "          document.querySelector('#df-8f07327b-faea-42ca-a409-fb4bfdd260d6 button.colab-df-convert');\n",
              "        buttonEl.style.display =\n",
              "          google.colab.kernel.accessAllowed ? 'block' : 'none';\n",
              "\n",
              "        async function convertToInteractive(key) {\n",
              "          const element = document.querySelector('#df-8f07327b-faea-42ca-a409-fb4bfdd260d6');\n",
              "          const dataTable =\n",
              "            await google.colab.kernel.invokeFunction('convertToInteractive',\n",
              "                                                     [key], {});\n",
              "          if (!dataTable) return;\n",
              "\n",
              "          const docLinkHtml = 'Like what you see? Visit the ' +\n",
              "            '<a target=\"_blank\" href=https://colab.research.google.com/notebooks/data_table.ipynb>data table notebook</a>'\n",
              "            + ' to learn more about interactive tables.';\n",
              "          element.innerHTML = '';\n",
              "          dataTable['output_type'] = 'display_data';\n",
              "          await google.colab.output.renderOutput(dataTable, element);\n",
              "          const docLink = document.createElement('div');\n",
              "          docLink.innerHTML = docLinkHtml;\n",
              "          element.appendChild(docLink);\n",
              "        }\n",
              "      </script>\n",
              "    </div>\n",
              "  </div>\n",
              "  "
            ]
          },
          "metadata": {},
          "execution_count": 32
        }
      ],
      "source": [
        "# Code Cell 29\n",
        "# Are these variables correlated?\n",
        "df_corr = df_clean.corr()\n",
        "df_corr"
      ]
    },
    {
      "cell_type": "code",
      "execution_count": null,
      "metadata": {
        "colab": {
          "base_uri": "https://localhost:8080/"
        },
        "id": "0moZjVuK8MRs",
        "outputId": "95f3d4e8-4fc4-4325-e0d5-dc7a89bee7a7"
      },
      "outputs": [
        {
          "output_type": "stream",
          "name": "stdout",
          "text": [
            "Correlation coefficient between ping and download: nan\n",
            "Correlation coefficient between ping and upload: -0.4630987138300179\n",
            "Correlation coefficient between upload and download: nan\n"
          ]
        }
      ],
      "source": [
        "# Code Cell 30\n",
        "corr = df_corr.values\n",
        "print('Correlation coefficient between ping and download: {}'.format(corr[0, 1]))\n",
        "print('Correlation coefficient between ping and upload: {}'.format(corr[0, 2]))\n",
        "print('Correlation coefficient between upload and download: {}'.format(corr[2, 1]))"
      ]
    },
    {
      "cell_type": "markdown",
      "metadata": {
        "id": "6mGc3oVx8MRs"
      },
      "source": [
        "Estos números ofrecen la respuesta a las preguntas sobre la “relación” entre ping, carga y descarga. La correlación positiva perfecta arroja un valor de +1, mientras que la correlación negativa perfecta arroja un valor de -1. Sin embargo, las correlaciones entre descarga y ping, y entre carga y descarga está cerca de cero. Además, la correlación entre carga y ping es pequeña. Esto lleva a la conclusión de que las tres cantidades están, de hecho, mutuamente **no correlacionadas**. \n",
        "\n"
      ]
    },
    {
      "cell_type": "markdown",
      "metadata": {
        "id": "SXh3ipJR8MRt"
      },
      "source": [
        "## Parte 2: Visualización de datos"
      ]
    },
    {
      "cell_type": "markdown",
      "metadata": {
        "id": "3M0fvQsA8MRt"
      },
      "source": [
        "Como dice el proverbio: «una imagen vale más que mil palabras». Los gráficos informativos, significativos e intuitivos cumplen un rol fundamental en la exploración de datos. Los gráficos son útiles en las etapas iniciales de un proyecto y mucho más allá de ellas también. Los gráficos son una excelente manera de presentar los resultados y las conclusiones de su trabajo frente a una audiencia.\n",
        "\n",
        "Python tiene una biblioteca integral para crear gráficos, llamada 'Matplotlib'. Como recursos adicionales de aprendizaje, vale la pena echar un vistazo a la [documentación] oficial de Matplotlib (http://matplotlib.org/index.html) y, en particular, a los numerosos [ejemplos] (http://matplotlib.org/examples/index.html). "
      ]
    },
    {
      "cell_type": "markdown",
      "metadata": {
        "id": "W-xKMySi8MRu"
      },
      "source": [
        "#### Paso 1: Crear una primera visualización de los datos de la velocidad de Internet.\n",
        "\n",
        "Visualizar el contenido de la 'Estructura de datos' 'df_clean'."
      ]
    },
    {
      "cell_type": "markdown",
      "metadata": {
        "id": "7XcoUU0j8MRu"
      },
      "source": [
        "###### a) Importar Matplotlib."
      ]
    },
    {
      "cell_type": "code",
      "execution_count": null,
      "metadata": {
        "id": "Cu6TATBF8MRv"
      },
      "outputs": [],
      "source": [
        "# Code Cell 31\n",
        "import matplotlib.pyplot as plt\n",
        "# The following allows your Jupyter notebook to create plots inside a cell\n",
        "%matplotlib inline "
      ]
    },
    {
      "cell_type": "markdown",
      "metadata": {
        "id": "2Dm89bAy8MRv"
      },
      "source": [
        "###### b) Cree un gráfico con las estadísticas de la velocidad de Internet.\n",
        "\n",
        "Según lo aprendido en la práctica de laboratorio SF_Crime_Data, genere un gráfico que contenga tres líneas: 1) ping (ms) en función del tiempo, 2). carga (Mbit/s) en función del tiempo y 3) descarga (Mbit/s) en función del tiempo. Utilice la función legend() para agregar una referencia al gráfico, pero no se preocupe por etiquetar los ejes. Resolveremos cómo hacerlo en una tarea posterior.  "
      ]
    },
    {
      "cell_type": "code",
      "execution_count": null,
      "metadata": {
        "colab": {
          "base_uri": "https://localhost:8080/",
          "height": 206
        },
        "id": "u98LE8hs8MRw",
        "outputId": "81c103c3-cb2e-4c68-8391-3fbcc0c242ca"
      },
      "outputs": [
        {
          "output_type": "execute_result",
          "data": {
            "text/plain": [
              "         Date      Time  Ping (ms)  Download (Mbit/s)  Upload (Mbit/s)\n",
              "0  2016-11-24  13:36:25     26.992                NaN            14.31\n",
              "1  2016-11-24  13:36:55     24.532                NaN            14.12\n",
              "2  2016-11-24  13:37:25     20.225                NaN            14.11\n",
              "3  2016-11-24  13:37:57     19.332                NaN            14.22\n",
              "4  2016-11-24  13:38:27     22.494                NaN            14.08"
            ],
            "text/html": [
              "\n",
              "  <div id=\"df-76b92cf4-20d4-43b2-8654-da29c481e62e\">\n",
              "    <div class=\"colab-df-container\">\n",
              "      <div>\n",
              "<style scoped>\n",
              "    .dataframe tbody tr th:only-of-type {\n",
              "        vertical-align: middle;\n",
              "    }\n",
              "\n",
              "    .dataframe tbody tr th {\n",
              "        vertical-align: top;\n",
              "    }\n",
              "\n",
              "    .dataframe thead th {\n",
              "        text-align: right;\n",
              "    }\n",
              "</style>\n",
              "<table border=\"1\" class=\"dataframe\">\n",
              "  <thead>\n",
              "    <tr style=\"text-align: right;\">\n",
              "      <th></th>\n",
              "      <th>Date</th>\n",
              "      <th>Time</th>\n",
              "      <th>Ping (ms)</th>\n",
              "      <th>Download (Mbit/s)</th>\n",
              "      <th>Upload (Mbit/s)</th>\n",
              "    </tr>\n",
              "  </thead>\n",
              "  <tbody>\n",
              "    <tr>\n",
              "      <th>0</th>\n",
              "      <td>2016-11-24</td>\n",
              "      <td>13:36:25</td>\n",
              "      <td>26.992</td>\n",
              "      <td>NaN</td>\n",
              "      <td>14.31</td>\n",
              "    </tr>\n",
              "    <tr>\n",
              "      <th>1</th>\n",
              "      <td>2016-11-24</td>\n",
              "      <td>13:36:55</td>\n",
              "      <td>24.532</td>\n",
              "      <td>NaN</td>\n",
              "      <td>14.12</td>\n",
              "    </tr>\n",
              "    <tr>\n",
              "      <th>2</th>\n",
              "      <td>2016-11-24</td>\n",
              "      <td>13:37:25</td>\n",
              "      <td>20.225</td>\n",
              "      <td>NaN</td>\n",
              "      <td>14.11</td>\n",
              "    </tr>\n",
              "    <tr>\n",
              "      <th>3</th>\n",
              "      <td>2016-11-24</td>\n",
              "      <td>13:37:57</td>\n",
              "      <td>19.332</td>\n",
              "      <td>NaN</td>\n",
              "      <td>14.22</td>\n",
              "    </tr>\n",
              "    <tr>\n",
              "      <th>4</th>\n",
              "      <td>2016-11-24</td>\n",
              "      <td>13:38:27</td>\n",
              "      <td>22.494</td>\n",
              "      <td>NaN</td>\n",
              "      <td>14.08</td>\n",
              "    </tr>\n",
              "  </tbody>\n",
              "</table>\n",
              "</div>\n",
              "      <button class=\"colab-df-convert\" onclick=\"convertToInteractive('df-76b92cf4-20d4-43b2-8654-da29c481e62e')\"\n",
              "              title=\"Convert this dataframe to an interactive table.\"\n",
              "              style=\"display:none;\">\n",
              "        \n",
              "  <svg xmlns=\"http://www.w3.org/2000/svg\" height=\"24px\"viewBox=\"0 0 24 24\"\n",
              "       width=\"24px\">\n",
              "    <path d=\"M0 0h24v24H0V0z\" fill=\"none\"/>\n",
              "    <path d=\"M18.56 5.44l.94 2.06.94-2.06 2.06-.94-2.06-.94-.94-2.06-.94 2.06-2.06.94zm-11 1L8.5 8.5l.94-2.06 2.06-.94-2.06-.94L8.5 2.5l-.94 2.06-2.06.94zm10 10l.94 2.06.94-2.06 2.06-.94-2.06-.94-.94-2.06-.94 2.06-2.06.94z\"/><path d=\"M17.41 7.96l-1.37-1.37c-.4-.4-.92-.59-1.43-.59-.52 0-1.04.2-1.43.59L10.3 9.45l-7.72 7.72c-.78.78-.78 2.05 0 2.83L4 21.41c.39.39.9.59 1.41.59.51 0 1.02-.2 1.41-.59l7.78-7.78 2.81-2.81c.8-.78.8-2.07 0-2.86zM5.41 20L4 18.59l7.72-7.72 1.47 1.35L5.41 20z\"/>\n",
              "  </svg>\n",
              "      </button>\n",
              "      \n",
              "  <style>\n",
              "    .colab-df-container {\n",
              "      display:flex;\n",
              "      flex-wrap:wrap;\n",
              "      gap: 12px;\n",
              "    }\n",
              "\n",
              "    .colab-df-convert {\n",
              "      background-color: #E8F0FE;\n",
              "      border: none;\n",
              "      border-radius: 50%;\n",
              "      cursor: pointer;\n",
              "      display: none;\n",
              "      fill: #1967D2;\n",
              "      height: 32px;\n",
              "      padding: 0 0 0 0;\n",
              "      width: 32px;\n",
              "    }\n",
              "\n",
              "    .colab-df-convert:hover {\n",
              "      background-color: #E2EBFA;\n",
              "      box-shadow: 0px 1px 2px rgba(60, 64, 67, 0.3), 0px 1px 3px 1px rgba(60, 64, 67, 0.15);\n",
              "      fill: #174EA6;\n",
              "    }\n",
              "\n",
              "    [theme=dark] .colab-df-convert {\n",
              "      background-color: #3B4455;\n",
              "      fill: #D2E3FC;\n",
              "    }\n",
              "\n",
              "    [theme=dark] .colab-df-convert:hover {\n",
              "      background-color: #434B5C;\n",
              "      box-shadow: 0px 1px 3px 1px rgba(0, 0, 0, 0.15);\n",
              "      filter: drop-shadow(0px 1px 2px rgba(0, 0, 0, 0.3));\n",
              "      fill: #FFFFFF;\n",
              "    }\n",
              "  </style>\n",
              "\n",
              "      <script>\n",
              "        const buttonEl =\n",
              "          document.querySelector('#df-76b92cf4-20d4-43b2-8654-da29c481e62e button.colab-df-convert');\n",
              "        buttonEl.style.display =\n",
              "          google.colab.kernel.accessAllowed ? 'block' : 'none';\n",
              "\n",
              "        async function convertToInteractive(key) {\n",
              "          const element = document.querySelector('#df-76b92cf4-20d4-43b2-8654-da29c481e62e');\n",
              "          const dataTable =\n",
              "            await google.colab.kernel.invokeFunction('convertToInteractive',\n",
              "                                                     [key], {});\n",
              "          if (!dataTable) return;\n",
              "\n",
              "          const docLinkHtml = 'Like what you see? Visit the ' +\n",
              "            '<a target=\"_blank\" href=https://colab.research.google.com/notebooks/data_table.ipynb>data table notebook</a>'\n",
              "            + ' to learn more about interactive tables.';\n",
              "          element.innerHTML = '';\n",
              "          dataTable['output_type'] = 'display_data';\n",
              "          await google.colab.output.renderOutput(dataTable, element);\n",
              "          const docLink = document.createElement('div');\n",
              "          docLink.innerHTML = docLinkHtml;\n",
              "          element.appendChild(docLink);\n",
              "        }\n",
              "      </script>\n",
              "    </div>\n",
              "  </div>\n",
              "  "
            ]
          },
          "metadata": {},
          "execution_count": 35
        }
      ],
      "source": [
        "df_clean.head()"
      ]
    },
    {
      "cell_type": "code",
      "execution_count": null,
      "metadata": {
        "colab": {
          "base_uri": "https://localhost:8080/",
          "height": 324
        },
        "id": "umaMaesI8MRw",
        "outputId": "38752f5a-ea13-4170-9a90-356da91b7d12"
      },
      "outputs": [
        {
          "output_type": "display_data",
          "data": {
            "text/plain": [
              "<Figure size 720x360 with 1 Axes>"
            ],
            "image/png": "[encoded data removed]"
          },
          "metadata": {
            "needs_background": "light"
          }
        }
      ],
      "source": [
        "# Code Cell 32\n",
        "# Initialise figure\n",
        "fig, ax = plt.subplots(figsize=(10, 5))\n",
        "\n",
        "# Create x-axis\n",
        "t = pd.to_datetime(df_clean['Time'])\n",
        "\n",
        "\n",
        "# Plot three curves of different colors\n",
        "ax.plot(t, df_clean['Ping (ms)'], label='Ping (ms)')\n",
        "#ax.plot(...\n",
        "ax.plot(t, df_clean['Download (Mbit/s)'], label='Download (Mbit/s)')\n",
        "#ax.plot(...\n",
        "ax.plot(t, df_clean['Upload (Mbit/s)'], label='Upload (Mbit/s)')\n",
        "# Insert legend\n",
        "ax.legend()\n",
        "plt.show()"
      ]
    },
    {
      "cell_type": "markdown",
      "metadata": {
        "id": "8e-Pmtyc8MRx"
      },
      "source": [
        "###### c) Cambie el estilo de línea.\n",
        "Como las mediciones de ping incluyen variaciones grandes y abruptas, quizás puedan visualizarse mejor mediante puntos. Dentro del comando 'ax.plot (...)' que permite visualizar datos de ping, especifique que estas mediciones estarán representadas como puntos. (Aquí, la mayoría de los códigos se pueden obtener de la tarea anterior)."
      ]
    },
    {
      "cell_type": "code",
      "execution_count": null,
      "metadata": {
        "colab": {
          "base_uri": "https://localhost:8080/",
          "height": 324
        },
        "id": "qJ2dDeMQ8MRx",
        "outputId": "2d2423e4-e689-401d-cd0a-6077cc54ed8a"
      },
      "outputs": [
        {
          "output_type": "display_data",
          "data": {
            "text/plain": [
              "<Figure size 720x360 with 1 Axes>"
            ],
            "image/png": "[encoded data removed]"
          },
          "metadata": {
            "needs_background": "light"
          }
        }
      ],
      "source": [
        "# Code Cell 33\n",
        "# Initialise figure\n",
        "fig, ax = plt.subplots(figsize=(10, 5))\n",
        "\n",
        "# Plot three curves. Ping data \n",
        "# is visualized using dots\n",
        "t = pd.to_datetime(df_clean['Time'])\n",
        "# Plot three curves of different colors\n",
        "ax.plot(t, df_clean['Ping (ms)'], 'o', label='Ping (ms)')\n",
        "#ax.plot(...\n",
        "ax.plot(t, df_clean['Download (Mbit/s)'], label='Download (Mbit/s)')\n",
        "#ax.plot(...\n",
        "ax.plot(t, df_clean['Upload (Mbit/s)'], label='Upload (Mbit/s)')\n",
        "# Insert legend\n",
        "ax.legend()\n",
        "plt.show()"
      ]
    },
    {
      "cell_type": "markdown",
      "metadata": {
        "id": "ppjxQbZU8MRy"
      },
      "source": [
        "###### d) Agregue etiquetas a los ejes."
      ]
    },
    {
      "cell_type": "markdown",
      "metadata": {
        "id": "yqEiiZEc8MRy"
      },
      "source": [
        "Un gráfico sin ejes etiquetados, y quizás sin un título, es difícil de comprender, ya que uno puede no saber con seguridad qué cantidades se representan. Cree los gráficos anteriores según la práctica científica estándar agregando etiquetas y un título a los ejes. Especifique un tamaño de fuente de alrededor de 16, de modo que el título y las etiquetas se impriman nítidamente. "
      ]
    },
    {
      "cell_type": "code",
      "execution_count": null,
      "metadata": {
        "colab": {
          "base_uri": "https://localhost:8080/",
          "height": 359
        },
        "id": "z6AwW83g8MRz",
        "outputId": "3d6020d6-88f1-462d-e5f8-c8244232c8f5"
      },
      "outputs": [
        {
          "output_type": "display_data",
          "data": {
            "text/plain": [
              "<Figure size 720x360 with 1 Axes>"
            ],
            "image/png": "[encoded data removed]"
          },
          "metadata": {
            "needs_background": "light"
          }
        }
      ],
      "source": [
        "# Code Cell 35\n",
        "# Initialise figure\n",
        "fig, ax = plt.subplots(figsize=(10, 5))\n",
        "\n",
        "# Plot three curves\n",
        "t = pd.to_datetime(df_clean['Time'])\n",
        "ax.plot(t, df_clean['Ping (ms)'], 'o', label='Ping (ms)')\n",
        "ax.plot(t, df_clean['Upload (Mbit/s)'], label='Upload (Mbit/s)')\n",
        "ax.plot(t, df_clean['Download (Mbit/s)'], label='Download (Mbit/s)')\n",
        "\n",
        "# Insert legend\n",
        "ax.legend()\n",
        "\n",
        "# Add axis labels and title\n",
        "ax.set_xlabel('Time (hh:mm:ss)', size=16)\n",
        "ax.set_ylabel('Measurement', size=16)\n",
        "ax.set_title('BigData', size=18)\n",
        "\n",
        "# Change tick size\n",
        "ax.tick_params(labelsize=10)"
      ]
    },
    {
      "cell_type": "markdown",
      "metadata": {
        "collapsed": true,
        "id": "PfGgUn_F8MRz"
      },
      "source": [
        "###### e) Cambie la temática del gráfico.\n",
        "Utilice el [contexto de estilo] ''fivethirtyeight'' (http://matplotlib.org/examples/style_sheets/plot_fivethirtyeight.html) para que el gráfico anterior tenga más atractivo visual. Para hacerlo, agregue la fila con 'with' a su código antes de activar las funciones de 'Matplotlib'."
      ]
    },
    {
      "cell_type": "code",
      "execution_count": null,
      "metadata": {
        "colab": {
          "base_uri": "https://localhost:8080/",
          "height": 375
        },
        "id": "xstlUYgy8MR0",
        "outputId": "ed162b17-fcbc-470c-ec9b-3c0968e5766f"
      },
      "outputs": [
        {
          "output_type": "display_data",
          "data": {
            "text/plain": [
              "<Figure size 720x360 with 1 Axes>"
            ],
            "image/png": "[encoded data removed]"
          },
          "metadata": {}
        }
      ],
      "source": [
        "# Code Cell 36\n",
        "# Use a style context\n",
        "with plt.style.context('fivethirtyeight'):\n",
        "    fig, ax = plt.subplots(figsize=(10, 5))\n",
        "    t = pd.to_datetime(df_clean['Time'])\n",
        "    ax.plot(t, df_clean['Ping (ms)'], 'o', label='Ping (ms)')\n",
        "    ax.plot(t, df_clean['Upload (Mbit/s)'], label='Upload (Mbit/s)')\n",
        "    ax.plot(t, df_clean['Download (Mbit/s)'], label='Download (Mbit/s)')\n",
        "    # Insert legend\n",
        "    ax.legend()\n",
        "    # Add axis labels and title\n",
        "    ax.set_xlabel('Time (hh:mm:ss)', size=16)\n",
        "    ax.set_ylabel('Measurement', size=16)\n",
        "    ax.set_title('BigData', size=18)\n",
        "    # Change tick size\n",
        "    ax.tick_params(labelsize=10)\n",
        "    \n",
        "    # Initialise figure\n",
        "    #fig, ax = \n",
        "    \n",
        "    # Plot ping as a function of time\n",
        " \n",
        "    # Add axis labels and title\n",
        "    \n",
        "    # Change tick size"
      ]
    },
    {
      "cell_type": "markdown",
      "metadata": {
        "id": "iA88y-Kw8MR0"
      },
      "source": [
        "###### f) Cree un histograma.\n",
        "\n",
        "Un histograma es una representación gráfica de la frecuencia de los valores de datos numéricos. Analice el código que aparece a continuación. Un nivel adicional de complejidad es el uso de los argumentos secundarios para visualizar histogramas de lado a lado. "
      ]
    },
    {
      "cell_type": "code",
      "execution_count": null,
      "metadata": {
        "colab": {
          "base_uri": "https://localhost:8080/",
          "height": 632
        },
        "id": "R8eyqZlB8MR1",
        "outputId": "adf7b406-f658-46bb-b979-81bdc1389b6d"
      },
      "outputs": [
        {
          "output_type": "display_data",
          "data": {
            "text/plain": [
              "<Figure size 720x720 with 4 Axes>"
            ],
            "image/png": "[encoded data removed]"
          },
          "metadata": {}
        }
      ],
      "source": [
        "# Code Cell 37\n",
        "with plt.style.context('fivethirtyeight'):\n",
        "    \n",
        "    nbins = 100\n",
        "    # Initialize figure\n",
        "    fig, ax = plt.subplots(2, 2, figsize=(10, 10))\n",
        "    ax[0][0].hist(df_clean['Ping (ms)'], nbins)\n",
        "    ax[0][0].set_xlabel('Ping (ms)', fontsize=16)\n",
        "    ax[0][0].tick_params(labelsize=14)\n",
        "    ax[0][1].hist(df_clean['Upload (Mbit/s)'], nbins)\n",
        "    ax[0][1].set_xlabel('Upload (Mbit/s)', fontsize=16)\n",
        "    ax[0][1].tick_params(labelsize=14)\n",
        "    #ax[1][0].hist(df_clean['Download (Mbit/s)'], nbins)\n",
        "    #ax[1][0].set_xlabel('Download (Mbit/s)', fontsize=16)\n",
        "    ax[1][0].tick_params(labelsize=14)\n",
        "    ax[1][1].set_visible(False)"
      ]
    },
    {
      "cell_type": "markdown",
      "metadata": {
        "collapsed": true,
        "id": "-ksxbx858MR1"
      },
      "source": [
        "<font size='0.5'>&copy; 2017 Cisco y/o sus filiales. Todos los derechos reservados. Este documento es información pública de Cisco.<font>"
      ]
    }
  ],
  "metadata": {
    "kernelspec": {
      "display_name": "Python 3 (ipykernel)",
      "language": "python",
      "name": "python3"
    },
    "language_info": {
      "codemirror_mode": {
        "name": "ipython",
        "version": 3
      },
      "file_extension": ".py",
      "mimetype": "text/x-python",
      "name": "python",
      "nbconvert_exporter": "python",
      "pygments_lexer": "ipython3",
      "version": "3.9.13"
    },
    "colab": {
      "provenance": [],
      "include_colab_link": true
    }
  },
  "nbformat": 4,
  "nbformat_minor": 0
}