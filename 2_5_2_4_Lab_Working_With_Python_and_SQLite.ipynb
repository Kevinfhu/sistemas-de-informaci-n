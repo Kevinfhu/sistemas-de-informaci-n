{
  "cells": [
    {
      "cell_type": "markdown",
      "metadata": {
        "id": "view-in-github",
        "colab_type": "text"
      },
      "source": [
        "<a href=\"https://colab.research.google.com/github/Kevinfhu/sistemas-de-informaci-n/blob/main/2_5_2_4_Lab_Working_With_Python_and_SQLite.ipynb\" target=\"_parent\"><img src=\"https://colab.research.google.com/assets/colab-badge.svg\" alt=\"Open In Colab\"/></a>"
      ]
    },
    {
      "cell_type": "markdown",
      "metadata": {
        "id": "vRiS223xhJfR"
      },
      "source": [
        "![Título](Images/cisco.png)"
      ]
    },
    {
      "cell_type": "markdown",
      "metadata": {
        "id": "n9X3NAjGhJfV"
      },
      "source": [
        "## Práctica de laboratorio: Cómo trabajar con Python y SQLite\n"
      ]
    },
    {
      "cell_type": "code",
      "source": [
        "from google.colab import drive\n",
        "drive.mount('/content/drive')"
      ],
      "metadata": {
        "id": "cxaf3IZxhyRf",
        "outputId": "ef0da3f8-1333-4a83-b740-c4b14f8547e2",
        "colab": {
          "base_uri": "https://localhost:8080/"
        }
      },
      "execution_count": null,
      "outputs": [
        {
          "output_type": "stream",
          "name": "stdout",
          "text": [
            "Drive already mounted at /content/drive; to attempt to forcibly remount, call drive.mount(\"/content/drive\", force_remount=True).\n"
          ]
        }
      ]
    },
    {
      "cell_type": "markdown",
      "metadata": {
        "id": "-Mkpj9a8hJfX"
      },
      "source": [
        "### Objetivos\n",
        "<b>\n",
        "* Parte 1: Crear la base de datos\n",
        "* Parte 2: Ingresar los datos y consultar la base de datos\n",
        "* Parte 3: Automatizar el proceso con Python\n",
        "</b>"
      ]
    },
    {
      "cell_type": "code",
      "source": [
        "!pip install kora\n",
        "from kora import console\n",
        "console.start() "
      ],
      "metadata": {
        "id": "pmBVqlYa19F3"
      },
      "execution_count": null,
      "outputs": []
    },
    {
      "cell_type": "markdown",
      "source": [],
      "metadata": {
        "id": "0fA68ucF17yG"
      }
    },
    {
      "cell_type": "markdown",
      "metadata": {
        "id": "h5g1lqHLhJfa"
      },
      "source": [
        "### Aspectos básicos/situación\n",
        "En esta práctica de laboratorio aprenderá cómo conectarse a una base de datos relacional, realizar consultas y recuperar los datos a través de una computadora portátil de Jupyter. También aprenderá cómo transferir los datos de una hoja de cálculo de Microsoft Excel a una base de datos de SQLite. \n",
        "\n",
        "Los datos que se le proporcionan contienen distintas mediciones para la velocidad de ping, carga y descarga en diferentes autoridades locales alrededor de Inglaterra. De momento, los datos se almacenan en un archivo .csv, pero creará una base de datos y la completará con la medición."
      ]
    },
    {
      "cell_type": "markdown",
      "metadata": {
        "id": "87RM9AbGhJfe"
      },
      "source": [
        "### Recursos necesarios\n",
        "* 1 computadora con acceso a Internet\n",
        "* Raspberry Pi versión 2 o superior\n",
        "* Bibliotecas de Python: sqlite3 y csvkit\n",
        "\n",
        "### Actualización de SQL\n",
        "* Introducción muy breve a las bases de datos relacionales (temporales): http://searchsqlserver.techtarget.com/definition/relational-database</li>\n",
        "* Más videos sobre bases de datos relacionales: https://www.youtube.com/watch?v=jyju2P-7hPA&list=PLAwxTw4SYaPm4R6j_wzVOCV9fJaiQDYx4</li>\n",
        "* Introducción a SQL: http://www.w3schools.com/sql/sql_intro.asp</li>\n",
        "* Cómo trabajar con SQLite mediante la línea de comandos: https://www.sqlite.org/cli.html"
      ]
    },
    {
      "cell_type": "markdown",
      "metadata": {
        "id": "fMV5PMDPhJfg"
      },
      "source": [
        "### Parte 1: Crear la base de datos"
      ]
    },
    {
      "cell_type": "markdown",
      "metadata": {
        "id": "iiYjJzNkhJfi"
      },
      "source": [
        "Emplearemos SQLite para la conexión a la base de datos. SQLite es una biblioteca que implementa un motor de base de datos SQL transaccional autónomo que elimina la necesidad de un servidor SQL. Una utilidad simple de SQLite llamada 'sqlite3' se puede instalar en Raspberry Pi. SQLite simplifica considerablemente el proceso de la base de datos SQL.\n",
        "También utilizaremos 'csvkit', un conjunto de herramientas diseñadas para convertir diversas bases de datos al formato .csv (valores separados por comas)."
      ]
    },
    {
      "cell_type": "markdown",
      "metadata": {
        "id": "yo2Cy3JohJfj"
      },
      "source": [
        "##### Paso 1: Configurar el entorno de trabajo.\n",
        "Necesitaremos 'sqlite3' y 'csvkit' para completar esta práctica de laboratorio. Los siguientes comandos se pueden ingresar y ejecutar directamente en un terminal de Raspberry Pi. Puede obtener acceso al terminal haciendo clic en <b>Nuevo > Terminal</b> en la ficha Inicio de su navegador. La ficha Inicio es la ficha que contiene la lista de prácticas de laboratorio que utilizó para abrir esta práctica.\n",
        "\n",
        "<b>Nota:</b> Se recomienda configurar la ficha terminal codo a codo con esta ficha. Esto le permite cambiar fácilmente de la práctica de laboratorio a la ventana terminal. \n",
        "\n",
        "###### a) Instale SQLite.\n",
        "A continuación, el primer comando actualiza y sincroniza la lista de paquetes de Pi con el servidor repositorio. Esto se realiza para asegurar que se utilicen las versiones más recientes de paquetes. Una vez que la lista de paquetes está actualizada, el segundo comando instala 'sqlite3', un paquete de SQLite para Pi que contiene la utilidad 'sqlite3'.\n",
        "\n",
        "<b>Nota:</b> Dado que Raspberry Pi tiene que tomar contacto con los servidores repositorios del paquete para descargar e instalar los paquetes, estos comandos pueden demorar un momento en terminar de ejecutarse.\n",
        "\n",
        "Ejecute la celda haciendo clic en el icono de reproducción a la izquierda de la celda de código o seleccione la celda presionando <SHIFT+ENTER>. La ejecución de una celda de código ejecuta los comandos incluidos en su Raspberry Pi.\n",
        "\n",
        "<b>Nota:</b> En una computadora portátil de Jupyter, las líneas que comienzan con un signo de exclamación (```!```) son comandos que serán ejecutados por el terminal de Raspberry Pi."
      ]
    },
    {
      "cell_type": "markdown",
      "metadata": {
        "id": "UsFp6e2jhJfl"
      },
      "source": [
        "‘# apt-get update’<br>\n",
        "‘# apt-get -y install sqlite3’"
      ]
    },
    {
      "cell_type": "markdown",
      "metadata": {
        "id": "MPigBcSfhJfn"
      },
      "source": [
        "Después de que el proceso de instalación finalice, instale ‘csvkit’ ejecutando la celda de código a continuación:<br>\n",
        "<b>Nota:</b> La instalación puede tardar un tiempo."
      ]
    },
    {
      "cell_type": "markdown",
      "metadata": {
        "id": "SLrBa5n0hJfp"
      },
      "source": [
        "‘# pip install csvkit’"
      ]
    },
    {
      "cell_type": "markdown",
      "metadata": {
        "id": "VplEjxQbhJfv"
      },
      "source": [
        "Ahora Raspberry Pi tiene ‘sqlite3’ y ‘csvkit’ instalados y listos para utilizarse."
      ]
    },
    {
      "cell_type": "markdown",
      "metadata": {
        "id": "c3ec1aA7hJfx"
      },
      "source": [
        "##### Paso 2: Trabajar con SQLite.\n",
        "Ahora que ‘sqlite3’ y ‘csvkit’ están instalados, podemos empezar a utilizarlos para crear una base de datos y sus tablas.\n",
        "Una tabla es un conjunto de información dispuesto en una matriz de filas y columnas. Una base de datos es un conjunto de tablas.\n",
        "Considere la tabla a continuación:\n",
        "<table>\n",
        "<tr><td>ID</td><td>nombre</td><td>género</td><td>raza</td><td>sensible a la fuerza</td></tr>\n",
        "<tr><td>001</td><td>Han</td><td>hombre</td><td>humano</td><td>no</td></tr>\n",
        "<tr><td>002</td><td>Leia</td><td>mujer</td><td>humano</td><td>sí</td></tr>\n",
        "<tr><td>003</td><td>Luke</td><td>hombre</td><td>humano</td><td>sí</td></tr>\n",
        "<tr><td>004</td><td>Obi-Wan</td><td>hombre</td><td>humano</td><td>sí</td></tr>\n",
        "<tr><td>005</td><td>Anakin</td><td>hombre</td><td>humano</td><td>sí</td></tr>\n",
        "<tr><td>006</td><td>Jabba</td><td>hombre</td><td>Hutt</td><td>no</td></tr>\n",
        "<tr><td>007</td><td>Greedo</td><td>hombre</td><td>Rodian</td><td>no</td></tr>\n",
        "<tr><td>008</td><td>R2D2</td><td>N/D</td><td>Droid</td><td>no</td></tr>\n",
        "<tr><td>009</td><td>C3PO</td><td>N/D</td><td>Droid</td><td>no</td></tr>\n",
        "</table><br>\n",
        "\n",
        "La tabla anterior contiene información acerca de ocho personas, presentada en una fila y columna.\n",
        "\n",
        "<b>Note:</b> Para garantizar la uniformidad en las ubicaciones del archivo, considere trabajar desde el directorio <b>/home/pi/notebooks/myfiles</b>. Para cambiar a ese directorio, utilice el comando ‘cd’, que se muestra a continuación:<br><br>\n",
        "‘# cd /home/pi/notebooks/myfiles’<br><br>\n",
        "\n",
        "Antes de poder comenzar a trabajar con una base de datos, utilice ‘sqlite3’ para crear una nueva base de datos de SQLite denominada ‘phonebook.db’. Para crear la nueva base de datos, ejecute el siguiente comando en la ventana del terminal:<br><br>\n",
        "‘# sqlite3 phonebook.db’<br>\n",
        "‘SQLite version 3.8.7.1 2016-02-06 13:59:56\n",
        "Entrar en \".help\" para obtener sugerencias de uso.\n",
        "sqlite>’"
      ]
    },
    {
      "cell_type": "markdown",
      "metadata": {
        "id": "Ex-31N7BhJfy"
      },
      "source": [
        "La utilidad ‘sqlite3’ muestra información de la versión y presenta su prompt, <b>sqlite> </b>. Este prompt indica que la base de datos ‘phonebook.db’ se creó correctamente y ‘sqlite3’ está listo para ejecutar los comandos SQL en ella.\n",
        "\n",
        "Cree una tabla en la base de datos. En el prompt ‘sqlite3’, ejecute el siguiente comando para crear una tabla denominada <b>colegas</b>. La tabla <b>colegas</b> tiene 3 columnas (o campos): workid, nombre y título. Observe que el comando también especifica el tipo y la cantidad de datos que cada campo puede admitir. El campo <b>workid</b> admite valores de número entero. El campo <b>nombre</b> admite 20 caracteres varchar. El campo <b>título</b> acepta 20 caracteres varchar. El campo <b>número</b> también es un número entero."
      ]
    },
    {
      "cell_type": "markdown",
      "metadata": {
        "id": "I5k6n-1zhJfz"
      },
      "source": [
        "‘sqlite> create table coworkers(workid integer,name varchar(20),title varchar(20),number integer);’"
      ]
    },
    {
      "cell_type": "markdown",
      "metadata": {
        "id": "C4qa_dIQhJf0"
      },
      "source": [
        "La misma base de datos puede contener varias tablas. En el prompt ‘sqlite3’, utilice el primer comando siguiente para crear una segunda tabla en la base de datos ‘phonebook.db’. El comando crea una tabla denominada departamentos. Creada de manera similar a la tabla colegas, la tabla departamentos contiene tres campos: <b>deptid</b>, <b>nombre</b> y <b>número</b>.\n",
        "\n",
        "El segundo comando deja el prompt `sqlite3` y regresa al Terminal."
      ]
    },
    {
      "cell_type": "markdown",
      "metadata": {
        "id": "k20z_uMOhJf2"
      },
      "source": [
        "‘sqlite> create table department(deptid integer,name varchar(20),number integer);’<br>\n",
        "‘sqlite> .quit’"
      ]
    },
    {
      "cell_type": "markdown",
      "metadata": {
        "id": "1SgFEV1dhJf5"
      },
      "source": [
        "Observe el punto \".\" antes del comando ‘quit’ en la celda anterior. Por lo general, ‘sqlite3’ pasa las líneas ingresadas por el usuario en la biblioteca de SQLite para su ejecución. Sin embargo, las líneas de entrada que comienzan con un punto son interceptadas e interpretadas por la utilidad sqlite3 en sí. También conocidos como <i>comandos de punto</i>, estos comandos se utilizan frecuentemente para cambiar el formato de entrega de consultas, o ejecutar determinadas declaraciones de pedido armadas previamente.<br>\n",
        "\n",
        "Las bases de datos de SQLite son útiles porque la base de datos y todas sus tablas están dentro de un único archivo de .db y se almacenan en el disco. En el terminal de Pi, utilice el comando ‘ls’ para enumerar el archivo que contiene la base de datos ‘phonebook.db’ y sus tablas. Utilice el switch ‘-l’ para mostrar el formato largo de listas que permite ver los permisos, la propiedad, el tamaño, y la fecha y la hora del archivo.<br>\n",
        "\n",
        "‘# ls -l phonebook.db’<br>\n",
        "‘-rw-r--r-- 1 root root 3072 Feb 7 01:29 phonebook.db’"
      ]
    },
    {
      "cell_type": "markdown",
      "metadata": {
        "id": "X0jx5xVvhJf5"
      },
      "source": [
        "### Parte 2: Ingresar los datos y consultar la base de datos"
      ]
    },
    {
      "cell_type": "markdown",
      "metadata": {
        "id": "nB8Qfw59hJf7"
      },
      "source": [
        "##### Paso 1: Ingresar los datos en la base de datos.\n",
        "\n",
        "Ingrese el prompt ‘sqlite3’ nuevamente, mientras selecciona la base de datos phonebook.db. <br>\n",
        "\n",
        "‘# sqlite3 phonebook.db'<br><br>\n",
        "‘SQLite version 3.8.7.1 2016-02-06 13:59:56\n",
        "Entrar en \".help\" para obtener sugerencias de uso.\n",
        "sqlite>’"
      ]
    },
    {
      "cell_type": "markdown",
      "metadata": {
        "id": "NUCZTXynhJf9"
      },
      "source": [
        "Use el siguiente comando para agregar una entrada a la tabla colegas:<br><br>\n",
        "\n",
        "‘sqlite> insert into coworkers values(101,'Han Solo','Bounty Hunter',5556667578);’<br>\n",
        "\n",
        "El comando anterior inserta una fila de cuatro valores en la tabla <b>colegas</b> de la siguiente manera:<br>\n",
        "<li><b>101</b> en la columna <b>workid</b></li>\n",
        "<li><b>Han Solo</b> en la columna <b>nombre</b></li>\n",
        "<li><b>Bounty Hunter</b> en la columna <b>título</b></li>\n",
        "<li><b>5556667578</b> en la columna <b>número</b></li>\n"
      ]
    },
    {
      "cell_type": "markdown",
      "metadata": {
        "id": "k-WtYaWphJf-"
      },
      "source": [
        "Mientras que el comando anterior es bastante sencillo, no funciona bien. Otra opción es importar un archivo .csv directamente a la base de datos. La estructura de la tabla se crea según la estructura del archivo .csv.<br>\n",
        "\n",
        "Los siguientes pasos crean el archivo .csv para importar a la base de datos. En un entorno de producción, los archivos .csv ya existirán probablemente.<br>\n",
        "\n",
        "a) Seleccione y copie el texto que se muestra a continuación al tablero. Una vez seleccionado el texto, haga clic con el botón secundario en el texto seleccionado y seleccione Copiar para copiar el texto al tablero.<br>\n",
        "\n",
        "workid, nombre, título, número<br>\n",
        "101,Han Solo,Bounty Hunter,5556667578<br>\n",
        "102,Leia Skywalker,Princess,5556542398<br>\n",
        "103,Luke Skywalker,Jedi,5558963267<br>\n",
        "104,Obi-Wan Kenobi,Jedi,5558963276<br>\n",
        "105,Anakin Skywalker,Sith Lord,5553477621<br>\n",
        "106,Jabba The Hutt,Gangster,5556613456<br>\n",
        "107,Greedo,Debt Collector,5552360918<br>\n",
        "108,R2D2,Astro Droid,5555210125<br>\n",
        "109,C3PO,Protocol Droid,5556633345<br>\n",
        "\n",
        "b) En el terminal de Pi, comience <b>nano</b>. Nano es un editor de texto de la línea de comandos y es muy fácil de usar. Use el siguiente comando para comenzar nano y crear un nuevo archivo de texto llamado coworkers.csv<br>\n",
        "\n",
        "‘# nano coworkers.csv'\n",
        "\n",
        "c) Pegue el texto copiado en la ventana nano. Asegúrese de eliminar cualquier línea en blanco del archivo.\n",
        "\n",
        "d) Cuando el texto se haya pegado en el archivo coworkers.csv y se hayan eliminado las líneas vacías, presione CONTROL+X para salir de nano. \n",
        "\n",
        "e) Presione “Y” (Sí) cuando nano le pregunte si desea guardar el archivo.\n",
        "\n",
        "f) Para consultar el contenido del archivo CSV recién creado, utilice el comando ‘cat’, como se muestra a continuación:\n",
        "\n",
        "‘# cat coworkers.csv'\n"
      ]
    },
    {
      "cell_type": "markdown",
      "metadata": {
        "id": "6XPBmn_QhJf_"
      },
      "source": [
        "O bien, puede crear el mismo archivo CSV automáticamente a través de esta computadora portátil de Jupyter. Para crear el archivo CSV automáticamente con la computadora portátil de Jupyter, ejecute la celda de código a continuación:"
      ]
    },
    {
      "cell_type": "code",
      "execution_count": null,
      "metadata": {
        "collapsed": true,
        "id": "wgfTWUWshJgA",
        "colab": {
          "base_uri": "https://localhost:8080/"
        },
        "outputId": "de980439-7178-4419-d9ce-0acd5d909e51"
      },
      "outputs": [
        {
          "output_type": "stream",
          "name": "stdout",
          "text": [
            "/bin/bash: /home/pi/notebooks/myfiles/coworkers.csv: No such file or directory\n",
            "/bin/bash: /home/pi/notebooks/myfiles/coworkers.csv: No such file or directory\n",
            "/bin/bash: /home/pi/notebooks/myfiles/coworkers.csv: No such file or directory\n",
            "/bin/bash: /home/pi/notebooks/myfiles/coworkers.csv: No such file or directory\n",
            "/bin/bash: /home/pi/notebooks/myfiles/coworkers.csv: No such file or directory\n",
            "/bin/bash: /home/pi/notebooks/myfiles/coworkers.csv: No such file or directory\n",
            "/bin/bash: /home/pi/notebooks/myfiles/coworkers.csv: No such file or directory\n",
            "/bin/bash: /home/pi/notebooks/myfiles/coworkers.csv: No such file or directory\n",
            "/bin/bash: /home/pi/notebooks/myfiles/coworkers.csv: No such file or directory\n",
            "/bin/bash: /home/pi/notebooks/myfiles/coworkers.csv: No such file or directory\n"
          ]
        }
      ],
      "source": [
        "# Code Cell 1\n",
        "!test -e coworkers.csv && rm coworkers.csv\n",
        "!echo \"workid,name,title,number\" >> /home/pi/notebooks/myfiles/coworkers.csv\n",
        "!echo \"101,Han Solo,Bounty Hunter,5556667578\" >> /home/pi/notebooks/myfiles/coworkers.csv\n",
        "!echo \"102,Leia Skywalker,Princess,5556542398\" >> /home/pi/notebooks/myfiles/coworkers.csv\n",
        "!echo \"103,Luke Skywalker,Jedi,5558963267\" >> /home/pi/notebooks/myfiles/coworkers.csv\n",
        "!echo \"104,Obi-Wan Kenobi,Jedi,5558963276\" >> /home/pi/notebooks/myfiles/coworkers.csv\n",
        "!echo \"105,Anakin Skywalker,Sith Lord,5553477621\" >> /home/pi/notebooks/myfiles/coworkers.csv\n",
        "!echo \"106,Jabba The Hutt,Gangster,5556613456\" >> /home/pi/notebooks/myfiles/coworkers.csv\n",
        "!echo \"107,Greedo,Debt Collector,5552360918\" >> /home/pi/notebooks/myfiles/coworkers.csv\n",
        "!echo \"108,R2D2,Astro Droid,5555210125\" >> /home/pi/notebooks/myfiles/coworkers.csv\n",
        "!echo \"109,C3PO,Protocol Droid,5556633345\" >> /home/pi/notebooks/myfiles/coworkers.csv"
      ]
    },
    {
      "cell_type": "markdown",
      "metadata": {
        "id": "CpJwvPCDhJgB"
      },
      "source": [
        "Nuevamente, utilice el comando ‘cat’ para verificar la creación de archivos y su contenido.\n",
        "\n",
        "‘# cat coworkers.csv'"
      ]
    },
    {
      "cell_type": "markdown",
      "metadata": {
        "id": "IjDC-8JEhJgC"
      },
      "source": [
        "###### Paso 2: Importar los datos en la base de datos.\n",
        "Primero, elimine la tabla colegas de la base de datos phonebook. Debido a que la estructura de la tabla se define mediante la estructura del archivo .csv y hay sólo una entrada en la tabla, es más fácil eliminar la tabla en conjunto.<br>\n",
        "\n",
        "En el terminal, ingrese el prompt sqlite3 mientras selecciona la base de datos phonebook.db:<br>\n",
        "‘# sqlite3 phonebook.db\n",
        "SQLite versión 3.8.7.1 2016-02-06 13:59:56\n",
        "Entrar en \".help\" para obtener sugerencias de uso.\n",
        "sqlite>’\n",
        "\n",
        "Utilice el comando ‘.tables’ para enumerar todas las tablas contenidas actualmente en la base de datos:<br>\n",
        "‘sqlite>.tables’<br>\n",
        "‘departamento de colegas’<br>\n",
        "\n",
        "Dos tablas, <b>colegas</b> y <b>departamento</b>, están actualmente presentes en la base de datos.<br>\n",
        "\n",
        "Utilice el comando de SQL ‘drop’ para eliminar la tabla <b>colegas</b>:<br>\n",
        "‘sqlite> drop table coworkers;’<br>\n",
        "\n",
        "Ejecute el comando ‘.tables’ nuevamente para enumerar todas las tablas actualmente presentes en la base de datos:<br>\n",
        "‘sqlite>.tables’<br>\n",
        "‘departamento’<br>\n",
        "\n",
        "Observe que la tabla colegas se ha eliminado de la base de datos.<br>\n",
        "Deje el prompt ‘sqlite3’ y regrese al terminal:<br>\n",
        "‘sqlite>.quit’<br>\n",
        "\n",
        "En el terminal, utilice la utilidad ‘csvsql’ para crear una nueva tabla en la base de datos phonebook y recuperar los datos contenidos en el archivo coworkers.csv. ‘csvsql’ es parte del paquete ‘csvkit’, instalado anteriormente en esta práctica de laboratorio.<br>\n",
        "\n",
        "‘# csvsql --db sqlite:////home/pi/notebooks/myfiles/phonebook.db --insert /home/pi/notebooks/myfiles/coworkers.csv’<br>\n",
        " \n",
        "Ingrese el prompt sqlite3 mientras selecciona la base de datos phonebook y ejecute el comando ‘.tables’ para enumerar todas las tablas en la base de datos:<br>\n",
        "‘# sqlite3 phonebook.db\n",
        "SQLite versión 3.8.7.1 2016-02-06 13:59:56\n",
        "Entrar en \".help\" para obtener sugerencias de uso.\n",
        "sqlite>’<br>\n",
        "‘sqlite>.tables’<br>\n",
        "‘departamento de colegas’<br>\n",
        "\n",
        "La tabla colegas está nuevamente en la base de datos.<br>"
      ]
    },
    {
      "cell_type": "markdown",
      "metadata": {
        "id": "-a1WDgGHhJgD"
      },
      "source": [
        "###### Paso 3: Consultar la base de datos.\n",
        "\n",
        "En el terminal, ingrese el prompt sqlite3 mientras selecciona la base de datos phonebook.db:<br>\n",
        "‘# sqlite3 phonebook.db\n",
        "SQLite versión 3.8.7.1 2016-02-06 13:59:56\n",
        "Entrar en \".help\" para obtener sugerencias de uso.\n",
        "sqlite>’\n",
        "\n",
        "Enumere todo el contenido de la tabla <b>colegas</b>:<br><br>\n",
        "‘sqlite> select * from coworkers;\n",
        "101 | Han Solo | Bounty Hunter | 5556667578\n",
        "102 | Leia Skywalker | Princesa | 5556542398\n",
        "103 | Luke Skywalker | Jedi | 5558963267\n",
        "104 | Obi-Wan Kenobi | Jedi | 5558963276\n",
        "105 | Anakin Skywalker | Sith Lord | 5553477621\n",
        "106 | Jabba The Hutt | Gángster | 5556613456\n",
        "107 | Greedo | Cobrador | 5552360918\n",
        "108 | R2D2 | Astro Droid | 5555210125\n",
        "109 | C3PO | Protocol Droid | 5556633345\n",
        "sqlite>’\n",
        "\n",
        "En el comando de SQL ‘select’ que se muestra arriba, el carácter de asterisco (\\*) selecciona todos los campos en la tabla <b>colegas</b>. Para mostrar los nombres de las entradas con el cargo de Jedi, utilice el siguiente comando:<br><br>\n",
        "‘sqlite> select name from coworkers where title='Jedi';\n",
        "Luke Skywalker\n",
        "Obi-Wan Kenobi\n",
        "sqlite>\n",
        "’\n",
        "\n",
        "¿Puede crear una consulta para mostrar los nombres de los cazadores de tesoros en la tabla colegas?"
      ]
    },
    {
      "cell_type": "markdown",
      "metadata": {
        "id": "M7mvelM6hJgF"
      },
      "source": []
    },
    {
      "cell_type": "markdown",
      "metadata": {
        "id": "k4rdNW2mhJgG"
      },
      "source": [
        "### Parte 3: Automatizar el proceso con Python"
      ]
    },
    {
      "cell_type": "markdown",
      "metadata": {
        "id": "SgPq_CYUhJgG"
      },
      "source": [
        "Utilice Python para conectarse a la base de datos y ejecutar algunas consultas para saber cómo lucen estos datos.\n",
        "\n",
        "##### Paso 1: Importar los módulos.\n",
        "Para este paso, serán necesarios los siguientes módulos:<br><br>\n",
        "‘sqlite3'<br>\n",
        "‘pandas'<br>\n",
        "‘pyplot'<br><br>\n",
        "A continuación se detallan las líneas de código para importar los módulos requeridos de Python:<br><br>\n",
        "\n",
        "‘# this is the library to talk to the database’<br>\n",
        "‘import sqlite3'<br>\n",
        "‘import pandas as pd’<br>\n",
        "‘# this is a library for data visualization’<br>\n",
        "‘from matplotlib import pyplot as plt’<br>\n",
        "‘# this is to say that we want our plots to be part of this page, and not opened in a new window’<br>\n",
        "‘% matplotlib inline’<br><br>"
      ]
    },
    {
      "cell_type": "markdown",
      "metadata": {
        "id": "9ea5YIJ2hJgH"
      },
      "source": [
        "##### Paso 2: Conectarse a la base de datos.\n",
        "Antes de que las consultas puedan configurarse en la base de datos a través de Python, debe establecerse una conexión con la base de datos. El objeto de Python <b>sqlite3</b> tiene un método <b>connect()</b> que facilita la conexión con la base de datos.<br>\n",
        "\n",
        "<b>Nota:</b> Si bien el objeto de Python y la utilidad de la línea de comando utilizados hasta ahora en esta práctica de laboratorio comparten el mismo nombre, <b>sqlite3</b>, su alcance de uso es diferente. El último debe ejecutarse desde Python mientras que el primero requiere un terminal de Linux para su ejecución.<br>\n",
        "\n",
        "Para utilizar el objeto de Python <b>sqlite3</b> para abrir una conexión, ejecute el método ‘connect’ del objeto ‘sqlite3’. Este método toma una cadena que contiene el nombre de la base de datos para la cual la conexión es necesaria.<br>\n",
        "\n",
        "En este caso, el comando será:\n",
        "\n",
        "‘sqlite3.connect('/home/pi/notebooks/myfiles/phonebook.db')’\n",
        "\n",
        "Esta función regresa la conexión, que se almacenará en una variable llamada ‘conn’. Guardar los detalles de la conexión en una variable permite hacer referencia a esa misma conexión cuando es necesario. La línea de código que contiene la asignación de la variable y el establecimiento de la conexión es la siguiente:\n",
        "\n",
        "‘conn = sqlite3.connect('/home/pi/notebooks/myfiles/phonebook.db')’\n",
        "\n",
        "Ahora que la conexión a la base de datos se ha establecido y sus detalles están guardados y son accesibles mediante la variable ‘conn’, es necesaria una manera de navegar por la base de datos. En este caso, utilizaremos otro método del objeto ‘sqlite3’ denominado ‘cursor()’. Utilizado como puntero deslizable en la base de datos, un cursor es una estructura de control que nos permitirá navegar por las tablas y los registros. El cursor es importante porque especifica en qué celda (tabla, columna y fila) se leerá o escribirá contenido. Para crear el cursor, ejecute el método ‘cursor()’ en una conexión de la base de datos establecida. Dado que guardamos los detalles de la conexión a la base de datos phonebook en la variable ‘conn’, utilice esa variable para crear un cursor, de la siguiente manera:<br>\n",
        "\n",
        "‘conn.cursor()'\n",
        "\n",
        "Utilice otra variable para guardar los detalles del objeto de cursor recién creado. La línea de código a continuación guarda los detalles del cursor en la variable ‘cur’:\n",
        " \n",
        "‘cur = conn.cursor()’\n",
        "\n",
        "A continuación se presenta el programa integral de Python hasta ahora:<br>\n"
      ]
    },
    {
      "cell_type": "code",
      "execution_count": null,
      "metadata": {
        "collapsed": true,
        "id": "W1GRvv7KhJgI",
        "colab": {
          "base_uri": "https://localhost:8080/",
          "height": 236
        },
        "outputId": "1d3bb7a4-d754-4fa9-8ba7-1031324c1bc2"
      },
      "outputs": [
        {
          "output_type": "error",
          "ename": "OperationalError",
          "evalue": "ignored",
          "traceback": [
            "\u001b[0;31m---------------------------------------------------------------------------\u001b[0m",
            "\u001b[0;31mOperationalError\u001b[0m                          Traceback (most recent call last)",
            "\u001b[0;32m<ipython-input-8-3a9a86764711>\u001b[0m in \u001b[0;36m<module>\u001b[0;34m\u001b[0m\n\u001b[1;32m      9\u001b[0m \u001b[0;34m\u001b[0m\u001b[0m\n\u001b[1;32m     10\u001b[0m \u001b[0;31m# establishing the connection to the database and storing the details in conn...\u001b[0m\u001b[0;34m\u001b[0m\u001b[0;34m\u001b[0m\u001b[0;34m\u001b[0m\u001b[0m\n\u001b[0;32m---> 11\u001b[0;31m \u001b[0mconn\u001b[0m \u001b[0;34m=\u001b[0m \u001b[0msqlite3\u001b[0m\u001b[0;34m.\u001b[0m\u001b[0mconnect\u001b[0m\u001b[0;34m(\u001b[0m\u001b[0;34m'/home/pi/notebooks/myfiles/phonebook.db'\u001b[0m\u001b[0;34m)\u001b[0m\u001b[0;34m\u001b[0m\u001b[0;34m\u001b[0m\u001b[0m\n\u001b[0m\u001b[1;32m     12\u001b[0m \u001b[0;34m\u001b[0m\u001b[0m\n\u001b[1;32m     13\u001b[0m \u001b[0;31m# creating a cursor and storing its details in cur...\u001b[0m\u001b[0;34m\u001b[0m\u001b[0;34m\u001b[0m\u001b[0;34m\u001b[0m\u001b[0m\n",
            "\u001b[0;31mOperationalError\u001b[0m: unable to open database file"
          ]
        }
      ],
      "source": [
        "# Code Cell 2\n",
        "# this is the library to talk to the database\n",
        "import sqlite3\n",
        "import pandas as pd\n",
        "# this is a library for data visualisation\n",
        "from matplotlib import pyplot as plt\n",
        "# this is to say that we want our plots to be part of this page, and not opened in a new window\n",
        "%matplotlib inline\n",
        "\n",
        "# establishing the connection to the database and storing the details in conn...\n",
        "conn = sqlite3.connect('/home/pi/notebooks/myfiles/phonebook.db')\n",
        "\n",
        "# creating a cursor and storing its details in cur...\n",
        "cur = conn.cursor()"
      ]
    },
    {
      "cell_type": "markdown",
      "metadata": {
        "id": "hgWyvAhShJgK"
      },
      "source": [
        "##### Paso 3: Ejecutar una consulta.\n",
        "\n",
        "Para ejecutar consultas en la base de datos, utilice el método ‘execute()’. Escrito como método del objeto de <b>cursor</b>, este método toma, como entrada, una cadena que contiene la consulta que nos interesa. Para facilitar un poco el programa, guardaremos la consulta en una variable llamada ‘query’. El método de ejecución es el siguiente:<br><br>\n",
        "\n",
        "‘query = \"SELECT name FROM coworkers;\"’<br>\n",
        "‘cur.execute(query)'<br>\n",
        "\n",
        "Ejecute la celda a continuación para realizar una consulta y guardar los resultados en <b>cur</b>."
      ]
    },
    {
      "cell_type": "code",
      "execution_count": null,
      "metadata": {
        "collapsed": true,
        "id": "-SJoS_DLhJgL"
      },
      "outputs": [],
      "source": [
        "# Code Cell 3\n",
        "query = \"SELECT * FROM coworkers;\"\n",
        "cur.execute(query)"
      ]
    },
    {
      "cell_type": "markdown",
      "metadata": {
        "id": "1UJd0IGGhJgM"
      },
      "source": [
        "Los resultados de la consulta se guardan en el objeto de <b>cur</b>. Para mostrar los resultados, debemos iterar a través del objeto de <b>cur</b>, e imprimir cada fila.\n",
        "\n",
        "Ejecute la celda a continuación para iterar a través de <b>cur</b> e imprima su contenido:"
      ]
    },
    {
      "cell_type": "code",
      "execution_count": null,
      "metadata": {
        "collapsed": true,
        "id": "hjj1dKIwhJgN"
      },
      "outputs": [],
      "source": [
        "# Code Cell 4\n",
        "for row in cur:\n",
        "    print(row)"
      ]
    },
    {
      "cell_type": "markdown",
      "metadata": {
        "id": "KYrlycmMhJgP"
      },
      "source": [
        "##### Desafío\n",
        "\n",
        "1) Proporcione el código para consultar los nombres de todas las princesas."
      ]
    },
    {
      "cell_type": "markdown",
      "metadata": {
        "id": "8Q69f3WahJgQ"
      },
      "source": []
    },
    {
      "cell_type": "markdown",
      "metadata": {
        "id": "tC7VHzxKhJgQ"
      },
      "source": [
        "2) Proporcione el código para consultar los nombres de todas las princesas y los recaudadores."
      ]
    },
    {
      "cell_type": "markdown",
      "metadata": {
        "id": "V_T1a9XShJgR"
      },
      "source": []
    },
    {
      "cell_type": "markdown",
      "metadata": {
        "id": "9kZDdLbehJgR"
      },
      "source": [
        "3) Proporcione el código para consultar los nombres y los números de todos los Jedi."
      ]
    },
    {
      "cell_type": "markdown",
      "metadata": {
        "id": "ux8bLSuThJgS"
      },
      "source": []
    },
    {
      "cell_type": "markdown",
      "metadata": {
        "id": "lBztQ-2ChJgS"
      },
      "source": [
        "4) Proporcione el código para consultar los nombres de los droids."
      ]
    },
    {
      "cell_type": "markdown",
      "metadata": {
        "id": "EpWihPKohJgT"
      },
      "source": []
    },
    {
      "cell_type": "markdown",
      "metadata": {
        "collapsed": true,
        "id": "gIwFYw2NhJgT"
      },
      "source": [
        "<font size='0.5'>© 2017 Cisco y/o sus filiales. Todos los derechos reservados. Este documento es información pública de Cisco.<font>"
      ]
    }
  ],
  "metadata": {
    "anaconda-cloud": {},
    "kernelspec": {
      "display_name": "Python 3",
      "language": "python",
      "name": "python3"
    },
    "language_info": {
      "codemirror_mode": {
        "name": "ipython",
        "version": 3
      },
      "file_extension": ".py",
      "mimetype": "text/x-python",
      "name": "python",
      "nbconvert_exporter": "python",
      "pygments_lexer": "ipython3",
      "version": "3.6.0"
    },
    "colab": {
      "provenance": [],
      "include_colab_link": true
    }
  },
  "nbformat": 4,
  "nbformat_minor": 0
}