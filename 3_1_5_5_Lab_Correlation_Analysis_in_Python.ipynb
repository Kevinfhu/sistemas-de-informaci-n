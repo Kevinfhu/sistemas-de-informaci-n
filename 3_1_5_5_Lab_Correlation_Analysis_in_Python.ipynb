{
  "cells": [
    {
      "cell_type": "markdown",
      "metadata": {
        "id": "view-in-github",
        "colab_type": "text"
      },
      "source": [
        "<a href=\"https://colab.research.google.com/github/Kevinfhu/sistemas-de-informaci-n/blob/main/3_1_5_5_Lab_Correlation_Analysis_in_Python.ipynb\" target=\"_parent\"><img src=\"https://colab.research.google.com/assets/colab-badge.svg\" alt=\"Open In Colab\"/></a>"
      ]
    },
    {
      "cell_type": "markdown",
      "metadata": {
        "id": "dEFsF4lxHjKU"
      },
      "source": [
        "![Título](Images/cisco.png)"
      ]
    },
    {
      "cell_type": "markdown",
      "metadata": {
        "id": "bI7n0lx-HjKZ"
      },
      "source": [
        "# Práctica de laboratorio: Análisis de correlación en Python\n"
      ]
    },
    {
      "cell_type": "markdown",
      "metadata": {
        "id": "_jLRS4_rHjKb"
      },
      "source": [
        "### Objetivos\n",
        "\n",
        "<b>\n",
        "* Parte 1: El conjunto de datos\n",
        "* Parte 2: Gráficos de dispersión y variables correlacionables\n",
        "* Parte 3: Calcular la correlación con Python\n",
        "* Parte 4: Visualización\n",
        "</b>"
      ]
    },
    {
      "cell_type": "markdown",
      "metadata": {
        "id": "PL2pL2GiHjKd"
      },
      "source": [
        "### Aspectos básicos/situación\n",
        "\n",
        "La correlación es una relación estadística importante que puede indicar si los valores variables tienen relación lineal.\n",
        "\n",
        "En esta práctica de laboratorio aprenderá a utilizar Python para calcular la correlación. En la Parte 1, configurará el conjunto de datos. En la Parte 2, aprenderá a identificar si las variables de un conjunto de datos determinado son correlacionables. Por último, en la Parte 3, utilizará Python para calcular la correlación entre dos conjuntos de variables."
      ]
    },
    {
      "cell_type": "markdown",
      "metadata": {
        "id": "fQ9qzz7LHjKe"
      },
      "source": [
        "### Recursos necesarios\n",
        "* 1 computadora con acceso a Internet\n",
        "* Raspberry Pi versión 2 o superior\n",
        "* Bibliotecas de Python: pandas, numpy, matplotlib, seaborn\n",
        "* Archivos de datos: brainsize.txt"
      ]
    },
    {
      "cell_type": "markdown",
      "metadata": {
        "id": "Rk4Pl0N8HjKe"
      },
      "source": [
        "## Parte 1: El conjunto de datos"
      ]
    },
    {
      "cell_type": "markdown",
      "metadata": {
        "id": "-4dZ5Mp3HjKf"
      },
      "source": [
        "Se utilizará un conjunto de datos que contiene un ejemplo de 40 estudiantes diestros de introducción a la psicología anglosajona de la una gran universidad de Southwestern. Los sujetos realizaron cuatro pruebas secundarias (vocabulario, similitudes, diseño de bloque y finalización de imagen) de la Escala Wechsler de Inteligencia para Adultos (1981) revisada. Los investigadores utilizaron imágenes por resonancia magnética (IRM) para determinar el tamaño del cerebro de los sujetos. También se incluyó información sobre el género y el tamaño del cuerpo (altura y peso). Los investigadores ocultaron los pesos de dos sujetos y la altura de un sujeto por razones de confidencialidad.\n",
        "Se realizaron dos modificaciones sencillas en el conjunto de datos:\n",
        "\n",
        "1. Se reemplazaron los signos de interrogación utilizados para representar los puntos de datos ocultos descritos anteriormente por la cadena “NaN”. La sustitución se realizó porque Pandas no utiliza los signos de interrogación correctamente.\n",
        "\n",
        "2. Reemplazar todos los caracteres de tabulación por comas y así convertir el conjunto de datos en un conjunto de datos CSV.\n",
        "\n",
        "El conjunto de datos elaborado se guarda como 'brainsize.txt'."
      ]
    },
    {
      "cell_type": "markdown",
      "metadata": {
        "id": "DN9lzhkSHjKf"
      },
      "source": [
        "#### Paso 1: Carga del conjunto de datos desde un archivo.\n",
        "\n",
        "Antes de utilizar el conjunto de datos, debe cargarlo en la memoria.\n",
        "\n",
        "En el siguiente código, la primera línea importa los módulos 'pandas' y define 'pd' como un descriptor que se refiere al módulo.\n",
        "\n",
        "La segunda línea carga el archivo CSV del conjunto de datos en una variable llamada 'brainFile'.\n",
        "\n",
        "La tercera línea utiliza 'read_csv()', un método 'pandas' para convertir el conjunto de datos CSV guardado en 'brainFile' en una estructura de datos. La estructura de datos se almacena luego en la variable 'brainFrame'.\n",
        "\n",
        "Ejecute la siguiente celda para activar las funciones descritas."
      ]
    },
    {
      "cell_type": "code",
      "execution_count": null,
      "metadata": {
        "collapsed": true,
        "id": "euZSp3m2HjKh"
      },
      "outputs": [],
      "source": [
        "# Code cell 1\n",
        "import pandas as pd\n",
        "brainFile = './Data/brainsize.txt'\n",
        "brainFrame = pd.read_csv(brainFile)"
      ]
    },
    {
      "cell_type": "markdown",
      "metadata": {
        "id": "hQzMm3GsHjKi"
      },
      "source": [
        "#### Paso 2: Verificación del marco de datos.\n",
        "\n",
        "Para asegurarse de que el marco de datos se haya cargado y creado correctamente, utilice el método 'head()'. Otro método pandas, 'head()' muestra las primeras cinco entradas de un marco de datos."
      ]
    },
    {
      "cell_type": "code",
      "execution_count": null,
      "metadata": {
        "collapsed": true,
        "id": "Dq9XwVDMHjKj"
      },
      "outputs": [],
      "source": [
        "# Code cell 2\n",
        "brainFrame.head()"
      ]
    },
    {
      "cell_type": "markdown",
      "metadata": {
        "id": "gX6FGUgUHjKk"
      },
      "source": [
        "## Parte 2: Gráficos de dispersión y variables correlacionables"
      ]
    },
    {
      "cell_type": "markdown",
      "metadata": {
        "id": "RUnVP9zbHjKk"
      },
      "source": [
        "#### Paso 1: El método pandas 'describe()'.\n",
        "El módulo de pandas incluye el método 'describe()', que realiza los mismos cálculos comunes sobre un conjunto de datos determinado. Además de proporcionar resultados comunes, incluidos el conteo, la media, la desviación estándar, el mínimo y el máximo, 'describe()' también es una excelente manera de probar rápidamente la validez de los valores del marco de datos.<p>\n",
        "Ejecute la siguiente celda para emitir los resultado computados por 'describe()' según el marco de datos 'brainFrame'."
      ]
    },
    {
      "cell_type": "code",
      "execution_count": null,
      "metadata": {
        "collapsed": true,
        "id": "okkPQSXKHjKk"
      },
      "outputs": [],
      "source": [
        "# Code cell 3\n",
        "brainFrame.describe()"
      ]
    },
    {
      "cell_type": "markdown",
      "metadata": {
        "id": "VjSXZXxcHjKl"
      },
      "source": [
        "#### Paso 2: Gráficos de dispersión\n",
        "\n",
        "Los gráficos de dispersión son importantes al trabajar con correlaciones, ya que permiten una verificación visual rápida de la naturaleza de la relación entre las variables. Esta práctica de laboratorio utiliza el coeficiente de correlación de Pearson, que es sensible sólo a una relación lineal entre dos variables. Existen oros métodos de correlación más robustos, pero exceden el alcance de esta práctica de laboratorio.\n",
        "\n",
        "##### a. Cargar los módulos requeridos.\n",
        "Antes de trazar los gráficos, es necesario importar algunos módulos, como 'numpy' y 'matplotlib'. Ejecutar la siguiente celda para cargar estos módulos."
      ]
    },
    {
      "cell_type": "code",
      "execution_count": null,
      "metadata": {
        "collapsed": true,
        "id": "2MS_wJsWHjKl"
      },
      "outputs": [],
      "source": [
        "# Code cell 4\n",
        "import numpy as np\n",
        "import matplotlib.pyplot as plt"
      ]
    },
    {
      "cell_type": "markdown",
      "metadata": {
        "id": "VmgC5S_rHjKl"
      },
      "source": [
        "##### b. Separar los datos.\n",
        "Para asegurarse de que los resultados no se sesguen debido a las diferencias entre organismos femeninos y masculinos, la estructura de datos se divide en dos: una que contiene todas las entradas masculinas y otra solo con instancias femeninas. <p>\n",
        "Al ejecutar la siguiente celda, se crean las dos nuevas estructuras de datos, menDf y womenDf; cada una incluye las entradas respectivas."
      ]
    },
    {
      "cell_type": "code",
      "execution_count": null,
      "metadata": {
        "collapsed": true,
        "id": "-CkY_3VfHjKm"
      },
      "outputs": [],
      "source": [
        "# Code cell 5\n",
        "menDf = brainFrame[(brainFrame.Gender == 'Male')]\n",
        "womenDf = brainFrame[(brainFrame.Gender == 'Female')]"
      ]
    },
    {
      "cell_type": "markdown",
      "metadata": {
        "id": "f1dCyyFFHjKm"
      },
      "source": [
        "##### c. Trazar los gráficos.\n",
        "Como el conjunto de datos incluye tres medidas diferentes de inteligencia (PIQ, FSIQ y VIQ), la primera línea que figura a continuación utiliza el método Pandas 'mean()' para calcular el valor promedio entre las tres y guardar el resultado en la variable 'menMeanSmarts'. Observe que la primera línea también se refiere a menDf, la estructura de datos filtrada que contiene sólo las entradas masculinas.<p>\n",
        "La segunda línea utiliza el método 'matplotlib' 'scatter()' para crear un gráfico de dispersión entre la variable 'menMeanSmarts' y el atributo 'MRI_Count'. El MRI_Count de este conjunto de datos se puede considerar como una medida del tamaño físico del cerebro de los sujetos.<p>\n",
        "La tercera línea simplemente muestra el gráfico.<p>\n",
        "La cuarta línea se utiliza para garantizar que el gráfico se muestre en esta libreta de anotaciones."
      ]
    },
    {
      "cell_type": "code",
      "execution_count": null,
      "metadata": {
        "collapsed": true,
        "id": "tQbgthJgHjKm"
      },
      "outputs": [],
      "source": [
        "# Code cell 6\n",
        "menMeanSmarts = menDf[[\"PIQ\", \"FSIQ\", \"VIQ\"]].mean(axis=1)\n",
        "plt.scatter(menMeanSmarts, menDf[\"MRI_Count\"])\n",
        "plt.show()\n",
        "%matplotlib inline"
      ]
    },
    {
      "cell_type": "markdown",
      "metadata": {
        "id": "--EW--cHHjKn"
      },
      "source": [
        "Del mismo modo, el siguiente código crea un gráfico de dispersión para la estructura de datos filtrada solo para mujeres."
      ]
    },
    {
      "cell_type": "code",
      "execution_count": null,
      "metadata": {
        "collapsed": true,
        "id": "Yc2UJ80THjKn"
      },
      "outputs": [],
      "source": [
        "# Code cell 7\n",
        "# Graph the women-only filtered dataframe\n",
        "#womenMeanSmarts = ?\n",
        "#plt.scatter(?, ?)\n",
        "\n",
        "plt.show()\n",
        "%matplotlib inline"
      ]
    },
    {
      "cell_type": "markdown",
      "metadata": {
        "id": "_WCfmkxPHjKn"
      },
      "source": [
        "## Parte 3: Calcular la correlación con Python\n"
      ]
    },
    {
      "cell_type": "markdown",
      "metadata": {
        "id": "lxR9XZzVHjKn"
      },
      "source": [
        "#### Paso 1: Calcular la correlación según brainFrame.\n",
        "El método pandas 'corr()' ofrece una manera fácil de calcular la correlación según una estructura de datos. Simplemente empleando el método según una estructura de datos, uno puede obtener la correlación entre todas las variables al mismo tiempo."
      ]
    },
    {
      "cell_type": "code",
      "execution_count": null,
      "metadata": {
        "collapsed": true,
        "id": "O3zD4X8nHjKo"
      },
      "outputs": [],
      "source": [
        "# Code cell 8\n",
        "brainFrame.corr(method='pearson')"
      ]
    },
    {
      "cell_type": "markdown",
      "metadata": {
        "id": "MhFpO7HfHjKo"
      },
      "source": [
        "Observe la diagonal de izquierda a derecha en la tabla de correlación generada arriba. ¿Por qué la diagonal está plagada de 1? ¿Se trata de una coincidencia? Explique."
      ]
    },
    {
      "cell_type": "markdown",
      "metadata": {
        "id": "lDLscKzaHjKo"
      },
      "source": []
    },
    {
      "cell_type": "markdown",
      "metadata": {
        "id": "kweCvLUTHjKo"
      },
      "source": [
        "Si continuamos observando la tabla de correlación que figura arriba, notaremos que los valores se duplican; los valores debajo de la diagonal 1 tienen valores homólogos duplicados sobre la diagonal 1. ¿Se trata de una coincidencia? Explique."
      ]
    },
    {
      "cell_type": "markdown",
      "metadata": {
        "id": "e1JXtVHtHjKo"
      },
      "source": []
    },
    {
      "cell_type": "markdown",
      "metadata": {
        "id": "VWaEKRUhHjKp"
      },
      "source": [
        "Con el mismo método 'corr()' es fácil calcular la correlación de las variables que contiene la estructura de datos solo femenina:"
      ]
    },
    {
      "cell_type": "code",
      "execution_count": null,
      "metadata": {
        "collapsed": true,
        "id": "TEaTMf9yHjKp"
      },
      "outputs": [],
      "source": [
        "# Code cell 9\n",
        "womenDf.corr(method='pearson')"
      ]
    },
    {
      "cell_type": "markdown",
      "metadata": {
        "id": "I1-IK3c5HjKp"
      },
      "source": [
        "Y lo mismo se puede hacer para la estructura de datos solo masculina:"
      ]
    },
    {
      "cell_type": "code",
      "execution_count": null,
      "metadata": {
        "collapsed": true,
        "id": "VM_zPNYtHjKp"
      },
      "outputs": [],
      "source": [
        "# Code cell 10\n",
        "# Use corr() for the male-only dataframe with the pearson method\n",
        "#?.corr(?)"
      ]
    },
    {
      "cell_type": "markdown",
      "metadata": {
        "id": "Ifu10VcyHjKq"
      },
      "source": [
        "## Parte 4: Visualización"
      ]
    },
    {
      "cell_type": "markdown",
      "metadata": {
        "id": "qzbODRsXHjKq"
      },
      "source": [
        "#### Paso 1: Instalar Seaborn.\n",
        "Para que sea más sencillo visualizar las correlaciones de datos, se pueden utilizar mapas de calor. Según los cuadros de color, los gráficos del mapa de calor pueden ayudar a identificar correlaciones al instante.\n",
        "\n",
        "El módulo de Python denominado 'seaborn' facilita el trazado de gráficos de los mapas de calor.\n",
        "\n",
        "Primero, ejecute la siguiente celda para descargar e instalar el modulo 'seaborn'."
      ]
    },
    {
      "cell_type": "code",
      "execution_count": null,
      "metadata": {
        "collapsed": true,
        "id": "fmSa7sEVHjKq"
      },
      "outputs": [],
      "source": [
        "# Code cell 11\n",
        "!pip install seaborn"
      ]
    },
    {
      "cell_type": "markdown",
      "metadata": {
        "id": "yAmeacKqHjKq"
      },
      "source": [
        "#### Paso 2: Trazado del mapa de calor de correlación.\n",
        "\n",
        "Ahora que las estructuras de datos están listas, se pueden trazar los mapas de calor. A continuación, se muestra un desglose del código de la celda:\n",
        "\n",
        "Línea 1: genera una tabla de correlación basada en la estructura de datos 'womenNoGenderDf' y la almacena en 'wcorr'.<br>\n",
        "Línea 2: utiliza el método 'seaborn' 'heatmap()' para generar y trazar el mapa de calor. Observe que 'heatmap()' considera 'wcorr' como un parámetro.<br>\n",
        "Línea 3: se usa para exportar y guardar el mapa de calor generado como imagen PNG. Si bien la línea 3 no está activa (tiene el carácter '#' como comentario que la precede y obliga al usuario a ignorarla), se guardó con fines informativos."
      ]
    },
    {
      "cell_type": "code",
      "execution_count": null,
      "metadata": {
        "collapsed": true,
        "id": "cIRAABOCHjKq"
      },
      "outputs": [],
      "source": [
        "# Code cell 12\n",
        "import seaborn as sns\n",
        "\n",
        "wcorr = womenDf.corr()\n",
        "sns.heatmap(wcorr)\n",
        "#plt.savefig('attribute_correlations.png', tight_layout=True)"
      ]
    },
    {
      "cell_type": "markdown",
      "metadata": {
        "id": "h1inAuKpHjKr"
      },
      "source": [
        "Del mismo modo, el siguiente código crea y traza un mapa de calor para la estructura de datos masculina únicamente."
      ]
    },
    {
      "cell_type": "code",
      "execution_count": null,
      "metadata": {
        "collapsed": true,
        "id": "lB_jAZM7HjKr"
      },
      "outputs": [],
      "source": [
        "# Code cell 14\n",
        "mcorr = menDf.corr()\n",
        "sns.heatmap(mcorr)\n",
        "#plt.savefig('attribute_correlations.png', tight_layout=True)"
      ]
    },
    {
      "cell_type": "markdown",
      "metadata": {
        "id": "fmT8gGidHjKs"
      },
      "source": [
        "Muchos pares de variables presentan una correlación cercana a cero. ¿Qué significa?"
      ]
    },
    {
      "cell_type": "markdown",
      "metadata": {
        "id": "TjCt7QLkHjKs"
      },
      "source": []
    },
    {
      "cell_type": "markdown",
      "metadata": {
        "id": "OJqIBLDPHjKs"
      },
      "source": [
        "¿Por qué se separan los géneros?"
      ]
    },
    {
      "cell_type": "markdown",
      "metadata": {
        "id": "yavaav-4HjKs"
      },
      "source": []
    },
    {
      "cell_type": "markdown",
      "metadata": {
        "id": "TYUQPpQMHjKt"
      },
      "source": [
        "¿Qué variables tienen una correlación más estrecha con el tamaño del cerebro (MRI_Count)? ¿Es eso lo que se espera? Explique."
      ]
    },
    {
      "cell_type": "markdown",
      "metadata": {
        "id": "aUSjO2UGHjKt"
      },
      "source": []
    },
    {
      "cell_type": "markdown",
      "metadata": {
        "collapsed": true,
        "id": "VkJfMq2iHjKu"
      },
      "source": [
        "<font size='0.5'>© 2017 Cisco y/o sus filiales. Todos los derechos reservados. Este documento es información pública de Cisco.<font>"
      ]
    }
  ],
  "metadata": {
    "anaconda-cloud": {},
    "kernelspec": {
      "display_name": "Python 3",
      "language": "python",
      "name": "python3"
    },
    "language_info": {
      "codemirror_mode": {
        "name": "ipython",
        "version": 3
      },
      "file_extension": ".py",
      "mimetype": "text/x-python",
      "name": "python",
      "nbconvert_exporter": "python",
      "pygments_lexer": "ipython3",
      "version": "3.6.0"
    },
    "colab": {
      "provenance": [],
      "include_colab_link": true
    }
  },
  "nbformat": 4,
  "nbformat_minor": 0
}