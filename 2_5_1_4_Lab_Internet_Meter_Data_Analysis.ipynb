{
  "cells": [
    {
      "cell_type": "markdown",
      "metadata": {
        "id": "view-in-github",
        "colab_type": "text"
      },
      "source": [
        "<a href=\"https://colab.research.google.com/github/Kevinfhu/sistemas-de-informaci-n/blob/main/2_5_1_4_Lab_Internet_Meter_Data_Analysis.ipynb\" target=\"_parent\"><img src=\"https://colab.research.google.com/assets/colab-badge.svg\" alt=\"Open In Colab\"/></a>"
      ]
    },
    {
      "cell_type": "markdown",
      "metadata": {
        "id": "h3oohI82at-v"
      },
      "source": [
        "![Título](Images/cisco.png)"
      ]
    },
    {
      "cell_type": "code",
      "source": [
        "from google.colab import drive\n",
        "drive.mount('/content/drive')"
      ],
      "metadata": {
        "colab": {
          "base_uri": "https://localhost:8080/"
        },
        "id": "I8uPV5Ajayzk",
        "outputId": "b1829d9d-4997-45b0-825d-01f5fcf69cb0"
      },
      "execution_count": null,
      "outputs": [
        {
          "output_type": "stream",
          "name": "stdout",
          "text": [
            "Mounted at /content/drive\n"
          ]
        }
      ]
    },
    {
      "cell_type": "markdown",
      "metadata": {
        "id": "X097KaByat-y"
      },
      "source": [
        "# Práctica de laboratorio: análisis de datos del contador de Internet "
      ]
    },
    {
      "cell_type": "markdown",
      "metadata": {
        "id": "_VbElrBHat-1"
      },
      "source": [
        "### Objetivos\n",
        "<li>**Parte 1: Recopilar y guardar los datos**</li>\n",
        "<li>**Parte 2: Manipular los datos**</li>\n",
        "### Aspectos básicos/situación\n",
        "En esta práctica de laboratorio, usted adquirirá estadísticas de la velocidad de Internet y almacenar los datos en vivo en los valores separados por comas (csv) Archivo. También cargará los datos almacenados del archivo csv a una estructura de datos de Python, el 'DataFrame' de Panda, y utilizará sus funcionalidades para explorar los datos y para manipularlos de manera que sean fácilmente legibles.\n",
        "### Recursos necesarios\n",
        "* 1 computadora con acceso a Internet\n",
        "* Raspberry Pi versión 2 o superior\n",
        "* Bibliotecas de Python: datetime, csv, subprocess, pandas, numpy\n",
        "* Archivos de datos: rpi_data_long.csv"
      ]
    },
    {
      "cell_type": "markdown",
      "metadata": {
        "id": "83zjx1pWat-5"
      },
      "source": [
        "## Parte 1: Recopilar y guardar los datos\n",
        "<p>El objetivo de esta primera parte de la práctica de laboratorio es reunir mediciones de la velocidad de Internet a través de Raspberry Pi. Se recogerán tres tipos de mediciones:\n",
        "1. Velocidad de ping\n",
        "2. Velocidad de descarga\n",
        "3. Velocidad de carga"
      ]
    },
    {
      "cell_type": "markdown",
      "metadata": {
        "id": "1g-5T5Fbat-7"
      },
      "source": [
        "#### Paso 1: Instalar Speedtest e importar las bibliotecas de Python.\n",
        "En este paso, instalará Speedtest e importará las bibliotecas de Python.\n",
        "<p>Speedtest-cli es un script de Python que mide la velocidad de carga y de descarga de la conexión a Internet. Para obtener más información sobre speedtest, vaya a https://github.com/sivel/speedtest-cli."
      ]
    },
    {
      "cell_type": "markdown",
      "metadata": {
        "id": "6qmH5ZNUat-8"
      },
      "source": [
        "a) Instale 'speedtest-cli'."
      ]
    },
    {
      "cell_type": "code",
      "execution_count": null,
      "metadata": {
        "collapsed": true,
        "colab": {
          "base_uri": "https://localhost:8080/"
        },
        "id": "EsiIxMYFat-8",
        "outputId": "9f2516d1-56a2-4558-b4f8-f03b3fe18884"
      },
      "outputs": [
        {
          "output_type": "stream",
          "name": "stdout",
          "text": [
            "Looking in indexes: https://pypi.org/simple, https://us-python.pkg.dev/colab-wheels/public/simple/\n",
            "Collecting speedtest-cli\n",
            "  Downloading speedtest_cli-2.1.3-py2.py3-none-any.whl (23 kB)\n",
            "Installing collected packages: speedtest-cli\n",
            "Successfully installed speedtest-cli-2.1.3\n"
          ]
        }
      ],
      "source": [
        "# Code cell 1\n",
        "!pip install speedtest-cli"
      ]
    },
    {
      "cell_type": "markdown",
      "metadata": {
        "id": "NttGPqjwat-9"
      },
      "source": [
        "Este cli permite que la notebook de Jupyter se conecte a la página web y guarde los datos."
      ]
    },
    {
      "cell_type": "markdown",
      "metadata": {
        "id": "U_P6GEMiat--"
      },
      "source": [
        "b) Importe las bibliotecas de Python necesarias."
      ]
    },
    {
      "cell_type": "code",
      "execution_count": null,
      "metadata": {
        "collapsed": true,
        "id": "aJl2vpPwat-_"
      },
      "outputs": [],
      "source": [
        "# Code cell 2\n",
        "# Python library to manage date and time data\n",
        "import datetime\n",
        "# Python library to read and write csv files\n",
        "import csv\n",
        "# Python library to execute bash commands from the notebook.\n",
        "# If you want to know more about this, check this resource: \n",
        "# http://www.pythonforbeginners.com/os/subprocess-for-system-administrators\n",
        "import subprocess"
      ]
    },
    {
      "cell_type": "markdown",
      "metadata": {
        "id": "77JSqjyoat_A"
      },
      "source": [
        "#### Paso 2: Generar las marcas de hora mediante el paquete 'datetime'.\n",
        "En esta práctica de laboratorio, se generarán mediciones de las estadísticas de la velocidad de Internet. Un paso crucial en la adquisición de datos para la mayoría de las aplicaciones de análisis de datos es asociar una marca de hora a las mediciones. "
      ]
    },
    {
      "cell_type": "markdown",
      "metadata": {
        "id": "R3sWKXCwat_B"
      },
      "source": [
        "a) Para generar una marca de hora, utilice la función 'datetime.now' del paquete 'datetime': "
      ]
    },
    {
      "cell_type": "code",
      "execution_count": null,
      "metadata": {
        "collapsed": true,
        "colab": {
          "base_uri": "https://localhost:8080/"
        },
        "id": "VIkVy4eKat_B",
        "outputId": "ebb2602f-669b-481a-e912-5792772fee80"
      },
      "outputs": [
        {
          "output_type": "stream",
          "name": "stdout",
          "text": [
            "2023-01-31 01:24:36.613237 <class 'datetime.datetime'>\n"
          ]
        }
      ],
      "source": [
        "# Code cell 3\n",
        "date_time = datetime.datetime.now()\n",
        "print(date_time, type(date_time))"
      ]
    },
    {
      "cell_type": "markdown",
      "metadata": {
        "id": "3kO36aTEat_C"
      },
      "source": [
        "b) Una instancia de la clase 'datetime' no se puede escribir directamente en forma de texto. La función 'strftime' analiza la información de fecha en una cadena. Los argumentos de esta función determinan el formato del sting de salida. Una descripción de estos parámetros se encuentra en la documentación de la función 'strftime' en https://docs.python.org/2/library/time.html. "
      ]
    },
    {
      "cell_type": "code",
      "execution_count": null,
      "metadata": {
        "collapsed": true,
        "colab": {
          "base_uri": "https://localhost:8080/",
          "height": 35
        },
        "id": "Ie5ylvtUat_C",
        "outputId": "477e077a-cda7-4c48-9cb6-2963cc9ec916"
      },
      "outputs": [
        {
          "output_type": "execute_result",
          "data": {
            "text/plain": [
              "'Tue, 31 Jan 2023 01:24:36'"
            ],
            "application/vnd.google.colaboratory.intrinsic+json": {
              "type": "string"
            }
          },
          "metadata": {},
          "execution_count": 5
        }
      ],
      "source": [
        "# Code cell 4\n",
        "date_time.strftime('%a, %d %b %Y %H:%M:%S')"
      ]
    },
    {
      "cell_type": "markdown",
      "metadata": {
        "id": "_m3Sdw-pat_D"
      },
      "source": [
        "Después de leer la documentación de la función 'strftime', genere una marca de hora y analícela en una cadena con el siguiente formato: AAAA-MM-DD HH:MM:SS."
      ]
    },
    {
      "cell_type": "code",
      "execution_count": null,
      "metadata": {
        "collapsed": true,
        "id": "RtsoZozkat_E"
      },
      "outputs": [],
      "source": [
        "# Code cell 5\n",
        "# enter your code\n"
      ]
    },
    {
      "cell_type": "markdown",
      "metadata": {
        "id": "1Ft1THSbat_F"
      },
      "source": [
        "#### Paso 3: Ejecutar el proceso y recopilar la salida con Python.\n",
        "\n",
        "El comando 'speedtest-cli', si se ejecuta desde un terminal, devuelve una cadena con las velocidades de carga y descarga. Para ejecutar el comando de la computadora portátil, es necesario utilizar el 'subproceso' del módulo de Python, que permite la ejecución de un proceso directamente de las celdas de código de la computadora portátil. "
      ]
    },
    {
      "cell_type": "markdown",
      "metadata": {
        "id": "AWpe4AeSat_F"
      },
      "source": [
        "a) Ejecute una prueba de velocidad mediante el comando 'speedtest-cli' de Python. La salida se almacenará en la variable process_output."
      ]
    },
    {
      "cell_type": "code",
      "execution_count": null,
      "metadata": {
        "collapsed": true,
        "id": "hvUCykaSat_G"
      },
      "outputs": [],
      "source": [
        "# Code cell 6\n",
        "# This string contains the command line to interface with speedtest.net\n",
        "speedtest_cmd = \"speedtest-cli --simple\"\n",
        "# Execute the process\n",
        "process = subprocess.Popen(speedtest_cmd.split(), stdout=subprocess.PIPE)\n",
        "# Collect the command output\n",
        "process_output = process.communicate()[0]"
      ]
    },
    {
      "cell_type": "markdown",
      "metadata": {
        "id": "lXi_-2bPat_G"
      },
      "source": [
        "b) Imprima la salida del proceso. Observe el tipo para la variable 'process_output'."
      ]
    },
    {
      "cell_type": "code",
      "execution_count": null,
      "metadata": {
        "collapsed": true,
        "colab": {
          "base_uri": "https://localhost:8080/"
        },
        "id": "cW3pNz7Eat_G",
        "outputId": "9932ab14-68e4-4ef6-8ada-ff8d44ef5d51"
      },
      "outputs": [
        {
          "output_type": "stream",
          "name": "stdout",
          "text": [
            "b'Ping: 25.415 ms\\nDownload: 2024.50 Mbit/s\\nUpload: 479.68 Mbit/s\\n' <class 'bytes'>\n"
          ]
        }
      ],
      "source": [
        "# Code cell 7\n",
        "print(process_output, type(process_output))"
      ]
    },
    {
      "cell_type": "markdown",
      "metadata": {
        "id": "2SHtc6RLat_H"
      },
      "source": [
        "c) El resultado de la prueba de velocidad se divide, y una marca de hora se adjunta a los resultados."
      ]
    },
    {
      "cell_type": "code",
      "execution_count": null,
      "metadata": {
        "collapsed": true,
        "colab": {
          "base_uri": "https://localhost:8080/"
        },
        "id": "OtxNacUMat_I",
        "outputId": "8c18b85b-3f8f-447a-f235-99ec74482581"
      },
      "outputs": [
        {
          "output_type": "stream",
          "name": "stdout",
          "text": [
            "[b'Ping:', b'25.415', b'ms', b'Download:', b'2024.50', b'Mbit/s', b'Upload:', b'479.68', b'Mbit/s', '2023-01-31 01:24:55'] <class 'list'>\n"
          ]
        }
      ],
      "source": [
        "# Code cell 8\n",
        "# Store the time at which the speedtest was executed\n",
        "date_time = datetime.datetime.now().strftime(\"%Y-%m-%d %H:%M:%S\")\n",
        "process_output = process_output.split()\n",
        "process_output.append(date_time)\n",
        "print(process_output, type(process_output))"
      ]
    },
    {
      "cell_type": "markdown",
      "metadata": {
        "id": "5_w8gfoOat_I"
      },
      "source": [
        "d) La función speedtest() se crea para devolver los resultados del comando speedtest-cli."
      ]
    },
    {
      "cell_type": "code",
      "execution_count": null,
      "metadata": {
        "collapsed": true,
        "id": "maseLwwPat_J"
      },
      "outputs": [],
      "source": [
        "# Code cell 9\n",
        "# function to excute the speed test\n",
        "def speedtest():\n",
        "    # We need to store the time at which the speedtest was executed\n",
        "    date_time = datetime.datetime.now().strftime(\"%Y-%m-%d %H:%M:%S\")\n",
        "    # This is a string that contains what we would write on the command line \n",
        "    #to interface with speedtest.net\n",
        "    speedtest_cmd = \"speedtest-cli --simple\"\n",
        "    # We now execute the process: \n",
        "    process = subprocess.Popen(speedtest_cmd.split(), stdout=subprocess.PIPE)\n",
        "    process_output = process.communicate()[0]\n",
        "    process_output = process_output.split()\n",
        "    # and we add the date and time \n",
        "    process_output.append(date_time)\n",
        "    return process_output"
      ]
    },
    {
      "cell_type": "markdown",
      "metadata": {
        "id": "4CtvC1hsat_J"
      },
      "source": [
        "¿Qué devuelve la función speedtest()? ¿Cuál es el código para ver resultados de la función speedtest()?"
      ]
    },
    {
      "cell_type": "markdown",
      "metadata": {
        "id": "KbOMEiQiat_K"
      },
      "source": []
    },
    {
      "cell_type": "code",
      "execution_count": null,
      "metadata": {
        "collapsed": true,
        "id": "aspsC_s7at_K"
      },
      "outputs": [],
      "source": [
        "# Code cell 10 \n",
        "# Code to view the results from speedtest() function\n"
      ]
    },
    {
      "cell_type": "markdown",
      "metadata": {
        "id": "wKKwyi46at_K"
      },
      "source": [
        "Paso 4: Guardar la salida de la función 'speedtest()'.\n",
        "\n",
        "Los valores separados por comas (csv) son el formato de importación y exportación más común para las hojas de cálculo y las bases de datos. Para obtener más información sobre el trabajo con los csv en Python, navegue a https://docs.python.org/2/library/csv.html."
      ]
    },
    {
      "cell_type": "markdown",
      "metadata": {
        "id": "omDk1-Fuat_L"
      },
      "source": [
        "a) Cree un archivo denominado test.txt en el directorio /tmp y escriba \"test_msg\" en el archivo."
      ]
    },
    {
      "cell_type": "code",
      "execution_count": null,
      "metadata": {
        "collapsed": true,
        "id": "pAZQ8lYeat_L"
      },
      "outputs": [],
      "source": [
        "# Code cell 11\n",
        "with open(\"/tmp/test.txt\",'w') as f:\n",
        "    f.write('test_msg')"
      ]
    },
    {
      "cell_type": "markdown",
      "metadata": {
        "id": "k5ymQZLHat_L"
      },
      "source": [
        "b) Use el comando de Linux 'cat' para verificar la creación y el contenido del archivo."
      ]
    },
    {
      "cell_type": "code",
      "execution_count": null,
      "metadata": {
        "collapsed": true,
        "colab": {
          "base_uri": "https://localhost:8080/"
        },
        "id": "MM4ZRwX1at_M",
        "outputId": "5f23814e-df57-4c53-957d-19b5037e2a51"
      },
      "outputs": [
        {
          "output_type": "stream",
          "name": "stdout",
          "text": [
            "test_msg"
          ]
        }
      ],
      "source": [
        "# Code cell 12\n",
        "!cat /tmp/test.txt"
      ]
    },
    {
      "cell_type": "markdown",
      "metadata": {
        "id": "_opu1Wsrat_M"
      },
      "source": [
        "c) Para verificar que el archivo se haya abierto correctamente:"
      ]
    },
    {
      "cell_type": "code",
      "execution_count": null,
      "metadata": {
        "collapsed": true,
        "colab": {
          "base_uri": "https://localhost:8080/"
        },
        "id": "NgVg4cTWat_M",
        "outputId": "21fa667c-de4c-4d69-bca2-0c2a98de4731"
      },
      "outputs": [
        {
          "output_type": "stream",
          "name": "stdout",
          "text": [
            "test_msg\n"
          ]
        }
      ],
      "source": [
        "# Code cell 13\n",
        "with open(\"/tmp/test.txt\",'r') as f:\n",
        "   str = f.read()\n",
        "print(str)"
      ]
    },
    {
      "cell_type": "markdown",
      "metadata": {
        "id": "IkDLkOkEat_N"
      },
      "source": [
        "d) La comprensión del significado de la declaración 'with', especialmente en combinación con 'try' y 'except' no es necesaria para el resto de esta práctica de laboratorio, pero se incluye un recurso útil sobre esto en http://effbot.org/zone/python-with-statement.htm.\n",
        "<p>\n",
        "Para escribir en el archivo 'csv', es necesario crear un objeto 'csv.writer'. Verifique https://docs.python.org/2/library/csv.html y descubra qué función del objeto 'csv.writer' se puede utilizar para agregar una fila al archivo 'csv'."
      ]
    },
    {
      "cell_type": "code",
      "execution_count": null,
      "metadata": {
        "collapsed": true,
        "id": "Rfzo94uTat_N"
      },
      "outputs": [],
      "source": [
        "# Code cell 14\n",
        "# function to save data to csv\n",
        "def save_to_csv(data, filename):\n",
        "    try:\n",
        "        # If the file exists, we want to append a new line to it, with the \n",
        "        #results of the current experiment\n",
        "        with open(filename + '.csv', 'a') as f:\n",
        "            wr = csv.writer(f)\n",
        "            wr.writerow(data)\n",
        "    except:\n",
        "        # If it does not exist, create the file first\n",
        "        with open(filename + '.csv', 'w') as f:\n",
        "            # Hint: This is similar to appending new lines to a file.\n",
        "            # Create a csv writer object\n",
        "            wr = csv.writer(f)\n",
        "            # Save (write) to file\n",
        "            wr.writerow(data)"
      ]
    },
    {
      "cell_type": "markdown",
      "metadata": {
        "id": "TyDjCofrat_O"
      },
      "source": [
        "#### Paso 5: Verificar los datos recolectados.\n",
        "Escriba una función para abrir un archivo csv e imprima su contenido en la pantalla. Puede encontrar un ejemplo en la sección 13.1.5 de https://docs.python.org/2/library/csv.html"
      ]
    },
    {
      "cell_type": "code",
      "execution_count": null,
      "metadata": {
        "collapsed": true,
        "id": "LA0HF1yQat_O"
      },
      "outputs": [],
      "source": [
        "# Code cell 15\n",
        "def print_from_csv(filename): \n",
        "    with open(filename + '.csv', 'r') as f:\n",
        "            re = csv.reader(f)\n",
        "            # 1. Loop over the rows\n",
        "            # 2. print"
      ]
    },
    {
      "cell_type": "markdown",
      "metadata": {
        "id": "xSGQjDLCat_P"
      },
      "source": [
        "Ahora, todas las funciones necesarias para recopilar y almacenar los datos de la velocidad de Internet han finalizado.\n",
        "#### Paso 6: Ejecutar varias veces Speedtest y guardar los datos.\n",
        "a) Escriba un bucle 'for' que ejecute speedtest 5 veces, imprima la salida de las pruebas y guarde los datos en un archivo csv."
      ]
    },
    {
      "cell_type": "code",
      "execution_count": null,
      "metadata": {
        "collapsed": true,
        "colab": {
          "base_uri": "https://localhost:8080/"
        },
        "id": "NmHgEpGlat_Q",
        "outputId": "a6f16a78-da07-403a-e0b7-a12210165f55"
      },
      "outputs": [
        {
          "output_type": "stream",
          "name": "stdout",
          "text": [
            "Test number 0\n",
            "[b'Ping:', b'29.673', b'ms', b'Download:', b'2243.85', b'Mbit/s', b'Upload:', b'482.23', b'Mbit/s', '2023-01-31 01:37:37']\n",
            "Test number 1\n",
            "[b'Ping:', b'20.824', b'ms', b'Download:', b'2102.39', b'Mbit/s', b'Upload:', b'429.19', b'Mbit/s', '2023-01-31 01:37:43']\n",
            "Test number 2\n",
            "[b'Ping:', b'20.609', b'ms', b'Download:', b'1958.08', b'Mbit/s', b'Upload:', b'468.21', b'Mbit/s', '2023-01-31 01:37:49']\n",
            "Test number 3\n",
            "[b'Ping:', b'20.73', b'ms', b'Download:', b'2035.70', b'Mbit/s', b'Upload:', b'444.16', b'Mbit/s', '2023-01-31 01:37:55']\n",
            "Test number 4\n",
            "[b'Ping:', b'20.593', b'ms', b'Download:', b'632.48', b'Mbit/s', b'Upload:', b'546.11', b'Mbit/s', '2023-01-31 01:38:00']\n"
          ]
        }
      ],
      "source": [
        "# Code cell 16\n",
        "for i in range(5):\n",
        "    speedtest_output = speedtest()\n",
        "    print('Test number {}'.format(i))\n",
        "    print(speedtest_output)\n",
        "    save_to_csv(speedtest_output, '/tmp/rpi_data_test')\n",
        "    "
      ]
    },
    {
      "cell_type": "markdown",
      "metadata": {
        "id": "E2LDl1Yzat_Q"
      },
      "source": [
        "b) Muestre el archivo para verificar que los datos se hayan guardado correctamente."
      ]
    },
    {
      "cell_type": "code",
      "execution_count": null,
      "metadata": {
        "collapsed": true,
        "id": "HRTbaaiaat_Q"
      },
      "outputs": [],
      "source": [
        "# Code cell 17\n",
        "print_from_csv('/tmp/rpi_data_test')\n"
      ]
    },
    {
      "cell_type": "markdown",
      "metadata": {
        "id": "XaX-y1W3at_Q"
      },
      "source": [
        "Si un conjunto de datos más grande es necesario, speedtest puede ejecutarse en segundo plano para más muestras.\n",
        "\n",
        "¿Cómo cambiaría el código si quisiera ejecutar el código 100 veces?"
      ]
    },
    {
      "cell_type": "markdown",
      "metadata": {
        "collapsed": true,
        "id": "zfUIzT2Iat_R"
      },
      "source": []
    },
    {
      "cell_type": "code",
      "execution_count": null,
      "metadata": {
        "collapsed": true,
        "id": "a1wugTTGat_R"
      },
      "outputs": [],
      "source": [
        "# Code cell 18\n",
        "# Code to run 100 times\n",
        "# for i in xrange(100):\n",
        "#     speedtest_output = speedtest()\n",
        "#     print 'Test number: {}'.format(i)\n",
        "#     print speedtest_output\n",
        "#     save_to_csv(speedtest_output, '/tmp/rpi_data')"
      ]
    },
    {
      "cell_type": "markdown",
      "metadata": {
        "id": "1sbldvsUat_R"
      },
      "source": [
        "## Parte 2: Manipular los datos"
      ]
    },
    {
      "cell_type": "markdown",
      "metadata": {
        "id": "N7HpLxgVat_R"
      },
      "source": [
        "Los biblioteca de Python 'pandas' es muy útil para trabajar con datos estructurados. La documentación completa se encuentra aquí: http://pandas.pydata.org/pandas-docs/version/0.14.1/</font>\n",
        "\n",
        "Se utilizará un conjunto de datos más grande recopilado de antemano para esta parte de la práctica de laboratorio. El nombre de archivo es 'rpi_data_long.csv'.\n",
        "\n",
        "#### Paso 1: Importar las bibliotecas de Python.\n",
        "\n",
        "Importe 'pandas' y otras bibliotecas utilizadas para las siguientes tareas."
      ]
    },
    {
      "cell_type": "code",
      "execution_count": null,
      "metadata": {
        "collapsed": true,
        "id": "F0qIJQGiat_S"
      },
      "outputs": [],
      "source": [
        "# Code cell 19\n",
        "import datetime\n",
        "import csv\n",
        "import pandas as pd\n",
        "# NumPy is a library that adds support for large, multi-dimensional arrays and matrices\n",
        "# along with high-level mathematical functions to operate on these arrays\n",
        "import numpy as np"
      ]
    },
    {
      "cell_type": "markdown",
      "metadata": {
        "id": "c7nuGLwGat_S"
      },
      "source": [
        "#### Paso 2: Cargar el archivo 'csv' en un objeto 'DataFrame' mediante el uso de 'pandas'.\n",
        "\n",
        "Un 'pandas DataFrame' es una estructura de datos etiquetada de 2 dimensiones con columnas de tipos potencialmente diferentes. Puede verlo como una hoja de cálculo o una tabla de SQL. La función de la biblioteca pandas 'read_csv' convierte automáticamente un archivo 'csv' en un objeto 'DataFrame'.\n",
        "\n",
        "Lea la documentación de 'read_csv' en http://pandas.pydata.org/pandas-docs/version/0.14.1/generated/pandas.read_csv.html.\n",
        "Esta función contiene muchos parámetros. El único no opcional es 'filepath', es decir, la ubicación del archivo 'csv'. Todos los demás parámetros son opcionales.\n",
        "\n",
        "En este paso, importará y verá el contenido del archivo csv, 'rpi_data_long.csv'. Esto archivo csv se encuentra en el mismo directorio que esta notebook de Jupyter."
      ]
    },
    {
      "cell_type": "markdown",
      "metadata": {
        "id": "ZqGJH7PDat_T"
      },
      "source": [
        "a) Asigne el archivo 'rpi_data_long.csv' a la variable 'data_file'."
      ]
    },
    {
      "cell_type": "code",
      "execution_count": null,
      "metadata": {
        "collapsed": true,
        "id": "bcEluxTjat_U"
      },
      "outputs": [],
      "source": [
        "# Code cell 20\n",
        "data_file = '/content/drive/MyDrive/Colab Notebooks/Ch2/Data/rpi_data_long.csv'"
      ]
    },
    {
      "cell_type": "markdown",
      "metadata": {
        "id": "DY-fltVpat_U"
      },
      "source": [
        "b) Utilice el comando 'head' de Linux para ver las primeras 10 líneas del archivo csv."
      ]
    },
    {
      "cell_type": "code",
      "execution_count": null,
      "metadata": {
        "collapsed": true,
        "scrolled": true,
        "colab": {
          "base_uri": "https://localhost:8080/"
        },
        "id": "ZjHoC3ZTat_V",
        "outputId": "3fb9107b-4340-48c2-b0b8-a714b9e08ec9"
      },
      "outputs": [
        {
          "output_type": "stream",
          "name": "stdout",
          "text": [
            "head: cannot open './Data/rpi_data_long.csv' for reading: No such file or directory\n"
          ]
        }
      ],
      "source": [
        "# Code cell 21\n",
        "!head -n 5 ./Data/rpi_data_long.csv"
      ]
    },
    {
      "cell_type": "markdown",
      "metadata": {
        "id": "ejgfYBNFat_V"
      },
      "source": [
        "c) Utilice el parámetro 'names' de la función 'read_csv' para especificar el nombre de las columnas de 'DataFrame'."
      ]
    },
    {
      "cell_type": "code",
      "execution_count": null,
      "metadata": {
        "collapsed": true,
        "id": "Ahp7_W0mat_V"
      },
      "outputs": [],
      "source": [
        "# Code cell 22\n",
        "column_names = [ 'Type A', 'Measure A', 'Units A',\n",
        "                 'Type B', 'Measure B', 'Units B',\n",
        "                 'Type C', 'Measure C', 'Units C', \n",
        "                 'Datetime']"
      ]
    },
    {
      "cell_type": "markdown",
      "metadata": {
        "id": "2pSoWq0gat_W"
      },
      "source": [
        "d) Utilice la función 'read_csv' para leer de 'data_file' y asigne 'column_names' como los nombres de columna en el marco de datos."
      ]
    },
    {
      "cell_type": "code",
      "execution_count": null,
      "metadata": {
        "collapsed": true,
        "id": "ZkL6Y2Mwat_W"
      },
      "outputs": [],
      "source": [
        "# Code cell 23\n",
        "with open(data_file, 'r') as f:\n",
        "    df_redundant = pd.read_csv(f, names = column_names)"
      ]
    },
    {
      "cell_type": "markdown",
      "metadata": {
        "id": "cbB_vha-at_W"
      },
      "source": [
        "e) El comando 'head()' muestra las primeras filas del marco de datos."
      ]
    },
    {
      "cell_type": "code",
      "execution_count": null,
      "metadata": {
        "collapsed": true,
        "colab": {
          "base_uri": "https://localhost:8080/",
          "height": 363
        },
        "id": "wsjHvlUGat_X",
        "outputId": "a4c44588-e098-42e6-e353-a56ae9e0846c"
      },
      "outputs": [
        {
          "output_type": "execute_result",
          "data": {
            "text/plain": [
              "  Type A Measure A Units A     Type B Measure B Units B   Type C  Measure C  \\\n",
              "0  Ping:    26.992      ms  Download:     91.80  Mbit/s  Upload:      14.31   \n",
              "1  Ping:    24.532      ms  Download:     88.19  Mbit/s  Upload:      14.12   \n",
              "2  Ping:    20.225      ms  Download:     59.86  Mbit/s  Upload:      14.11   \n",
              "3  Ping:    19.332      ms  Download:     91.81  Mbit/s  Upload:      14.22   \n",
              "4  Ping:    22.494      ms  Download:     92.05  Mbit/s  Upload:      14.08   \n",
              "5  Ping:    17.586      ms  Download:     91.88  Mbit/s  Upload:      14.18   \n",
              "6  Ping:    21.835      ms  Download:     92.18  Mbit/s  Upload:      14.07   \n",
              "7  Ping:    20.464      ms  Download:     92.05  Mbit/s  Upload:      14.13   \n",
              "8  Ping:    19.293      ms  Download:     90.79  Mbit/s  Upload:      14.14   \n",
              "9  Ping:    20.354      ms  Download:     92.64  Mbit/s  Upload:      14.07   \n",
              "\n",
              "  Units C             Datetime  \n",
              "0  Mbit/s  2016-11-24 13:36:25  \n",
              "1  Mbit/s  2016-11-24 13:36:55  \n",
              "2  Mbit/s  2016-11-24 13:37:25  \n",
              "3  Mbit/s  2016-11-24 13:37:57  \n",
              "4  Mbit/s  2016-11-24 13:38:27  \n",
              "5  Mbit/s  2016-11-24 13:39:01  \n",
              "6  Mbit/s  2016-11-24 13:39:30  \n",
              "7  Mbit/s  2016-11-24 13:40:00  \n",
              "8  Mbit/s  2016-11-24 13:40:30  \n",
              "9  Mbit/s  2016-11-24 13:41:00  "
            ],
            "text/html": [
              "\n",
              "  <div id=\"df-eb8a79ba-34f7-4cd8-8494-bb31f3bc8fd4\">\n",
              "    <div class=\"colab-df-container\">\n",
              "      <div>\n",
              "<style scoped>\n",
              "    .dataframe tbody tr th:only-of-type {\n",
              "        vertical-align: middle;\n",
              "    }\n",
              "\n",
              "    .dataframe tbody tr th {\n",
              "        vertical-align: top;\n",
              "    }\n",
              "\n",
              "    .dataframe thead th {\n",
              "        text-align: right;\n",
              "    }\n",
              "</style>\n",
              "<table border=\"1\" class=\"dataframe\">\n",
              "  <thead>\n",
              "    <tr style=\"text-align: right;\">\n",
              "      <th></th>\n",
              "      <th>Type A</th>\n",
              "      <th>Measure A</th>\n",
              "      <th>Units A</th>\n",
              "      <th>Type B</th>\n",
              "      <th>Measure B</th>\n",
              "      <th>Units B</th>\n",
              "      <th>Type C</th>\n",
              "      <th>Measure C</th>\n",
              "      <th>Units C</th>\n",
              "      <th>Datetime</th>\n",
              "    </tr>\n",
              "  </thead>\n",
              "  <tbody>\n",
              "    <tr>\n",
              "      <th>0</th>\n",
              "      <td>Ping:</td>\n",
              "      <td>26.992</td>\n",
              "      <td>ms</td>\n",
              "      <td>Download:</td>\n",
              "      <td>91.80</td>\n",
              "      <td>Mbit/s</td>\n",
              "      <td>Upload:</td>\n",
              "      <td>14.31</td>\n",
              "      <td>Mbit/s</td>\n",
              "      <td>2016-11-24 13:36:25</td>\n",
              "    </tr>\n",
              "    <tr>\n",
              "      <th>1</th>\n",
              "      <td>Ping:</td>\n",
              "      <td>24.532</td>\n",
              "      <td>ms</td>\n",
              "      <td>Download:</td>\n",
              "      <td>88.19</td>\n",
              "      <td>Mbit/s</td>\n",
              "      <td>Upload:</td>\n",
              "      <td>14.12</td>\n",
              "      <td>Mbit/s</td>\n",
              "      <td>2016-11-24 13:36:55</td>\n",
              "    </tr>\n",
              "    <tr>\n",
              "      <th>2</th>\n",
              "      <td>Ping:</td>\n",
              "      <td>20.225</td>\n",
              "      <td>ms</td>\n",
              "      <td>Download:</td>\n",
              "      <td>59.86</td>\n",
              "      <td>Mbit/s</td>\n",
              "      <td>Upload:</td>\n",
              "      <td>14.11</td>\n",
              "      <td>Mbit/s</td>\n",
              "      <td>2016-11-24 13:37:25</td>\n",
              "    </tr>\n",
              "    <tr>\n",
              "      <th>3</th>\n",
              "      <td>Ping:</td>\n",
              "      <td>19.332</td>\n",
              "      <td>ms</td>\n",
              "      <td>Download:</td>\n",
              "      <td>91.81</td>\n",
              "      <td>Mbit/s</td>\n",
              "      <td>Upload:</td>\n",
              "      <td>14.22</td>\n",
              "      <td>Mbit/s</td>\n",
              "      <td>2016-11-24 13:37:57</td>\n",
              "    </tr>\n",
              "    <tr>\n",
              "      <th>4</th>\n",
              "      <td>Ping:</td>\n",
              "      <td>22.494</td>\n",
              "      <td>ms</td>\n",
              "      <td>Download:</td>\n",
              "      <td>92.05</td>\n",
              "      <td>Mbit/s</td>\n",
              "      <td>Upload:</td>\n",
              "      <td>14.08</td>\n",
              "      <td>Mbit/s</td>\n",
              "      <td>2016-11-24 13:38:27</td>\n",
              "    </tr>\n",
              "    <tr>\n",
              "      <th>5</th>\n",
              "      <td>Ping:</td>\n",
              "      <td>17.586</td>\n",
              "      <td>ms</td>\n",
              "      <td>Download:</td>\n",
              "      <td>91.88</td>\n",
              "      <td>Mbit/s</td>\n",
              "      <td>Upload:</td>\n",
              "      <td>14.18</td>\n",
              "      <td>Mbit/s</td>\n",
              "      <td>2016-11-24 13:39:01</td>\n",
              "    </tr>\n",
              "    <tr>\n",
              "      <th>6</th>\n",
              "      <td>Ping:</td>\n",
              "      <td>21.835</td>\n",
              "      <td>ms</td>\n",
              "      <td>Download:</td>\n",
              "      <td>92.18</td>\n",
              "      <td>Mbit/s</td>\n",
              "      <td>Upload:</td>\n",
              "      <td>14.07</td>\n",
              "      <td>Mbit/s</td>\n",
              "      <td>2016-11-24 13:39:30</td>\n",
              "    </tr>\n",
              "    <tr>\n",
              "      <th>7</th>\n",
              "      <td>Ping:</td>\n",
              "      <td>20.464</td>\n",
              "      <td>ms</td>\n",
              "      <td>Download:</td>\n",
              "      <td>92.05</td>\n",
              "      <td>Mbit/s</td>\n",
              "      <td>Upload:</td>\n",
              "      <td>14.13</td>\n",
              "      <td>Mbit/s</td>\n",
              "      <td>2016-11-24 13:40:00</td>\n",
              "    </tr>\n",
              "    <tr>\n",
              "      <th>8</th>\n",
              "      <td>Ping:</td>\n",
              "      <td>19.293</td>\n",
              "      <td>ms</td>\n",
              "      <td>Download:</td>\n",
              "      <td>90.79</td>\n",
              "      <td>Mbit/s</td>\n",
              "      <td>Upload:</td>\n",
              "      <td>14.14</td>\n",
              "      <td>Mbit/s</td>\n",
              "      <td>2016-11-24 13:40:30</td>\n",
              "    </tr>\n",
              "    <tr>\n",
              "      <th>9</th>\n",
              "      <td>Ping:</td>\n",
              "      <td>20.354</td>\n",
              "      <td>ms</td>\n",
              "      <td>Download:</td>\n",
              "      <td>92.64</td>\n",
              "      <td>Mbit/s</td>\n",
              "      <td>Upload:</td>\n",
              "      <td>14.07</td>\n",
              "      <td>Mbit/s</td>\n",
              "      <td>2016-11-24 13:41:00</td>\n",
              "    </tr>\n",
              "  </tbody>\n",
              "</table>\n",
              "</div>\n",
              "      <button class=\"colab-df-convert\" onclick=\"convertToInteractive('df-eb8a79ba-34f7-4cd8-8494-bb31f3bc8fd4')\"\n",
              "              title=\"Convert this dataframe to an interactive table.\"\n",
              "              style=\"display:none;\">\n",
              "        \n",
              "  <svg xmlns=\"http://www.w3.org/2000/svg\" height=\"24px\"viewBox=\"0 0 24 24\"\n",
              "       width=\"24px\">\n",
              "    <path d=\"M0 0h24v24H0V0z\" fill=\"none\"/>\n",
              "    <path d=\"M18.56 5.44l.94 2.06.94-2.06 2.06-.94-2.06-.94-.94-2.06-.94 2.06-2.06.94zm-11 1L8.5 8.5l.94-2.06 2.06-.94-2.06-.94L8.5 2.5l-.94 2.06-2.06.94zm10 10l.94 2.06.94-2.06 2.06-.94-2.06-.94-.94-2.06-.94 2.06-2.06.94z\"/><path d=\"M17.41 7.96l-1.37-1.37c-.4-.4-.92-.59-1.43-.59-.52 0-1.04.2-1.43.59L10.3 9.45l-7.72 7.72c-.78.78-.78 2.05 0 2.83L4 21.41c.39.39.9.59 1.41.59.51 0 1.02-.2 1.41-.59l7.78-7.78 2.81-2.81c.8-.78.8-2.07 0-2.86zM5.41 20L4 18.59l7.72-7.72 1.47 1.35L5.41 20z\"/>\n",
              "  </svg>\n",
              "      </button>\n",
              "      \n",
              "  <style>\n",
              "    .colab-df-container {\n",
              "      display:flex;\n",
              "      flex-wrap:wrap;\n",
              "      gap: 12px;\n",
              "    }\n",
              "\n",
              "    .colab-df-convert {\n",
              "      background-color: #E8F0FE;\n",
              "      border: none;\n",
              "      border-radius: 50%;\n",
              "      cursor: pointer;\n",
              "      display: none;\n",
              "      fill: #1967D2;\n",
              "      height: 32px;\n",
              "      padding: 0 0 0 0;\n",
              "      width: 32px;\n",
              "    }\n",
              "\n",
              "    .colab-df-convert:hover {\n",
              "      background-color: #E2EBFA;\n",
              "      box-shadow: 0px 1px 2px rgba(60, 64, 67, 0.3), 0px 1px 3px 1px rgba(60, 64, 67, 0.15);\n",
              "      fill: #174EA6;\n",
              "    }\n",
              "\n",
              "    [theme=dark] .colab-df-convert {\n",
              "      background-color: #3B4455;\n",
              "      fill: #D2E3FC;\n",
              "    }\n",
              "\n",
              "    [theme=dark] .colab-df-convert:hover {\n",
              "      background-color: #434B5C;\n",
              "      box-shadow: 0px 1px 3px 1px rgba(0, 0, 0, 0.15);\n",
              "      filter: drop-shadow(0px 1px 2px rgba(0, 0, 0, 0.3));\n",
              "      fill: #FFFFFF;\n",
              "    }\n",
              "  </style>\n",
              "\n",
              "      <script>\n",
              "        const buttonEl =\n",
              "          document.querySelector('#df-eb8a79ba-34f7-4cd8-8494-bb31f3bc8fd4 button.colab-df-convert');\n",
              "        buttonEl.style.display =\n",
              "          google.colab.kernel.accessAllowed ? 'block' : 'none';\n",
              "\n",
              "        async function convertToInteractive(key) {\n",
              "          const element = document.querySelector('#df-eb8a79ba-34f7-4cd8-8494-bb31f3bc8fd4');\n",
              "          const dataTable =\n",
              "            await google.colab.kernel.invokeFunction('convertToInteractive',\n",
              "                                                     [key], {});\n",
              "          if (!dataTable) return;\n",
              "\n",
              "          const docLinkHtml = 'Like what you see? Visit the ' +\n",
              "            '<a target=\"_blank\" href=https://colab.research.google.com/notebooks/data_table.ipynb>data table notebook</a>'\n",
              "            + ' to learn more about interactive tables.';\n",
              "          element.innerHTML = '';\n",
              "          dataTable['output_type'] = 'display_data';\n",
              "          await google.colab.output.renderOutput(dataTable, element);\n",
              "          const docLink = document.createElement('div');\n",
              "          docLink.innerHTML = docLinkHtml;\n",
              "          element.appendChild(docLink);\n",
              "        }\n",
              "      </script>\n",
              "    </div>\n",
              "  </div>\n",
              "  "
            ]
          },
          "metadata": {},
          "execution_count": 39
        }
      ],
      "source": [
        "# Code cell 24\n",
        "# You can specify the number of rows you want to print to screen: \n",
        "# you do so passing the number as an argument to the function\n",
        "# (e.g., head(10))\n",
        "df_redundant.head(10)"
      ]
    },
    {
      "cell_type": "markdown",
      "metadata": {
        "id": "bFT-c4TXat_X"
      },
      "source": [
        "¿Cuál es el código para leer las primeras 20 líneas del archivo csv?"
      ]
    },
    {
      "cell_type": "markdown",
      "metadata": {
        "id": "sb_7f7auat_X"
      },
      "source": [
        "df_redundant.head(20)"
      ]
    },
    {
      "cell_type": "markdown",
      "metadata": {
        "id": "1aDc8W1eat_Y"
      },
      "source": [
        "#### Paso 3: Crear una representación concisa.\n",
        "En este paso, creará una representación más compacta mediante una copia del marco de datos 'df_redundant'."
      ]
    },
    {
      "cell_type": "markdown",
      "metadata": {
        "id": "lMc68GwXat_Y"
      },
      "source": [
        "a) Copie 'df_redundant' en otro marco de datos llamado 'df_compact' mediante 'copy()'."
      ]
    },
    {
      "cell_type": "code",
      "execution_count": null,
      "metadata": {
        "collapsed": true,
        "id": "rO_UM8xWat_Y"
      },
      "outputs": [],
      "source": [
        "# Code cell 25\n",
        "df_compact = df_redundant.copy()"
      ]
    },
    {
      "cell_type": "markdown",
      "metadata": {
        "id": "kGSCXUwHat_Y"
      },
      "source": [
        "b) Cambie el nombre de las columnas en relación con las medidas como se muestra:\n",
        "\n",
        "    Medida A -> Ping (ms)\n",
        "    Medida B -> Descargar (Mbit/s)\n",
        "    Medida C -> Cargar (Mbit/s)"
      ]
    },
    {
      "cell_type": "code",
      "execution_count": null,
      "metadata": {
        "collapsed": true,
        "scrolled": true,
        "colab": {
          "base_uri": "https://localhost:8080/",
          "height": 187
        },
        "id": "zjwSJyxLat_Y",
        "outputId": "57fd9639-80a0-4044-e79c-f1889eed8454"
      },
      "outputs": [
        {
          "output_type": "execute_result",
          "data": {
            "text/plain": [
              "  Type A Ping (ms) Units A     Type B Download (Mbit/s) Units B   Type C  \\\n",
              "0  Ping:    26.992      ms  Download:             91.80  Mbit/s  Upload:   \n",
              "1  Ping:    24.532      ms  Download:             88.19  Mbit/s  Upload:   \n",
              "2  Ping:    20.225      ms  Download:             59.86  Mbit/s  Upload:   \n",
              "\n",
              "   Upload (Mbit/s) Units C             Datetime  \n",
              "0            14.31  Mbit/s  2016-11-24 13:36:25  \n",
              "1            14.12  Mbit/s  2016-11-24 13:36:55  \n",
              "2            14.11  Mbit/s  2016-11-24 13:37:25  "
            ],
            "text/html": [
              "\n",
              "  <div id=\"df-d6baea0e-3a50-4d7c-a1bf-503cf6694000\">\n",
              "    <div class=\"colab-df-container\">\n",
              "      <div>\n",
              "<style scoped>\n",
              "    .dataframe tbody tr th:only-of-type {\n",
              "        vertical-align: middle;\n",
              "    }\n",
              "\n",
              "    .dataframe tbody tr th {\n",
              "        vertical-align: top;\n",
              "    }\n",
              "\n",
              "    .dataframe thead th {\n",
              "        text-align: right;\n",
              "    }\n",
              "</style>\n",
              "<table border=\"1\" class=\"dataframe\">\n",
              "  <thead>\n",
              "    <tr style=\"text-align: right;\">\n",
              "      <th></th>\n",
              "      <th>Type A</th>\n",
              "      <th>Ping (ms)</th>\n",
              "      <th>Units A</th>\n",
              "      <th>Type B</th>\n",
              "      <th>Download (Mbit/s)</th>\n",
              "      <th>Units B</th>\n",
              "      <th>Type C</th>\n",
              "      <th>Upload (Mbit/s)</th>\n",
              "      <th>Units C</th>\n",
              "      <th>Datetime</th>\n",
              "    </tr>\n",
              "  </thead>\n",
              "  <tbody>\n",
              "    <tr>\n",
              "      <th>0</th>\n",
              "      <td>Ping:</td>\n",
              "      <td>26.992</td>\n",
              "      <td>ms</td>\n",
              "      <td>Download:</td>\n",
              "      <td>91.80</td>\n",
              "      <td>Mbit/s</td>\n",
              "      <td>Upload:</td>\n",
              "      <td>14.31</td>\n",
              "      <td>Mbit/s</td>\n",
              "      <td>2016-11-24 13:36:25</td>\n",
              "    </tr>\n",
              "    <tr>\n",
              "      <th>1</th>\n",
              "      <td>Ping:</td>\n",
              "      <td>24.532</td>\n",
              "      <td>ms</td>\n",
              "      <td>Download:</td>\n",
              "      <td>88.19</td>\n",
              "      <td>Mbit/s</td>\n",
              "      <td>Upload:</td>\n",
              "      <td>14.12</td>\n",
              "      <td>Mbit/s</td>\n",
              "      <td>2016-11-24 13:36:55</td>\n",
              "    </tr>\n",
              "    <tr>\n",
              "      <th>2</th>\n",
              "      <td>Ping:</td>\n",
              "      <td>20.225</td>\n",
              "      <td>ms</td>\n",
              "      <td>Download:</td>\n",
              "      <td>59.86</td>\n",
              "      <td>Mbit/s</td>\n",
              "      <td>Upload:</td>\n",
              "      <td>14.11</td>\n",
              "      <td>Mbit/s</td>\n",
              "      <td>2016-11-24 13:37:25</td>\n",
              "    </tr>\n",
              "  </tbody>\n",
              "</table>\n",
              "</div>\n",
              "      <button class=\"colab-df-convert\" onclick=\"convertToInteractive('df-d6baea0e-3a50-4d7c-a1bf-503cf6694000')\"\n",
              "              title=\"Convert this dataframe to an interactive table.\"\n",
              "              style=\"display:none;\">\n",
              "        \n",
              "  <svg xmlns=\"http://www.w3.org/2000/svg\" height=\"24px\"viewBox=\"0 0 24 24\"\n",
              "       width=\"24px\">\n",
              "    <path d=\"M0 0h24v24H0V0z\" fill=\"none\"/>\n",
              "    <path d=\"M18.56 5.44l.94 2.06.94-2.06 2.06-.94-2.06-.94-.94-2.06-.94 2.06-2.06.94zm-11 1L8.5 8.5l.94-2.06 2.06-.94-2.06-.94L8.5 2.5l-.94 2.06-2.06.94zm10 10l.94 2.06.94-2.06 2.06-.94-2.06-.94-.94-2.06-.94 2.06-2.06.94z\"/><path d=\"M17.41 7.96l-1.37-1.37c-.4-.4-.92-.59-1.43-.59-.52 0-1.04.2-1.43.59L10.3 9.45l-7.72 7.72c-.78.78-.78 2.05 0 2.83L4 21.41c.39.39.9.59 1.41.59.51 0 1.02-.2 1.41-.59l7.78-7.78 2.81-2.81c.8-.78.8-2.07 0-2.86zM5.41 20L4 18.59l7.72-7.72 1.47 1.35L5.41 20z\"/>\n",
              "  </svg>\n",
              "      </button>\n",
              "      \n",
              "  <style>\n",
              "    .colab-df-container {\n",
              "      display:flex;\n",
              "      flex-wrap:wrap;\n",
              "      gap: 12px;\n",
              "    }\n",
              "\n",
              "    .colab-df-convert {\n",
              "      background-color: #E8F0FE;\n",
              "      border: none;\n",
              "      border-radius: 50%;\n",
              "      cursor: pointer;\n",
              "      display: none;\n",
              "      fill: #1967D2;\n",
              "      height: 32px;\n",
              "      padding: 0 0 0 0;\n",
              "      width: 32px;\n",
              "    }\n",
              "\n",
              "    .colab-df-convert:hover {\n",
              "      background-color: #E2EBFA;\n",
              "      box-shadow: 0px 1px 2px rgba(60, 64, 67, 0.3), 0px 1px 3px 1px rgba(60, 64, 67, 0.15);\n",
              "      fill: #174EA6;\n",
              "    }\n",
              "\n",
              "    [theme=dark] .colab-df-convert {\n",
              "      background-color: #3B4455;\n",
              "      fill: #D2E3FC;\n",
              "    }\n",
              "\n",
              "    [theme=dark] .colab-df-convert:hover {\n",
              "      background-color: #434B5C;\n",
              "      box-shadow: 0px 1px 3px 1px rgba(0, 0, 0, 0.15);\n",
              "      filter: drop-shadow(0px 1px 2px rgba(0, 0, 0, 0.3));\n",
              "      fill: #FFFFFF;\n",
              "    }\n",
              "  </style>\n",
              "\n",
              "      <script>\n",
              "        const buttonEl =\n",
              "          document.querySelector('#df-d6baea0e-3a50-4d7c-a1bf-503cf6694000 button.colab-df-convert');\n",
              "        buttonEl.style.display =\n",
              "          google.colab.kernel.accessAllowed ? 'block' : 'none';\n",
              "\n",
              "        async function convertToInteractive(key) {\n",
              "          const element = document.querySelector('#df-d6baea0e-3a50-4d7c-a1bf-503cf6694000');\n",
              "          const dataTable =\n",
              "            await google.colab.kernel.invokeFunction('convertToInteractive',\n",
              "                                                     [key], {});\n",
              "          if (!dataTable) return;\n",
              "\n",
              "          const docLinkHtml = 'Like what you see? Visit the ' +\n",
              "            '<a target=\"_blank\" href=https://colab.research.google.com/notebooks/data_table.ipynb>data table notebook</a>'\n",
              "            + ' to learn more about interactive tables.';\n",
              "          element.innerHTML = '';\n",
              "          dataTable['output_type'] = 'display_data';\n",
              "          await google.colab.output.renderOutput(dataTable, element);\n",
              "          const docLink = document.createElement('div');\n",
              "          docLink.innerHTML = docLinkHtml;\n",
              "          element.appendChild(docLink);\n",
              "        }\n",
              "      </script>\n",
              "    </div>\n",
              "  </div>\n",
              "  "
            ]
          },
          "metadata": {},
          "execution_count": 41
        }
      ],
      "source": [
        "# Code cell 26\n",
        "df_compact.rename(columns={'Measure A':'Ping (ms)', \n",
        "                           'Measure B': 'Download (Mbit/s)',\n",
        "                           'Measure C': 'Upload (Mbit/s)'}, inplace=True)\n",
        "df_compact.head(3)"
      ]
    },
    {
      "cell_type": "markdown",
      "metadata": {
        "id": "RyG9X_YVat_Z"
      },
      "source": [
        "c) Como las columnas de los tipos y las unidades ya no son necesarias, estas columnas pueden descartarse."
      ]
    },
    {
      "cell_type": "code",
      "execution_count": null,
      "metadata": {
        "collapsed": true,
        "colab": {
          "base_uri": "https://localhost:8080/",
          "height": 206
        },
        "id": "WV8FseiLat_Z",
        "outputId": "534e2e4b-8286-4382-80e1-656891dbf0c6"
      },
      "outputs": [
        {
          "output_type": "execute_result",
          "data": {
            "text/plain": [
              "  Ping (ms) Download (Mbit/s)  Upload (Mbit/s)             Datetime\n",
              "0    26.992             91.80            14.31  2016-11-24 13:36:25\n",
              "1    24.532             88.19            14.12  2016-11-24 13:36:55\n",
              "2    20.225             59.86            14.11  2016-11-24 13:37:25\n",
              "3    19.332             91.81            14.22  2016-11-24 13:37:57\n",
              "4    22.494             92.05            14.08  2016-11-24 13:38:27"
            ],
            "text/html": [
              "\n",
              "  <div id=\"df-74e4dc6a-5c33-4916-8c06-ce6873656b0b\">\n",
              "    <div class=\"colab-df-container\">\n",
              "      <div>\n",
              "<style scoped>\n",
              "    .dataframe tbody tr th:only-of-type {\n",
              "        vertical-align: middle;\n",
              "    }\n",
              "\n",
              "    .dataframe tbody tr th {\n",
              "        vertical-align: top;\n",
              "    }\n",
              "\n",
              "    .dataframe thead th {\n",
              "        text-align: right;\n",
              "    }\n",
              "</style>\n",
              "<table border=\"1\" class=\"dataframe\">\n",
              "  <thead>\n",
              "    <tr style=\"text-align: right;\">\n",
              "      <th></th>\n",
              "      <th>Ping (ms)</th>\n",
              "      <th>Download (Mbit/s)</th>\n",
              "      <th>Upload (Mbit/s)</th>\n",
              "      <th>Datetime</th>\n",
              "    </tr>\n",
              "  </thead>\n",
              "  <tbody>\n",
              "    <tr>\n",
              "      <th>0</th>\n",
              "      <td>26.992</td>\n",
              "      <td>91.80</td>\n",
              "      <td>14.31</td>\n",
              "      <td>2016-11-24 13:36:25</td>\n",
              "    </tr>\n",
              "    <tr>\n",
              "      <th>1</th>\n",
              "      <td>24.532</td>\n",
              "      <td>88.19</td>\n",
              "      <td>14.12</td>\n",
              "      <td>2016-11-24 13:36:55</td>\n",
              "    </tr>\n",
              "    <tr>\n",
              "      <th>2</th>\n",
              "      <td>20.225</td>\n",
              "      <td>59.86</td>\n",
              "      <td>14.11</td>\n",
              "      <td>2016-11-24 13:37:25</td>\n",
              "    </tr>\n",
              "    <tr>\n",
              "      <th>3</th>\n",
              "      <td>19.332</td>\n",
              "      <td>91.81</td>\n",
              "      <td>14.22</td>\n",
              "      <td>2016-11-24 13:37:57</td>\n",
              "    </tr>\n",
              "    <tr>\n",
              "      <th>4</th>\n",
              "      <td>22.494</td>\n",
              "      <td>92.05</td>\n",
              "      <td>14.08</td>\n",
              "      <td>2016-11-24 13:38:27</td>\n",
              "    </tr>\n",
              "  </tbody>\n",
              "</table>\n",
              "</div>\n",
              "      <button class=\"colab-df-convert\" onclick=\"convertToInteractive('df-74e4dc6a-5c33-4916-8c06-ce6873656b0b')\"\n",
              "              title=\"Convert this dataframe to an interactive table.\"\n",
              "              style=\"display:none;\">\n",
              "        \n",
              "  <svg xmlns=\"http://www.w3.org/2000/svg\" height=\"24px\"viewBox=\"0 0 24 24\"\n",
              "       width=\"24px\">\n",
              "    <path d=\"M0 0h24v24H0V0z\" fill=\"none\"/>\n",
              "    <path d=\"M18.56 5.44l.94 2.06.94-2.06 2.06-.94-2.06-.94-.94-2.06-.94 2.06-2.06.94zm-11 1L8.5 8.5l.94-2.06 2.06-.94-2.06-.94L8.5 2.5l-.94 2.06-2.06.94zm10 10l.94 2.06.94-2.06 2.06-.94-2.06-.94-.94-2.06-.94 2.06-2.06.94z\"/><path d=\"M17.41 7.96l-1.37-1.37c-.4-.4-.92-.59-1.43-.59-.52 0-1.04.2-1.43.59L10.3 9.45l-7.72 7.72c-.78.78-.78 2.05 0 2.83L4 21.41c.39.39.9.59 1.41.59.51 0 1.02-.2 1.41-.59l7.78-7.78 2.81-2.81c.8-.78.8-2.07 0-2.86zM5.41 20L4 18.59l7.72-7.72 1.47 1.35L5.41 20z\"/>\n",
              "  </svg>\n",
              "      </button>\n",
              "      \n",
              "  <style>\n",
              "    .colab-df-container {\n",
              "      display:flex;\n",
              "      flex-wrap:wrap;\n",
              "      gap: 12px;\n",
              "    }\n",
              "\n",
              "    .colab-df-convert {\n",
              "      background-color: #E8F0FE;\n",
              "      border: none;\n",
              "      border-radius: 50%;\n",
              "      cursor: pointer;\n",
              "      display: none;\n",
              "      fill: #1967D2;\n",
              "      height: 32px;\n",
              "      padding: 0 0 0 0;\n",
              "      width: 32px;\n",
              "    }\n",
              "\n",
              "    .colab-df-convert:hover {\n",
              "      background-color: #E2EBFA;\n",
              "      box-shadow: 0px 1px 2px rgba(60, 64, 67, 0.3), 0px 1px 3px 1px rgba(60, 64, 67, 0.15);\n",
              "      fill: #174EA6;\n",
              "    }\n",
              "\n",
              "    [theme=dark] .colab-df-convert {\n",
              "      background-color: #3B4455;\n",
              "      fill: #D2E3FC;\n",
              "    }\n",
              "\n",
              "    [theme=dark] .colab-df-convert:hover {\n",
              "      background-color: #434B5C;\n",
              "      box-shadow: 0px 1px 3px 1px rgba(0, 0, 0, 0.15);\n",
              "      filter: drop-shadow(0px 1px 2px rgba(0, 0, 0, 0.3));\n",
              "      fill: #FFFFFF;\n",
              "    }\n",
              "  </style>\n",
              "\n",
              "      <script>\n",
              "        const buttonEl =\n",
              "          document.querySelector('#df-74e4dc6a-5c33-4916-8c06-ce6873656b0b button.colab-df-convert');\n",
              "        buttonEl.style.display =\n",
              "          google.colab.kernel.accessAllowed ? 'block' : 'none';\n",
              "\n",
              "        async function convertToInteractive(key) {\n",
              "          const element = document.querySelector('#df-74e4dc6a-5c33-4916-8c06-ce6873656b0b');\n",
              "          const dataTable =\n",
              "            await google.colab.kernel.invokeFunction('convertToInteractive',\n",
              "                                                     [key], {});\n",
              "          if (!dataTable) return;\n",
              "\n",
              "          const docLinkHtml = 'Like what you see? Visit the ' +\n",
              "            '<a target=\"_blank\" href=https://colab.research.google.com/notebooks/data_table.ipynb>data table notebook</a>'\n",
              "            + ' to learn more about interactive tables.';\n",
              "          element.innerHTML = '';\n",
              "          dataTable['output_type'] = 'display_data';\n",
              "          await google.colab.output.renderOutput(dataTable, element);\n",
              "          const docLink = document.createElement('div');\n",
              "          docLink.innerHTML = docLinkHtml;\n",
              "          element.appendChild(docLink);\n",
              "        }\n",
              "      </script>\n",
              "    </div>\n",
              "  </div>\n",
              "  "
            ]
          },
          "metadata": {},
          "execution_count": 42
        }
      ],
      "source": [
        "# Code cell 27\n",
        "df_compact.drop(['Type A', 'Type B', 'Type C',\n",
        "         'Units A', 'Units B', 'Units C'], axis=1, inplace=True)\n",
        "df_compact.head()"
      ]
    },
    {
      "cell_type": "markdown",
      "metadata": {
        "id": "M4DKQSnUat_Z"
      },
      "source": [
        "En la tabla anterior, el campo 'Datetime' es una cadena. Los pandas y Python ofrecen varias operaciones para trabajar con la fecha y la hora que pueden ser muy útiles.\n",
        "\n",
        "En el siguiente paso, la cadena de la columna 'Datetime' se separará en dos columnas nuevas.\n",
        "\n",
        "#### Paso 4: Separar los datos en dos columnas.\n",
        "En este paso, utilizará Pandas para generar las columnas 'Date' y 'Time' a partir de la columna 'Datetime' y luego descartará la columna 'Datetime'.\n",
        "<p>Se utiliza la función 'lambda' para crear dos funciones anónimas que recuperen solo la fecha y la hora de un objeto 'datetime', respectivamente. Luego, utilice la función de 'pandas' 'apply' para aplicar esta función a una columna completa (en la práctica, 'apply' define implícitamente un bucle 'for' y pasa las filas una a una hasta nuestra función 'lambda'). Guarde el resultado de las funciones 'apply' en dos nuevas columnas del 'DataFrame'."
      ]
    },
    {
      "cell_type": "markdown",
      "metadata": {
        "id": "wAQuQo5Rat_Z"
      },
      "source": [
        "a) Aplique la función 'lambda' para iterar a través del marco de datos y dividir la fecha de la columna 'Datetime'."
      ]
    },
    {
      "cell_type": "code",
      "execution_count": null,
      "metadata": {
        "collapsed": true,
        "id": "pmehEqf8at_a"
      },
      "outputs": [],
      "source": [
        "# Code cell 28\n",
        "df_compact['Date'] = df_compact['Datetime'].apply(lambda dt_str: pd.to_datetime(dt_str).date())"
      ]
    },
    {
      "cell_type": "markdown",
      "metadata": {
        "id": "H8cdsgD-at_a"
      },
      "source": [
        "b) Repita el paso a) para dividir la hora de la columna 'Datetime'. "
      ]
    },
    {
      "cell_type": "code",
      "execution_count": null,
      "metadata": {
        "collapsed": true,
        "id": "phtPihoUat_a"
      },
      "outputs": [],
      "source": [
        "# Code cell 29\n",
        "# Please note, this requires an intermediate step, because of how NaT are treated by the time() function.\n",
        "# Reference: https://github.com/pandas-dev/pandas/issues/11453\n",
        "temp = df_compact['Datetime'].apply(lambda dt_str: pd.to_datetime(dt_str))\n",
        "df_compact['Time'] = temp.dt.time"
      ]
    },
    {
      "cell_type": "markdown",
      "metadata": {
        "id": "Kkp8w40hat_b"
      },
      "source": [
        "c) Toda la información de la columna 'Datetime' se ha copiado ahora a las columnas 'Date' y 'Time'. La columna 'Datetime' carece de propósito. La columna 'Datetime' se puede descartar del marco de datos.\n",
        "<p>Ingrese el código para descartar la columna 'Datetime' en la celda a continuación."
      ]
    },
    {
      "cell_type": "code",
      "execution_count": null,
      "metadata": {
        "collapsed": true,
        "id": "2PbIon93at_c"
      },
      "outputs": [],
      "source": [
        "# Code cell 30\n"
      ]
    },
    {
      "cell_type": "markdown",
      "metadata": {
        "id": "Hf44bsipat_c"
      },
      "source": [
        "Ingrese el código para imprimir las primeras 3 filas del marco de datos para verificar los cambios."
      ]
    },
    {
      "cell_type": "code",
      "execution_count": null,
      "metadata": {
        "collapsed": true,
        "id": "1xJqmBIwat_c"
      },
      "outputs": [],
      "source": [
        "# Code cell 31\n"
      ]
    },
    {
      "cell_type": "markdown",
      "metadata": {
        "id": "e9LGszY5at_d"
      },
      "source": [
        "d) Utilice la función 'type' para imprimir el tipo de variable de los valores en las columnas 'Date' y 'Time'."
      ]
    },
    {
      "cell_type": "code",
      "execution_count": null,
      "metadata": {
        "collapsed": true,
        "colab": {
          "base_uri": "https://localhost:8080/"
        },
        "id": "fU_oDd9Rat_d",
        "outputId": "919838ed-5cd4-49a6-ccc0-78b2744c2fa1"
      },
      "outputs": [
        {
          "output_type": "stream",
          "name": "stdout",
          "text": [
            "2016-11-24 <class 'datetime.date'>\n",
            "13:36:25 <class 'datetime.time'>\n"
          ]
        }
      ],
      "source": [
        "# Code cell 32\n",
        "print(df_compact['Date'][0], type(df_compact['Date'][0]) )\n",
        "print(df_compact['Time'][0], type(df_compact['Time'][0]) )"
      ]
    },
    {
      "cell_type": "markdown",
      "metadata": {
        "id": "Yol1MxEBat_d"
      },
      "source": [
        "#### Paso 5: Guardar el nuevo marco de datos.\n",
        "Guarde el marco de datos de pandas 'df_compact' como un archivo csv llamado 'rpi_data_compact':"
      ]
    },
    {
      "cell_type": "code",
      "execution_count": null,
      "metadata": {
        "collapsed": true,
        "id": "Sa74TzSnat_e"
      },
      "outputs": [],
      "source": [
        "# Code cell 33\n",
        "df_compact.to_csv('/content/drive/MyDrive/Colab Notebooks/Ch2/Data/rpi_data_long.csv')"
      ]
    },
    {
      "cell_type": "markdown",
      "metadata": {
        "id": "8xjvaxWBat_e"
      },
      "source": [
        "<font size='0.5'>&copy; 2017 Cisco y/o sus filiales. Todos los derechos reservados. Este documento es información pública de Cisco.<font>"
      ]
    }
  ],
  "metadata": {
    "anaconda-cloud": {},
    "kernelspec": {
      "display_name": "Python 3",
      "language": "python",
      "name": "python3"
    },
    "language_info": {
      "codemirror_mode": {
        "name": "ipython",
        "version": 3
      },
      "file_extension": ".py",
      "mimetype": "text/x-python",
      "name": "python",
      "nbconvert_exporter": "python",
      "pygments_lexer": "ipython3",
      "version": "3.6.0"
    },
    "colab": {
      "provenance": [],
      "include_colab_link": true
    }
  },
  "nbformat": 4,
  "nbformat_minor": 0
}