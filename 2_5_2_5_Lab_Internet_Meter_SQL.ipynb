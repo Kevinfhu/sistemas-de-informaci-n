{
  "cells": [
    {
      "cell_type": "markdown",
      "metadata": {
        "id": "view-in-github",
        "colab_type": "text"
      },
      "source": [
        "<a href=\"https://colab.research.google.com/github/Kevinfhu/sistemas-de-informaci-n/blob/main/2_5_2_5_Lab_Internet_Meter_SQL.ipynb\" target=\"_parent\"><img src=\"https://colab.research.google.com/assets/colab-badge.svg\" alt=\"Open In Colab\"/></a>"
      ]
    },
    {
      "cell_type": "markdown",
      "metadata": {
        "id": "G2ZZdconF1N9"
      },
      "source": [
        "![Título](Images/cisco.png)"
      ]
    },
    {
      "cell_type": "markdown",
      "metadata": {
        "id": "How3gmMZF1OC"
      },
      "source": [
        "# Práctica de laboratorio: contador SQL de Internet\n"
      ]
    },
    {
      "cell_type": "markdown",
      "metadata": {
        "id": "4SIZRrzbF1OC"
      },
      "source": [
        "### Objetivos\n",
        "\n",
        "<b>\n",
        "* Parte 1: Configurar su base de datos\n",
        "* Parte 2: Conectarse a la base de datos \n",
        "* Parte 3: Manipular los datos con pandas\n",
        "* Parte 4: Unir las tablas con pandas\n",
        "</b>"
      ]
    },
    {
      "cell_type": "markdown",
      "metadata": {
        "id": "NqVsMLtlF1OD"
      },
      "source": [
        "### Aspectos básicos/situación\n",
        "En esta práctica de laboratorio aprenderá cómo conectarse a una base de datos relacional, extraer y manipular los datos a través de una notebook de Jupyter. Los datos que se le proporcionan contienen distintas mediciones para la velocidad de ping, carga y descarga en diferentes autoridades locales alrededor de Inglaterra. De momento, los datos se almacenan en un archivo .csv, pero creará una base de datos y la completará con la medición. \n",
        "\n",
        "Usted podrá:\n",
        "* Trabajar con una base de datos relacional\n",
        "* Configurar SQLite\n",
        "* Crear una nueva base de datos\n",
        "* Utilizar csvsql para crear una nueva tabla y recuperar datos directamente de un archivo csv grande\n",
        "* Conectarse a una base de datos con la biblioteca de Python sqlite3\n",
        "* Realizar consultas de SQL básicas mediante Python\n",
        "* Explorar la interacción entre pandas y una base de datos SQL\n",
        "* Combinar dos tablas"
      ]
    },
    {
      "cell_type": "markdown",
      "metadata": {
        "id": "delLE8GvF1OE"
      },
      "source": [
        "### Recursos necesarios\n",
        "* 1 computadora con acceso a Internet\n",
        "* Raspberry Pi versión 2 o superior\n",
        "* Bibliotecas de Python: sqlite3, pandas, matplotlib\n",
        "* Bibliotecas adicionales: csvkit\n",
        "* Archivos de datos: LA_wifi_speed_UK.csv, LA_population.csv\n",
        "\n",
        "### Actualización de SQL\n",
        "* Introducción muy breve a las bases de datos relacionales (temporales): http://searchsqlserver.techtarget.com/definition/relational-database</li>\n",
        "* Más videos sobre bases de datos relacionales: https://www.youtube.com/watch?v=jyju2P-7hPA&list=PLAwxTw4SYaPm4R6j_wzVOCV9fJaiQDYx4</li>\n",
        "* Introducción a SQL: http://www.w3schools.com/sql/sql_intro.asp</li>"
      ]
    },
    {
      "cell_type": "markdown",
      "metadata": {
        "id": "ZJT0iXseF1OE"
      },
      "source": [
        "## Parte 1: Configurar su base de datos"
      ]
    },
    {
      "cell_type": "markdown",
      "metadata": {
        "id": "sUcmrMzjF1OF"
      },
      "source": [
        "En esta parte, utilizará SQLite, una biblioteca de procesos que implementa un motor de bases de datos de SQL transaccionales autónomo, sin servidor, sin configuración para configurar el entorno."
      ]
    },
    {
      "cell_type": "markdown",
      "metadata": {
        "id": "xL7DKriFF1OG"
      },
      "source": [
        "#### Paso 1: Configurar el entorno de trabajo.\n",
        "Necesitaremos 'sqlite3' y 'csvkit' para completar esta computadora portátil. \n",
        "\n",
        "###### a) Instale SQLite.\n",
        "En una computadora portátil de Jupyter, se pueden ejecutar los mismos comandos que se usarían en el terminal. Para hacerlo, comience la línea con un signo de exclamación (```!```)."
      ]
    },
    {
      "cell_type": "code",
      "execution_count": null,
      "metadata": {
        "collapsed": true,
        "id": "Yjt2ZWt7F1OH"
      },
      "outputs": [],
      "source": [
        "# Code Cell 1\n",
        "!apt-get update\n",
        "!apt-get -y install sqlite3"
      ]
    },
    {
      "cell_type": "markdown",
      "metadata": {
        "id": "4b52twbCF1OI"
      },
      "source": [
        "Después de que el proceso de instalación finalice, cree una base de datos:\n",
        "\n",
        "    $sqlite3 <name of your database> \".databases\"\n",
        "\n",
        "*nombre de la base de datos* es el nombre que desea proporcionar a su base de datos, por ejemplo, InternetSpeed:\n",
        "\n",
        "    $sqlite3 InternetSpeed.db \".databases\"\n",
        "    \n",
        "Este código crea la base de datos en una ventana del terminal. Si está utilizando el terminal, asegúrese de navegar al mismo directorio en el cual reside este laboratorio."
      ]
    },
    {
      "cell_type": "code",
      "execution_count": null,
      "metadata": {
        "collapsed": true,
        "id": "2UmBfmhkF1OJ"
      },
      "outputs": [],
      "source": [
        "# Code Cell 2\n",
        "#Create the InternetSpeed database\n"
      ]
    },
    {
      "cell_type": "markdown",
      "metadata": {
        "id": "7DrH9umbF1OJ"
      },
      "source": [
        "En este punto, en su equipo local, cuenta con una base de datos nueva y vacía llamada InternetSpeed.\n",
        "Por lo general, si desea crear una tabla, necesita proporcionar un esquema que especifique el nombre de la tabla, el nombre de las columnas y el tipo de datos que van en cada columna (int, str, decimal, etc.).\n",
        "<p>A los fines de este curso, se utiliza un conjunto de datos **synthetic** con las mediciones de la velocidad de WiFi registradas en 300 ubicaciones en el Reino Unido. El archivo se estructura de manera que cada columna contenga las mediciones en una ubicación de una de las tres estadísticas (ping, descarga y carga). Esto significa que la tabla que necesitamos tiene 300\\*3 columnas (además de la hora y la fecha, y una columna de índice). Escribir el esquema para dicha tabla a mano es poco práctico. Afortunadamente, hay maneras de superar este inconveniente, y una de ellas es utilizar el paquete **csvkit**, que contiene la función **csvsql** la cual se puede utilizar para crear una tabla e importar los datos en un comando.</p>\n",
        "\n",
        "###### b) Instale csvkit.\n",
        "Instale csvkit en el terminal:\n",
        "\n",
        "    $pip install csvkit\n",
        "    \n",
        "También puede permanecer en el entorno de la computadora portátil, como lo hizo anteriormente, agregando el signo de exclamación al comienzo de la línea.\n",
        "\n",
        "El archivo utilizado en esta parte de la práctica de laboratorio se denomina LA_wifi_speed_UK.csv."
      ]
    },
    {
      "cell_type": "code",
      "execution_count": null,
      "metadata": {
        "collapsed": true,
        "id": "9rUKUe7hF1OK"
      },
      "outputs": [],
      "source": [
        "# Code Cell 3\n",
        "#Installing csvkit\n",
        "!pip install csvkit"
      ]
    },
    {
      "cell_type": "markdown",
      "metadata": {
        "id": "ZuAMZzOiF1OK"
      },
      "source": [
        "###### c) Importe los datos en la base de datos.\n",
        "Utilice csvsql para crear una nueva tabla de la base de datos InternetSpeed y recupere los datos contenidos en el archivo csv. Primero, asegúrese de que no haya otra base de datos con el mismo nombre. Si existe una, elimínela:\n",
        "    \n",
        "    $test tmp/InternetSpeed.db && rm InternetSpeed.db\n",
        "\n",
        "Utilice csvkit para completar la base de datos del archivo csv:\n",
        "\n",
        "    $csvsql --db sqlite:///InternetSpeed.db --insert ./Data/LA_wifi_speed_UK.csv\n",
        "    \n",
        "Puede hacerlo a través del terminal o puede permanecer en el entorno de la computadora portátil."
      ]
    },
    {
      "cell_type": "code",
      "execution_count": null,
      "metadata": {
        "collapsed": true,
        "id": "8HisZEiiF1OK"
      },
      "outputs": [],
      "source": [
        "# Code Cell 4\n",
        "# Removing database if already existing\n",
        "!test -e InternetSpeed.db && rm InternetSpeed.db\n",
        "# Importing the LA_wifi_speed_UK.csv file into a sql database file InternetSpeed.db\n",
        "!csvsql --db sqlite:///InternetSpeed.db --insert ./Data/LA_wifi_speed_UK.csv\n",
        "# This will take a while "
      ]
    },
    {
      "cell_type": "markdown",
      "metadata": {
        "id": "qDWvdpvBF1OL"
      },
      "source": [
        "## Parte 2: Conectarse a la base de datos "
      ]
    },
    {
      "cell_type": "markdown",
      "metadata": {
        "id": "cjvGFD1OF1OL"
      },
      "source": [
        "Python se utiliza para conectarse a la base de datos y ejecutar algunas consultas para saber cómo lucen estos datos.\n",
        "\n",
        "Importe las bibliotecas:\n"
      ]
    },
    {
      "cell_type": "code",
      "execution_count": null,
      "metadata": {
        "collapsed": true,
        "id": "NNZ2AaDwF1OL"
      },
      "outputs": [],
      "source": [
        "# Code Cell 5\n",
        "# this is the library to talk to the database\n",
        "import sqlite3\n",
        "import pandas as pd\n",
        "# this is a library for data visualization\n",
        "from matplotlib import pyplot as plt\n",
        "# this is to say that we want our plots to be part of this page, and not opened in a new window\n",
        "%matplotlib inline"
      ]
    },
    {
      "cell_type": "markdown",
      "metadata": {
        "id": "HIv9JcaGF1OM"
      },
      "source": [
        "Puede encontrar sqlite3 en la documentación de Python aquí: https://docs.python.org/2/library/sqlite3.html\n",
        "\n",
        "#### Paso 1: Conecte y ejecute una consulta.\n",
        "Una conexión abierta y un cursor son necesarios para comunicarse con la base de datos. El cursor es una estructura de control que nos permitirá navegar por las tablas y los registros. \n",
        "\n",
        "Para abrir una conexión, ejecute el método ‘connect’ de la biblioteca ‘sqlite3’. Esta función toma una cadena que contiene el nombre de la base de datos para la cual la conexión es necesaria.\n",
        "\n",
        "En este caso, el comando será:\n",
        "\n",
        "    sqlite3.connect('InternetSpeed.db')\n",
        "\n",
        "Esta función regresa la conexión que se almacenará como variable, llamada ‘conn’. Para crear el cursor, ejecute el método ‘cursor()’ de la siguiente manera:\n",
        "\n",
        "    conn.cursor()\n",
        "\n",
        "Guárdelo en una variable llamada ‘cur’.\n",
        " \n",
        "\n",
        "###### a) Conéctese a la base de datos que acaba de crear, y luego cree un cursor que apunte a la base de datos.\n"
      ]
    },
    {
      "cell_type": "code",
      "execution_count": null,
      "metadata": {
        "collapsed": true,
        "id": "O5FA8M7FF1OM"
      },
      "outputs": [],
      "source": [
        "# Code Cell 6\n",
        "# what is the name of the database you want to connect to?\n",
        "# conn = sqlite3.connect(??)\n",
        "# cur = conn.?()"
      ]
    },
    {
      "cell_type": "markdown",
      "metadata": {
        "id": "_V_ISdxcF1ON"
      },
      "source": [
        "Para ejecutar una consulta en la base de datos, necesitaremos utilizar el cursor que acabamos de crear y el método ‘execute()’. Este método toma como entrada una cadena que contiene la consulta que nos interesa. Podemos guardar la cadena en una variable; llamémosla ‘query’. Ejecute el método de esta manera:\n",
        "\n",
        "    cur.execute(query)\n",
        "\n",
        "La tabla sobre la que queremos consultar no tiene una excelente visualización, así que SELECCIONAREMOS sólo la columna DateTime, que contiene la fecha y la hora de las mediciones. LIMITAREMOS la cantidad de filas extraídas por la consulta a 10.\n",
        "\n",
        "###### b) Ejecute una consulta. \n",
        "Seleccione las primeras 10 filas de la columna DateTime. \n",
        "\n",
        "Sugerencia: Si desea revisar el nombre de las tablas en su base de datos, vuelva a la línea de comandos interactiva y utilice este código:\n",
        "    \n",
        "    .tables"
      ]
    },
    {
      "cell_type": "code",
      "execution_count": null,
      "metadata": {
        "collapsed": true,
        "id": "3IaTg5CdF1ON"
      },
      "outputs": [],
      "source": [
        "# Code Cell 7\n",
        "# complete the query with the field you want to select, the table you want to select the field from,\n",
        "# and the field you want your results to be ordered by\n",
        "# query = 'SELECT ? FROM ? ORDER BY ? LIMIT ?;'\n",
        "# Execute the query\n",
        "# cur.?(?)\n"
      ]
    },
    {
      "cell_type": "markdown",
      "metadata": {
        "id": "uhj_wd_gF1ON"
      },
      "source": [
        "El resultado de la consulta se almacena en ‘cur’. Necesitamos iterar sobre ella para ver el resultado."
      ]
    },
    {
      "cell_type": "code",
      "execution_count": null,
      "metadata": {
        "collapsed": true,
        "id": "G1NE8leTF1OO"
      },
      "outputs": [],
      "source": [
        "# Code Cell 8\n",
        "for row in cur:\n",
        "    print(row) "
      ]
    },
    {
      "cell_type": "markdown",
      "metadata": {
        "id": "7Chb4Q0AF1OO"
      },
      "source": [
        "**Nota**: Necesitamos ordenar la tabla que contiene la medición según la columna DateTime. Esto es porque SQL no posee un orden intrínseco de las filas, y estamos lidiando con una serie de tiempo, que sin el orden correcto, no tiene sentido. La selección de una muestra aleatoria de filas quitaría el componente temporal:\n"
      ]
    },
    {
      "cell_type": "code",
      "execution_count": null,
      "metadata": {
        "collapsed": true,
        "id": "3r5kHAtRF1OO"
      },
      "outputs": [],
      "source": [
        "# Code Cell 9\n",
        "query = 'SELECT DateTime FROM LA_wifi_speed_UK ORDER BY RANDOM() LIMIT 10'\n",
        "cur.execute(query)\n",
        "\n",
        "for row in cur:\n",
        "    print(row) "
      ]
    },
    {
      "cell_type": "markdown",
      "metadata": {
        "id": "PgZ36dqXF1OO"
      },
      "source": [
        "#### Paso 2: Enfóquese en una porción de los datos.\n",
        "\n",
        "¿Cuáles son los nombres de las 900+ columnas? Es posible recuperarlos automáticamente y guardarlos en una lista. Será práctico para distintas cosas más adelante.\n",
        "\n",
        "En primer lugar, necesitamos ejecutar una consulta sobre todas las columnas. En este caso, no es importante la cantidad de filas que la consulta devuelve, de modo que la limitaremos a 1. "
      ]
    },
    {
      "cell_type": "code",
      "execution_count": null,
      "metadata": {
        "collapsed": true,
        "id": "SB-VcoeSF1OP"
      },
      "outputs": [],
      "source": [
        "# Code Cell 10\n",
        "# we need to have a cursor pointing to a table for this operation\n",
        "query = 'SELECT * FROM LA_wifi_speed_UK LIMIT 1'\n",
        "cur.execute(query)"
      ]
    },
    {
      "cell_type": "markdown",
      "metadata": {
        "id": "tByOKZ3FF1OP"
      },
      "source": [
        "El nombre de las columnas de la tabla se almacena en el campo ‘description’ del cursor."
      ]
    },
    {
      "cell_type": "code",
      "execution_count": null,
      "metadata": {
        "collapsed": true,
        "id": "sVEV3rpJF1OP"
      },
      "outputs": [],
      "source": [
        "# Code Cell 11\n",
        "#visualizing the first 10 rows of the field description\n",
        "cur.description[:10]"
      ]
    },
    {
      "cell_type": "markdown",
      "metadata": {
        "id": "6m0WwKd-F1OP"
      },
      "source": [
        "Podemos dar vuelta los miembros de este campo e ingresar los nombres de las columnas en una lista (una estructura de datos práctica, en este caso).\n",
        "En Python, es posible generar listas como el resultado de un bucle. Este concepto se denomina comprensión de la lista y es sólo otro nombre para un bucle más largo. Cada elemento de la lista de resultados es la operación que haría en el bucle, mientras itera sobre cierto conjunto.  "
      ]
    },
    {
      "cell_type": "code",
      "execution_count": null,
      "metadata": {
        "collapsed": true,
        "id": "WK5pGqcXF1OP"
      },
      "outputs": [],
      "source": [
        "# Code Cell 12\n",
        "# loop over the header and store them in a list\n",
        "columns = [member[0] for member in cur.description]\n",
        "\n",
        "# ignore index column\n",
        "columns = columns[1:]"
      ]
    },
    {
      "cell_type": "markdown",
      "metadata": {
        "id": "hgoUj-joF1OP"
      },
      "source": [
        "Las columnas contienen las mediciones de las tres velocidades para cada área geográfica. Se establecen de esta manera: \n",
        "\n",
        "`<area name>_<suffix>`, \n",
        "\n",
        "El sufijo es ‘p’ para ping, ‘u’ para carga y ‘d’ para descarga. \n",
        "\n",
        "Necesitamos librarnos de los sufijos, porque estamos interesados en los nombres del área, y de momento cada nombre se repite tres veces. Utilizaremos el nombre de las áreas para mostrar las distintas mediciones y para generar una nueva tabla más adelante en la práctica de laboratorio.\n",
        "\n",
        "Podemos reemplazar la parte final de la cadena mediante un carácter vacío. Para hacerlo, podemos utilizar el método ‘replace()’ (consulte la documentación de la cadena, https://docs.python.org/2/library/string.html).\n",
        "Este método toma como entrada la parte de la cadena que se reemplazará y la nueva parte de la cadena que debe reemplazar. Por ejemplo, para quitar los caracteres ‘e’ y ‘s’ de la cadena ‘chestnut’, utilice este código:\n",
        "    \n",
        "    'chestnut'.replace('es', '')\n",
        "\n",
        "###### a) Obtenga los nombres de área.\n",
        "Utilice la comprensión de lista para dar vuelta la lista que contiene los nombres de las columnas de la tabla y quite los sufijos \"_p\", \"_d\" y \"_u\"."
      ]
    },
    {
      "cell_type": "code",
      "execution_count": null,
      "metadata": {
        "collapsed": true,
        "id": "MhPfIsOyF1OQ"
      },
      "outputs": [],
      "source": [
        "# Code Cell 13\n",
        "# remove suffix '_p'\n",
        "columns = [c.replace('_p', '') for c in columns]\n",
        "# remove suffix '_d'\n",
        "columns = [c.replace('_d', '') for c in columns]\n",
        "# remove suffix '_u'\n",
        "# columns = ??\n",
        "\n",
        "\n",
        "    \n",
        "# this operation is to remove duplicates\n",
        "columns = list(set(columns))"
      ]
    },
    {
      "cell_type": "code",
      "execution_count": null,
      "metadata": {
        "collapsed": true,
        "id": "lJOKFxQhF1OQ"
      },
      "outputs": [],
      "source": [
        "# Code Cell 14\n",
        "# visualize the first 10 areas\n",
        "columns[:10]"
      ]
    },
    {
      "cell_type": "markdown",
      "metadata": {
        "id": "LA5uHJjEF1OQ"
      },
      "source": [
        "Para comprender mejor los datos en la base de datos es preciso visualizar una parte de ellos. En particular, queremos seleccionar las tres estadísticas de un área. En primer lugar, escojamos la primer área que tenemos en el conjunto de datos:"
      ]
    },
    {
      "cell_type": "code",
      "execution_count": null,
      "metadata": {
        "collapsed": true,
        "id": "_Sdh0JSbF1OQ"
      },
      "outputs": [],
      "source": [
        "# Code Cell 15\n",
        "area = columns[0]\n",
        "print(area) "
      ]
    },
    {
      "cell_type": "markdown",
      "metadata": {
        "id": "WSsHv_qKF1OQ"
      },
      "source": [
        "Ahora queremos mostrar los datos en relación con el área ‘E07000101’. Necesitamos seleccionar las columnas que contienen las tres mediciones para esta área. Para hacerlo, es necesario manipular las cadenas nuevamente. \n",
        "\n",
        "Una forma de formatear una cadena es:\n",
        "\n",
        "    ‘Estamos considerando {} zona y {} estadísticas’.format (1, 3)\n",
        "    \n",
        "    Estamos considerando 1 zona y 3 estadísticas\n",
        "\n",
        "Debemos agregar los sufijos de nuevo para obtener los nombres de columna correctos. Lo primero que debemos hacer es crear un diccionario que asocie el nombre completo de la medición al sufijo. También será útil escribir una leyenda significativa en el diagrama."
      ]
    },
    {
      "cell_type": "code",
      "execution_count": null,
      "metadata": {
        "collapsed": true,
        "id": "xeAGgOv8F1OR"
      },
      "outputs": [],
      "source": [
        "# Code Cell 16\n",
        "suffix = {'_p':'ping', '_d':'download', '_u':'upload'}\n",
        "# we have the suffixes as the keys of the dictionary\n",
        "print(suffix.keys())\n",
        "\n",
        "# we have the complete names as the values of the dictionary\n",
        "print(suffix.values())"
      ]
    },
    {
      "cell_type": "markdown",
      "metadata": {
        "id": "hGu9vl0EF1OR"
      },
      "source": [
        "Ahora el proceso es dar vuelta las claves del diccionario, escribir y ejecutar la consulta para seleccionar la medición en relación con nuestra área y trazarla usando este código:\n",
        "\n",
        "    plt.plot(cur.fetchall(), label=suffix[s])\n",
        "    \n",
        "El método ‘fetchall()’ recupera todas las filas del resultado de consulta. El campo ‘label’ se utilizará para producir la leyenda del diagrama. También podemos agregar un título al diagrama, mediante el método ‘title()’.\n",
        "\n",
        "###### b) Escriba la consulta para seleccionar las columnas relevantes."
      ]
    },
    {
      "cell_type": "code",
      "execution_count": null,
      "metadata": {
        "collapsed": true,
        "id": "mPacSEp2F1OR"
      },
      "outputs": [],
      "source": [
        "# Code Cell 17\n",
        "area = columns[0]\n",
        "plt.figure(figsize=(10, 8))\n",
        "\n",
        "# Plot each variable in suffix.keys() for each area\n",
        "for s in suffix.keys():\n",
        "    # query = ??\n",
        "    # Execute query\n",
        "    # ...\n",
        "    plt.plot(cur.fetchall(), label=suffix[s])\n",
        "plt.legend()\n",
        "plt.title(area)"
      ]
    },
    {
      "cell_type": "markdown",
      "metadata": {
        "id": "ucYZbZvTF1OS"
      },
      "source": [
        "## Parte 3: Manipular los datos con pandas\n",
        "\n",
        "El objetivo es ahora calcular la velocidad promedio de WiFi para todas las áreas del conjunto de datos. Los pandas pueden ayudar en el almacenamiento y la visualización de los datos fácilmente. \n",
        "\n",
        "#### Paso 1: Convierta todas las mediciones a promedios.\n",
        "Para cada autoridad local, queremos saber cuál era la velocidad promedio de Internet para el ping, la carga y la descarga en el período de tiempo en el que nuestros datos fueron recopilados. Los dataframes de pandas son útiles para este tipo de operaciones.\n",
        "\n",
        "###### a) Cree un dataframe vacío con columnas específicas.\n",
        "\n",
        "     ['Area', 'Average_p', 'Average_u', 'Average_d']\n"
      ]
    },
    {
      "cell_type": "code",
      "execution_count": null,
      "metadata": {
        "collapsed": true,
        "id": "9_RLOTESF1OS"
      },
      "outputs": [],
      "source": [
        "# Code Cell 18\n",
        "#new_columns = ?\n",
        "#df = pd.DataFrame(columns = ?)\n"
      ]
    },
    {
      "cell_type": "markdown",
      "metadata": {
        "id": "o3yLzi4vF1OS"
      },
      "source": [
        "Una medición interesante es la velocidad promedio de ping, carga y descarga para cada área. Para computarla, necesitamos dar vuelta las columnas, y para cada área, para cada estadística, queremos calcular el promedio. Luego lo insertaremos en el dataframe vacío que acabamos de crear. \n",
        "\n",
        "Para hacerlo, crearemos una lista temporal y la completaremos con las tres mediciones para cada área. Esta será la fila que insertaremos en el dataframe. \n",
        "\n",
        "Para actualizar los comandos:\n",
        "\n",
        "* Dé vuelta la lista que contiene el nombre de las áreas.\n",
        "* Dé vuelta los tres sufijos (claves del diccionario ‘suffix’).\n",
        "* Escriba la consulta para seleccionar el promedio de la medición para un área, mediante los formateadores de cadena.\n",
        "* Ejecute la consulta y conecte el resultado (método ‘fetchone()’).\n",
        "* Añada el promedio a la lista temporal (método ‘append()’).\n",
        "* En el extremo del bucle interno, inserte la lista temporal en el dataframe (método ‘append()’, parámetro ‘ignore_index=True’).\n",
        "\n",
        "###### b) Calcule los promedios.\n",
        "Escriba la consulta SQL que computa el promedio de una columna y almacénela en una lista temporal. La lista será la fila nueva adjunta al dataframe. Esto tomará aproximadamente 1 minuto en el RaPi."
      ]
    },
    {
      "cell_type": "code",
      "execution_count": null,
      "metadata": {
        "collapsed": true,
        "id": "JYfTB1DTF1OS"
      },
      "outputs": [],
      "source": [
        "# Code Cell 19\n",
        "# this will take a while...\n",
        "for i in range(len(columns)-1): #EDL : replace xrange with range\n",
        "    tmp_list = []\n",
        "    tmp_list.append(columns[i])\n",
        "    for s in suffix.keys():\n",
        "        # query = ??\n",
        "\n",
        "        \n",
        "        cur.execute(query)\n",
        "        \n",
        "        mean = cur.fetchone()\n",
        "        tmp_list.append(mean[0])\n",
        "    #append the columns to the empty DataFrame\n",
        "    df = df.append(pd.Series(tmp_list, index=new_columns), ignore_index=True)\n",
        "# visualize the head of the dataframe here\n"
      ]
    },
    {
      "cell_type": "markdown",
      "metadata": {
        "id": "A_NLpVoKF1OT"
      },
      "source": [
        "Es posible mostrar los promedios para cada área con ‘plot()’. Esta sección mostrará si la velocidad promedio es la misma en las diferentes áreas o no."
      ]
    },
    {
      "cell_type": "code",
      "execution_count": null,
      "metadata": {
        "collapsed": true,
        "id": "XyXPZ7OzF1OT"
      },
      "outputs": [],
      "source": [
        "# Code Cell 20\n",
        "plt.figure(figsize=(20,10))\n",
        "plt.plot(df.index, df[['Average_d','Average_u','Average_p']], 'o')"
      ]
    },
    {
      "cell_type": "markdown",
      "metadata": {
        "id": "g-lNtc-1F1OT"
      },
      "source": [
        "Ahora las velocidades promedio se almacenan en un dataframe de pandas. Podría resultar útil guardarlos en una tabla en nuestra base de datos, y los pandas ofrecen un método (‘to_sql()’) para hacerlo. \n",
        "En primer lugar, verifique si ya existe la tabla (esto puede crear problemas). Si existe, queremos descartarla y luego crearla. Si no, la crearemos directamente. \n",
        "\n",
        "El constructo ‘try... except’ capturará la excepción elevada en caso de que la tabla no exista y procederá a su creación (para obtener ayuda, consulte la Sección 8.3 de https://docs.python.org/2.7/tutorial/errors.html). \n",
        "\n",
        "###### c) Guarde el trabajo.\n",
        "Guarde el nuevo dataframe en una tabla de la base de datos InternetSpeed. "
      ]
    },
    {
      "cell_type": "code",
      "execution_count": null,
      "metadata": {
        "collapsed": true,
        "id": "N_4zaYbVF1OT"
      },
      "outputs": [],
      "source": [
        "# Code Cell 21\n",
        "# Make sure to drop the table first if it already exists\n",
        "try:\n",
        "    cur.execute('DROP TABLE average_speed')\n",
        "except:\n",
        "    pass\n",
        "\n",
        "# what is the name of the table you want to save? To what connection?\n",
        "# Save the dataframe table into a SQL table\n",
        "# df.to_sql(?,?)\n"
      ]
    },
    {
      "cell_type": "code",
      "execution_count": null,
      "metadata": {
        "collapsed": true,
        "id": "FmF9een8F1OU"
      },
      "outputs": [],
      "source": [
        "# Code Cell 22\n",
        "# just checking everything worked fine: select everything from the table we just created\n",
        "# and then print the first two rows of the result\n",
        "\n",
        "query_2 = 'SELECT * FROM average_speed'\n",
        "cur.execute(query_2)\n",
        "\n",
        "# print the first fetched record\n",
        "print(cur.fetchone())\n",
        "# print the next fetched record\n",
        "print(cur.fetchone())"
      ]
    },
    {
      "cell_type": "markdown",
      "metadata": {
        "id": "ZRLKmEvyF1OU"
      },
      "source": [
        "## Parte 4: Unir las tablas\n",
        "\n",
        "Para comprender por qué y cómo cambia la velocidad promedio de Internet alrededor de las áreas, es necesario obtener más información sobre ellas. En particular, estamos interesados en los datos demográficos, para ver si un área con mucha población tiene un servicio de Internet mejor o peor. \n",
        "\n",
        "#### Paso 1: Obtenga información relevante.\n",
        "Esta información se puede encontrar en este archivo: \n",
        "\n",
        "    ./Data/LA_population.csv\n",
        "    \n",
        "Aquí, LA significa autoridad local, en lugar de Los Ángeles. \n",
        "Queremos unir la información contenida en este archivo con la velocidad promedio computada anteriormente.\n",
        "Primero, haga una nueva tabla y guarde estos datos en la base de datos InternetSpeed.\n",
        "\n",
        "###### a) Cree la tabla de la población.\n",
        "Con csvsql, importe el archivo LA_population.csv a la base de datos InternetSpeed. Repita los pasos realizados para crear las otras tablas en la base de datos."
      ]
    },
    {
      "cell_type": "code",
      "execution_count": null,
      "metadata": {
        "collapsed": true,
        "id": "1IfJxDNTF1OU"
      },
      "outputs": [],
      "source": [
        "# Code Cell 23\n",
        "#first close the database file, otherwise the external csvsql command cannot use\n",
        "conn.close()"
      ]
    },
    {
      "cell_type": "code",
      "execution_count": null,
      "metadata": {
        "collapsed": true,
        "id": "E9V1-O7NF1OU"
      },
      "outputs": [],
      "source": [
        "# Code Cell 24\n",
        "# use the external csvsql command to add to the DB file data from the CSV file\n",
        "#!csvsql --db sqlite:///...\n",
        "\n"
      ]
    },
    {
      "cell_type": "code",
      "execution_count": null,
      "metadata": {
        "collapsed": true,
        "id": "qog24LewF1OV"
      },
      "outputs": [],
      "source": [
        "# Code Cell 25\n",
        "#reopen the DB file\n",
        "#conn = sqlite3.connect(...)\n",
        "\n",
        "\n",
        "cur = conn.cursor()"
      ]
    },
    {
      "cell_type": "markdown",
      "metadata": {
        "id": "v7VaIXVIF1OV"
      },
      "source": [
        "###### b) Compruebe que todo haya funcionado.\n",
        "Para comprobar que todo haya funcionado y tener una idea de qué hay dentro de esta nueva tabla, seleccione las primeras 10 filas e imprímalas."
      ]
    },
    {
      "cell_type": "code",
      "execution_count": null,
      "metadata": {
        "collapsed": true,
        "id": "EQ-Bccq2F1OV"
      },
      "outputs": [],
      "source": [
        "# Code Cell 26\n",
        "#query = ?\n",
        "\n",
        "\n",
        "#cur.execute(?)\n",
        "\n",
        "\n",
        "\n",
        "for row in cur:\n",
        "    # print the first fetched record\n"
      ]
    },
    {
      "cell_type": "markdown",
      "metadata": {
        "id": "Bnos-xvpF1OV"
      },
      "source": [
        "Podemos unir las dos tablas para tener toda la información necesaria. La idea es que las dos tablas tengan un campo en común, el nombre del área. Esta es la clave sobre la que queremos unir. Esto significa que queremos una nueva tabla que tenga una fila para cada nombre de área que contenga información de velocidad promedio e información geográfica. La forma en que SQL lo hace es comparar fila por fila, y fusionar las filas con el mismo valor para la clave (es decir, el mismo nombre de área).\n",
        "\n",
        "###### c) Ejecute la consulta UNIR e imprima las primeras 10 filas del resultado. "
      ]
    },
    {
      "cell_type": "code",
      "execution_count": null,
      "metadata": {
        "collapsed": true,
        "id": "h9SJzPa-F1OV"
      },
      "outputs": [],
      "source": [
        "# Code Cell 27\n",
        "query = 'SELECT * FROM average_speed JOIN LA_population ON LA_population.\"LA_code\"=average_speed.Area'\n",
        "\n",
        "cur.execute(query)\n",
        "k = 0\n",
        "for row in cur:\n",
        "    if k>10:\n",
        "        break\n",
        "    #print ?\n",
        "    \n",
        "\n",
        "    \n",
        "    k+=1"
      ]
    },
    {
      "cell_type": "markdown",
      "metadata": {
        "collapsed": true,
        "id": "0Alvv1_sF1OW"
      },
      "source": [
        "<font size='0.5'>&copy; 2017 Cisco y/o sus filiales. Todos los derechos reservados. Este documento es información pública de Cisco.<font>"
      ]
    }
  ],
  "metadata": {
    "anaconda-cloud": {},
    "kernelspec": {
      "display_name": "Python 3",
      "language": "python",
      "name": "python3"
    },
    "language_info": {
      "codemirror_mode": {
        "name": "ipython",
        "version": 3
      },
      "file_extension": ".py",
      "mimetype": "text/x-python",
      "name": "python",
      "nbconvert_exporter": "python",
      "pygments_lexer": "ipython3",
      "version": "3.6.0"
    },
    "colab": {
      "provenance": [],
      "include_colab_link": true
    }
  },
  "nbformat": 4,
  "nbformat_minor": 0
}